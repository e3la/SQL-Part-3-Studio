{
    "metadata": {
        "kernelspec": {
            "name": "SQL",
            "display_name": "SQL",
            "language": "sql"
        },
        "language_info": {
            "name": "sql",
            "version": ""
        },
        "extensions": {
            "azuredatastudio": {
                "version": 1,
                "views": []
            }
        }
    },
    "nbformat_minor": 2,
    "nbformat": 4,
    "cells": [
        {
            "cell_type": "markdown",
            "source": [
                "# SQL Part 3 Studio\n",
                "\n",
                "### Let's practice your SQL quering skills!  For each question, work along in the notebook adding your query and answering the questions. \n",
                "\n",
                "### **DataSet**\n",
                "\n",
                "### <span style=\"font-size: 14px; font-family: -apple-system, BlinkMacSystemFont, sans-serif;\">We will be using the Goodbooks-10k dataset from the exercises in the prep work.&nbsp; Feel free reference your previous notebooks.</span>\n",
                "\n",
                "- The dataset can be found here: [goodbooks-10k](https://www.kaggle.com/zygmunt/goodbooks-10k)\n",
                "- You can access the **BooksDB** in the Launchcode server.\n",
                "\n",
                "### **Business Issue**\n",
                "\n",
                "You are an employee at a small independet bookstore and you have been tasked to increase sales.  You decide to use the BooksDB to find books and themes to highlight in fun promotions throughout each month / season.  We will be starting with March and then you will have a chance to explore another month of your choosing.  We want to come up with a list of events/ promotions to run each month.  If you are looking for ideas to include in your promotions:\n",
                "\n",
                "- [https://www.calendarr.com/united-states/calendar-2022/](https://www.calendarr.com/united-states/calendar-2022/)\n",
                "- [https://www.holidayinsights.com/moreholidays/](https://www.holidayinsights.com/moreholidays/)\n",
                "    - Click on a month and it will take you to a more detailed page"
            ],
            "metadata": {
                "azdata_cell_guid": "b9034d8a-b631-48bf-a895-1012a6ffa784"
            },
            "attachments": {}
        },
        {
            "cell_type": "markdown",
            "source": [
                "## Part 1:  March - Women's History Month, Dr Seuss Day(3/2), National Pie Day3/14, St Patrick's Day (3/17), Season - Spring"
            ],
            "metadata": {
                "azdata_cell_guid": "6e55eb1c-4a14-4076-90d2-95ed17a6309f"
            },
            "attachments": {}
        },
        {
            "cell_type": "markdown",
            "source": [
                "### **Event 1:** Women's History Month\n",
                "\n",
                "Goal: Highlight Popular Womans Authors based on ratings from the Good Reads DB.\n",
                "\n",
                "### **Write a query that returns tag\\_id, the number of times each tag\\_id is used and the tag\\_name.**  \n",
                "\n",
                "### Use the GROUP BY and HAVING clause to narrow your focus.\n",
                "\n",
                "Try multiple keywords, ie woman vs female (female ended up giving better results)"
            ],
            "metadata": {
                "azdata_cell_guid": "d220c097-e9cf-4edd-9abe-312d071217b7"
            },
            "attachments": {}
        },
        {
            "cell_type": "code",
            "source": [
                "-- Solution\r\n",
                "\r\n",
                "SELECT *\r\n",
                "FROM booksdb.dbo.tags\r\n",
                "WHERE tag_name LIKE '%women%';\r\n",
                "\r\n",
                "SELECT *\r\n",
                "FROM booksdb.dbo.tags\r\n",
                "WHERE tag_name LIKE '%female%';\r\n",
                "\r\n",
                "SELECT b.title, SUM(bt.count) AS total_count, bt.tag_id\r\n",
                "FROM BooksDB.dbo.books AS b\r\n",
                "JOIN BooksDB.dbo.book_tags AS bt ON b.best_book_id = bt.goodreads_book_id\r\n",
                "GROUP BY b.title, bt.tag_id\r\n",
                "HAVING bt.tag_id = 11644\r\n",
                "ORDER BY total_count DESC;"
            ],
            "metadata": {
                "azdata_cell_guid": "e31b9d26-0386-44c7-828e-85f4f06f3ee6",
                "language": "sql"
            },
            "outputs": [
                {
                    "output_type": "display_data",
                    "data": {
                        "text/html": "(92 rows affected)"
                    },
                    "metadata": {}
                },
                {
                    "output_type": "display_data",
                    "data": {
                        "text/html": "(35 rows affected)"
                    },
                    "metadata": {}
                },
                {
                    "output_type": "display_data",
                    "data": {
                        "text/html": "(703 rows affected)"
                    },
                    "metadata": {}
                },
                {
                    "output_type": "display_data",
                    "data": {
                        "text/html": "Total execution time: 00:00:00.484"
                    },
                    "metadata": {}
                },
                {
                    "output_type": "execute_result",
                    "metadata": {},
                    "execution_count": 39,
                    "data": {
                        "application/vnd.dataresource+json": {
                            "schema": {
                                "fields": [
                                    {
                                        "name": "tag_id"
                                    },
                                    {
                                        "name": "tag_name"
                                    }
                                ]
                            },
                            "data": [
                                {
                                    "tag_id": "452",
                                    "tag_name": "1960s-women-s-status"
                                },
                                {
                                    "tag_id": "891",
                                    "tag_name": "2017-read-women"
                                },
                                {
                                    "tag_id": "1082",
                                    "tag_name": "4-women-intertwined-stories"
                                },
                                {
                                    "tag_id": "1149",
                                    "tag_name": "500-women"
                                },
                                {
                                    "tag_id": "1503",
                                    "tag_name": "abused-women"
                                },
                                {
                                    "tag_id": "2824",
                                    "tag_name": "arab-women"
                                },
                                {
                                    "tag_id": "3162",
                                    "tag_name": "artist-women-bio"
                                },
                                {
                                    "tag_id": "3476",
                                    "tag_name": "australian-women-writers"
                                },
                                {
                                    "tag_id": "4603",
                                    "tag_name": "biographies-of-women"
                                },
                                {
                                    "tag_id": "4622",
                                    "tag_name": "biography-women"
                                },
                                {
                                    "tag_id": "5129",
                                    "tag_name": "books-by-women"
                                },
                                {
                                    "tag_id": "6038",
                                    "tag_name": "by-women"
                                },
                                {
                                    "tag_id": "6267",
                                    "tag_name": "career-women"
                                },
                                {
                                    "tag_id": "7033",
                                    "tag_name": "chinese-women"
                                },
                                {
                                    "tag_id": "7195",
                                    "tag_name": "christian-women"
                                },
                                {
                                    "tag_id": "7332",
                                    "tag_name": "cis-women"
                                },
                                {
                                    "tag_id": "10308",
                                    "tag_name": "education-for-women"
                                },
                                {
                                    "tag_id": "12328",
                                    "tag_name": "for-women"
                                },
                                {
                                    "tag_id": "12601",
                                    "tag_name": "friendship-women"
                                },
                                {
                                    "tag_id": "12694",
                                    "tag_name": "funny-women"
                                },
                                {
                                    "tag_id": "13810",
                                    "tag_name": "gutsy-women"
                                },
                                {
                                    "tag_id": "14494",
                                    "tag_name": "historical-fiction-civil-war-women"
                                },
                                {
                                    "tag_id": "15869",
                                    "tag_name": "islamic-women"
                                },
                                {
                                    "tag_id": "16121",
                                    "tag_name": "james-patterson-women-s-murder-cl"
                                },
                                {
                                    "tag_id": "16122",
                                    "tag_name": "james-patterson-women-s-murder-club"
                                },
                                {
                                    "tag_id": "16123",
                                    "tag_name": "james-patterson-womens-murder-club"
                                },
                                {
                                    "tag_id": "18423",
                                    "tag_name": "little-women"
                                },
                                {
                                    "tag_id": "19771",
                                    "tag_name": "men-women"
                                },
                                {
                                    "tag_id": "19772",
                                    "tag_name": "men-women-relations"
                                },
                                {
                                    "tag_id": "20722",
                                    "tag_name": "muslim-women"
                                },
                                {
                                    "tag_id": "22740",
                                    "tag_name": "own-written-by-women"
                                },
                                {
                                    "tag_id": "23124",
                                    "tag_name": "patterson-women-s-murder-club"
                                },
                                {
                                    "tag_id": "23125",
                                    "tag_name": "patterson-womens-murder-club"
                                },
                                {
                                    "tag_id": "23672",
                                    "tag_name": "pioneer-women"
                                },
                                {
                                    "tag_id": "23892",
                                    "tag_name": "policewomen"
                                },
                                {
                                    "tag_id": "25408",
                                    "tag_name": "readwomen2014"
                                },
                                {
                                    "tag_id": "25409",
                                    "tag_name": "readwomen2016"
                                },
                                {
                                    "tag_id": "27324",
                                    "tag_name": "series-women-of-the-otherworld"
                                },
                                {
                                    "tag_id": "27325",
                                    "tag_name": "series-womens-murder-club"
                                },
                                {
                                    "tag_id": "27824",
                                    "tag_name": "single-women"
                                },
                                {
                                    "tag_id": "28839",
                                    "tag_name": "strong-women"
                                },
                                {
                                    "tag_id": "29914",
                                    "tag_name": "the-life-of-women-in-royal-family-o"
                                },
                                {
                                    "tag_id": "32686",
                                    "tag_name": "women"
                                },
                                {
                                    "tag_id": "32687",
                                    "tag_name": "women-and-religion"
                                },
                                {
                                    "tag_id": "32688",
                                    "tag_name": "women-authors"
                                },
                                {
                                    "tag_id": "32689",
                                    "tag_name": "women-entrepeneurs"
                                },
                                {
                                    "tag_id": "32690",
                                    "tag_name": "women-feminism"
                                },
                                {
                                    "tag_id": "32691",
                                    "tag_name": "women-fiction"
                                },
                                {
                                    "tag_id": "32692",
                                    "tag_name": "women-friends"
                                },
                                {
                                    "tag_id": "32693",
                                    "tag_name": "women-friendships"
                                },
                                {
                                    "tag_id": "32694",
                                    "tag_name": "women-in-medicine"
                                },
                                {
                                    "tag_id": "32695",
                                    "tag_name": "women-in-translation"
                                },
                                {
                                    "tag_id": "32696",
                                    "tag_name": "women-in-war"
                                },
                                {
                                    "tag_id": "32697",
                                    "tag_name": "women-literature"
                                },
                                {
                                    "tag_id": "32698",
                                    "tag_name": "women-murder-club"
                                },
                                {
                                    "tag_id": "32699",
                                    "tag_name": "women-of-a-certain-age"
                                },
                                {
                                    "tag_id": "32700",
                                    "tag_name": "women-of-color"
                                },
                                {
                                    "tag_id": "32701",
                                    "tag_name": "women-of-faith"
                                },
                                {
                                    "tag_id": "32702",
                                    "tag_name": "women-of-the-otherworld"
                                },
                                {
                                    "tag_id": "32703",
                                    "tag_name": "women-of-the-otherworld-series"
                                },
                                {
                                    "tag_id": "32704",
                                    "tag_name": "women-of-the-underworld"
                                },
                                {
                                    "tag_id": "32705",
                                    "tag_name": "women-read"
                                },
                                {
                                    "tag_id": "32706",
                                    "tag_name": "women-s"
                                },
                                {
                                    "tag_id": "32707",
                                    "tag_name": "women-s-bible-study"
                                },
                                {
                                    "tag_id": "32708",
                                    "tag_name": "women-s-fiction"
                                },
                                {
                                    "tag_id": "32709",
                                    "tag_name": "women-s-health"
                                },
                                {
                                    "tag_id": "32710",
                                    "tag_name": "women-s-history"
                                },
                                {
                                    "tag_id": "32711",
                                    "tag_name": "women-s-issues"
                                },
                                {
                                    "tag_id": "32712",
                                    "tag_name": "women-s-lit"
                                },
                                {
                                    "tag_id": "32713",
                                    "tag_name": "women-s-literature"
                                },
                                {
                                    "tag_id": "32714",
                                    "tag_name": "women-s-ministry"
                                },
                                {
                                    "tag_id": "32715",
                                    "tag_name": "women-s-murder"
                                },
                                {
                                    "tag_id": "32716",
                                    "tag_name": "women-s-murder-club"
                                },
                                {
                                    "tag_id": "32717",
                                    "tag_name": "women-s-murder-club-series"
                                },
                                {
                                    "tag_id": "32718",
                                    "tag_name": "women-s-prize-for-fiction"
                                },
                                {
                                    "tag_id": "32719",
                                    "tag_name": "women-s-rights"
                                },
                                {
                                    "tag_id": "32720",
                                    "tag_name": "women-s-studies"
                                },
                                {
                                    "tag_id": "32721",
                                    "tag_name": "women-studies"
                                },
                                {
                                    "tag_id": "32722",
                                    "tag_name": "women-words-wine"
                                },
                                {
                                    "tag_id": "32723",
                                    "tag_name": "women-write-big-books"
                                },
                                {
                                    "tag_id": "32724",
                                    "tag_name": "women-writers"
                                },
                                {
                                    "tag_id": "32725",
                                    "tag_name": "womens"
                                },
                                {
                                    "tag_id": "32726",
                                    "tag_name": "womens-fiction"
                                },
                                {
                                    "tag_id": "32727",
                                    "tag_name": "womens-fiction-chick-lit"
                                },
                                {
                                    "tag_id": "32728",
                                    "tag_name": "womens-health"
                                },
                                {
                                    "tag_id": "32729",
                                    "tag_name": "womens-issues"
                                },
                                {
                                    "tag_id": "32730",
                                    "tag_name": "womens-lit"
                                },
                                {
                                    "tag_id": "32731",
                                    "tag_name": "womens-lit-to-read"
                                },
                                {
                                    "tag_id": "32732",
                                    "tag_name": "womens-murder-club"
                                },
                                {
                                    "tag_id": "32733",
                                    "tag_name": "womens-murder-club-series"
                                },
                                {
                                    "tag_id": "32734",
                                    "tag_name": "womens-stories"
                                },
                                {
                                    "tag_id": "32735",
                                    "tag_name": "womens-studies"
                                }
                            ]
                        },
                        "text/html": [
                            "<table>",
                            "<tr><th>tag_id</th><th>tag_name</th></tr>",
                            "<tr><td>452</td><td>1960s-women-s-status</td></tr>",
                            "<tr><td>891</td><td>2017-read-women</td></tr>",
                            "<tr><td>1082</td><td>4-women-intertwined-stories</td></tr>",
                            "<tr><td>1149</td><td>500-women</td></tr>",
                            "<tr><td>1503</td><td>abused-women</td></tr>",
                            "<tr><td>2824</td><td>arab-women</td></tr>",
                            "<tr><td>3162</td><td>artist-women-bio</td></tr>",
                            "<tr><td>3476</td><td>australian-women-writers</td></tr>",
                            "<tr><td>4603</td><td>biographies-of-women</td></tr>",
                            "<tr><td>4622</td><td>biography-women</td></tr>",
                            "<tr><td>5129</td><td>books-by-women</td></tr>",
                            "<tr><td>6038</td><td>by-women</td></tr>",
                            "<tr><td>6267</td><td>career-women</td></tr>",
                            "<tr><td>7033</td><td>chinese-women</td></tr>",
                            "<tr><td>7195</td><td>christian-women</td></tr>",
                            "<tr><td>7332</td><td>cis-women</td></tr>",
                            "<tr><td>10308</td><td>education-for-women</td></tr>",
                            "<tr><td>12328</td><td>for-women</td></tr>",
                            "<tr><td>12601</td><td>friendship-women</td></tr>",
                            "<tr><td>12694</td><td>funny-women</td></tr>",
                            "<tr><td>13810</td><td>gutsy-women</td></tr>",
                            "<tr><td>14494</td><td>historical-fiction-civil-war-women</td></tr>",
                            "<tr><td>15869</td><td>islamic-women</td></tr>",
                            "<tr><td>16121</td><td>james-patterson-women-s-murder-cl</td></tr>",
                            "<tr><td>16122</td><td>james-patterson-women-s-murder-club</td></tr>",
                            "<tr><td>16123</td><td>james-patterson-womens-murder-club</td></tr>",
                            "<tr><td>18423</td><td>little-women</td></tr>",
                            "<tr><td>19771</td><td>men-women</td></tr>",
                            "<tr><td>19772</td><td>men-women-relations</td></tr>",
                            "<tr><td>20722</td><td>muslim-women</td></tr>",
                            "<tr><td>22740</td><td>own-written-by-women</td></tr>",
                            "<tr><td>23124</td><td>patterson-women-s-murder-club</td></tr>",
                            "<tr><td>23125</td><td>patterson-womens-murder-club</td></tr>",
                            "<tr><td>23672</td><td>pioneer-women</td></tr>",
                            "<tr><td>23892</td><td>policewomen</td></tr>",
                            "<tr><td>25408</td><td>readwomen2014</td></tr>",
                            "<tr><td>25409</td><td>readwomen2016</td></tr>",
                            "<tr><td>27324</td><td>series-women-of-the-otherworld</td></tr>",
                            "<tr><td>27325</td><td>series-womens-murder-club</td></tr>",
                            "<tr><td>27824</td><td>single-women</td></tr>",
                            "<tr><td>28839</td><td>strong-women</td></tr>",
                            "<tr><td>29914</td><td>the-life-of-women-in-royal-family-o</td></tr>",
                            "<tr><td>32686</td><td>women</td></tr>",
                            "<tr><td>32687</td><td>women-and-religion</td></tr>",
                            "<tr><td>32688</td><td>women-authors</td></tr>",
                            "<tr><td>32689</td><td>women-entrepeneurs</td></tr>",
                            "<tr><td>32690</td><td>women-feminism</td></tr>",
                            "<tr><td>32691</td><td>women-fiction</td></tr>",
                            "<tr><td>32692</td><td>women-friends</td></tr>",
                            "<tr><td>32693</td><td>women-friendships</td></tr>",
                            "<tr><td>32694</td><td>women-in-medicine</td></tr>",
                            "<tr><td>32695</td><td>women-in-translation</td></tr>",
                            "<tr><td>32696</td><td>women-in-war</td></tr>",
                            "<tr><td>32697</td><td>women-literature</td></tr>",
                            "<tr><td>32698</td><td>women-murder-club</td></tr>",
                            "<tr><td>32699</td><td>women-of-a-certain-age</td></tr>",
                            "<tr><td>32700</td><td>women-of-color</td></tr>",
                            "<tr><td>32701</td><td>women-of-faith</td></tr>",
                            "<tr><td>32702</td><td>women-of-the-otherworld</td></tr>",
                            "<tr><td>32703</td><td>women-of-the-otherworld-series</td></tr>",
                            "<tr><td>32704</td><td>women-of-the-underworld</td></tr>",
                            "<tr><td>32705</td><td>women-read</td></tr>",
                            "<tr><td>32706</td><td>women-s</td></tr>",
                            "<tr><td>32707</td><td>women-s-bible-study</td></tr>",
                            "<tr><td>32708</td><td>women-s-fiction</td></tr>",
                            "<tr><td>32709</td><td>women-s-health</td></tr>",
                            "<tr><td>32710</td><td>women-s-history</td></tr>",
                            "<tr><td>32711</td><td>women-s-issues</td></tr>",
                            "<tr><td>32712</td><td>women-s-lit</td></tr>",
                            "<tr><td>32713</td><td>women-s-literature</td></tr>",
                            "<tr><td>32714</td><td>women-s-ministry</td></tr>",
                            "<tr><td>32715</td><td>women-s-murder</td></tr>",
                            "<tr><td>32716</td><td>women-s-murder-club</td></tr>",
                            "<tr><td>32717</td><td>women-s-murder-club-series</td></tr>",
                            "<tr><td>32718</td><td>women-s-prize-for-fiction</td></tr>",
                            "<tr><td>32719</td><td>women-s-rights</td></tr>",
                            "<tr><td>32720</td><td>women-s-studies</td></tr>",
                            "<tr><td>32721</td><td>women-studies</td></tr>",
                            "<tr><td>32722</td><td>women-words-wine</td></tr>",
                            "<tr><td>32723</td><td>women-write-big-books</td></tr>",
                            "<tr><td>32724</td><td>women-writers</td></tr>",
                            "<tr><td>32725</td><td>womens</td></tr>",
                            "<tr><td>32726</td><td>womens-fiction</td></tr>",
                            "<tr><td>32727</td><td>womens-fiction-chick-lit</td></tr>",
                            "<tr><td>32728</td><td>womens-health</td></tr>",
                            "<tr><td>32729</td><td>womens-issues</td></tr>",
                            "<tr><td>32730</td><td>womens-lit</td></tr>",
                            "<tr><td>32731</td><td>womens-lit-to-read</td></tr>",
                            "<tr><td>32732</td><td>womens-murder-club</td></tr>",
                            "<tr><td>32733</td><td>womens-murder-club-series</td></tr>",
                            "<tr><td>32734</td><td>womens-stories</td></tr>",
                            "<tr><td>32735</td><td>womens-studies</td></tr>",
                            "</table>"
                        ]
                    }
                },
                {
                    "output_type": "execute_result",
                    "metadata": {},
                    "execution_count": 39,
                    "data": {
                        "application/vnd.dataresource+json": {
                            "schema": {
                                "fields": [
                                    {
                                        "name": "tag_id"
                                    },
                                    {
                                        "name": "tag_name"
                                    }
                                ]
                            },
                            "data": [
                                {
                                    "tag_id": "1741",
                                    "tag_name": "afghan-female-entrepreneur-under-ta"
                                },
                                {
                                    "tag_id": "3514",
                                    "tag_name": "author-female"
                                },
                                {
                                    "tag_id": "4309",
                                    "tag_name": "best-adult-female-friendship-books"
                                },
                                {
                                    "tag_id": "11642",
                                    "tag_name": "female"
                                },
                                {
                                    "tag_id": "11643",
                                    "tag_name": "female-author"
                                },
                                {
                                    "tag_id": "11644",
                                    "tag_name": "female-authors"
                                },
                                {
                                    "tag_id": "11645",
                                    "tag_name": "female-biographies"
                                },
                                {
                                    "tag_id": "11646",
                                    "tag_name": "female-detective"
                                },
                                {
                                    "tag_id": "11647",
                                    "tag_name": "female-detectives"
                                },
                                {
                                    "tag_id": "11648",
                                    "tag_name": "female-doctor"
                                },
                                {
                                    "tag_id": "11649",
                                    "tag_name": "female-fiction"
                                },
                                {
                                    "tag_id": "11650",
                                    "tag_name": "female-friendship"
                                },
                                {
                                    "tag_id": "11651",
                                    "tag_name": "female-genre-authors"
                                },
                                {
                                    "tag_id": "11652",
                                    "tag_name": "female-lead"
                                },
                                {
                                    "tag_id": "11653",
                                    "tag_name": "female-main-character"
                                },
                                {
                                    "tag_id": "11654",
                                    "tag_name": "female-persuasion"
                                },
                                {
                                    "tag_id": "11655",
                                    "tag_name": "female-pi"
                                },
                                {
                                    "tag_id": "11656",
                                    "tag_name": "female-pov"
                                },
                                {
                                    "tag_id": "11657",
                                    "tag_name": "female-povs"
                                },
                                {
                                    "tag_id": "11658",
                                    "tag_name": "female-protagonist"
                                },
                                {
                                    "tag_id": "11659",
                                    "tag_name": "female-serial-killer"
                                },
                                {
                                    "tag_id": "11660",
                                    "tag_name": "female-spy"
                                },
                                {
                                    "tag_id": "11661",
                                    "tag_name": "female-writer"
                                },
                                {
                                    "tag_id": "11662",
                                    "tag_name": "female-writers"
                                },
                                {
                                    "tag_id": "15331",
                                    "tag_name": "important-female-authors"
                                },
                                {
                                    "tag_id": "17079",
                                    "tag_name": "kick-ass-female"
                                },
                                {
                                    "tag_id": "24455",
                                    "tag_name": "protagonist-female"
                                },
                                {
                                    "tag_id": "28830",
                                    "tag_name": "strong-female"
                                },
                                {
                                    "tag_id": "28831",
                                    "tag_name": "strong-female-character"
                                },
                                {
                                    "tag_id": "28832",
                                    "tag_name": "strong-female-character-s"
                                },
                                {
                                    "tag_id": "28833",
                                    "tag_name": "strong-female-characters"
                                },
                                {
                                    "tag_id": "28834",
                                    "tag_name": "strong-female-lead"
                                },
                                {
                                    "tag_id": "28835",
                                    "tag_name": "strong-female-protagonist"
                                },
                                {
                                    "tag_id": "28836",
                                    "tag_name": "strong-female-supporting-characters"
                                },
                                {
                                    "tag_id": "29324",
                                    "tag_name": "tbr-ax-female"
                                }
                            ]
                        },
                        "text/html": [
                            "<table>",
                            "<tr><th>tag_id</th><th>tag_name</th></tr>",
                            "<tr><td>1741</td><td>afghan-female-entrepreneur-under-ta</td></tr>",
                            "<tr><td>3514</td><td>author-female</td></tr>",
                            "<tr><td>4309</td><td>best-adult-female-friendship-books</td></tr>",
                            "<tr><td>11642</td><td>female</td></tr>",
                            "<tr><td>11643</td><td>female-author</td></tr>",
                            "<tr><td>11644</td><td>female-authors</td></tr>",
                            "<tr><td>11645</td><td>female-biographies</td></tr>",
                            "<tr><td>11646</td><td>female-detective</td></tr>",
                            "<tr><td>11647</td><td>female-detectives</td></tr>",
                            "<tr><td>11648</td><td>female-doctor</td></tr>",
                            "<tr><td>11649</td><td>female-fiction</td></tr>",
                            "<tr><td>11650</td><td>female-friendship</td></tr>",
                            "<tr><td>11651</td><td>female-genre-authors</td></tr>",
                            "<tr><td>11652</td><td>female-lead</td></tr>",
                            "<tr><td>11653</td><td>female-main-character</td></tr>",
                            "<tr><td>11654</td><td>female-persuasion</td></tr>",
                            "<tr><td>11655</td><td>female-pi</td></tr>",
                            "<tr><td>11656</td><td>female-pov</td></tr>",
                            "<tr><td>11657</td><td>female-povs</td></tr>",
                            "<tr><td>11658</td><td>female-protagonist</td></tr>",
                            "<tr><td>11659</td><td>female-serial-killer</td></tr>",
                            "<tr><td>11660</td><td>female-spy</td></tr>",
                            "<tr><td>11661</td><td>female-writer</td></tr>",
                            "<tr><td>11662</td><td>female-writers</td></tr>",
                            "<tr><td>15331</td><td>important-female-authors</td></tr>",
                            "<tr><td>17079</td><td>kick-ass-female</td></tr>",
                            "<tr><td>24455</td><td>protagonist-female</td></tr>",
                            "<tr><td>28830</td><td>strong-female</td></tr>",
                            "<tr><td>28831</td><td>strong-female-character</td></tr>",
                            "<tr><td>28832</td><td>strong-female-character-s</td></tr>",
                            "<tr><td>28833</td><td>strong-female-characters</td></tr>",
                            "<tr><td>28834</td><td>strong-female-lead</td></tr>",
                            "<tr><td>28835</td><td>strong-female-protagonist</td></tr>",
                            "<tr><td>28836</td><td>strong-female-supporting-characters</td></tr>",
                            "<tr><td>29324</td><td>tbr-ax-female</td></tr>",
                            "</table>"
                        ]
                    }
                },
                {
                    "output_type": "execute_result",
                    "metadata": {},
                    "execution_count": 39,
                    "data": {
                        "application/vnd.dataresource+json": {
                            "schema": {
                                "fields": [
                                    {
                                        "name": "title"
                                    },
                                    {
                                        "name": "total_count"
                                    },
                                    {
                                        "name": "tag_id"
                                    }
                                ]
                            },
                            "data": [
                                {
                                    "title": "The Handmaid's Tale",
                                    "total_count": "214",
                                    "tag_id": "11644"
                                },
                                {
                                    "title": "Jane Eyre",
                                    "total_count": "170",
                                    "tag_id": "11644"
                                },
                                {
                                    "title": "Wuthering Heights",
                                    "total_count": "158",
                                    "tag_id": "11644"
                                },
                                {
                                    "title": "Frankenstein",
                                    "total_count": "146",
                                    "tag_id": "11644"
                                },
                                {
                                    "title": "The Diary of a Young Girl",
                                    "total_count": "128",
                                    "tag_id": "11644"
                                },
                                {
                                    "title": "Little Women (Little Women, #1)",
                                    "total_count": "120",
                                    "tag_id": "11644"
                                },
                                {
                                    "title": "Beloved",
                                    "total_count": "106",
                                    "tag_id": "11644"
                                },
                                {
                                    "title": "Sense and Sensibility",
                                    "total_count": "102",
                                    "tag_id": "11644"
                                },
                                {
                                    "title": "The Lovely Bones",
                                    "total_count": "93",
                                    "tag_id": "11644"
                                },
                                {
                                    "title": "Americanah",
                                    "total_count": "93",
                                    "tag_id": "11644"
                                },
                                {
                                    "title": "Mrs. Dalloway",
                                    "total_count": "90",
                                    "tag_id": "11644"
                                },
                                {
                                    "title": "Emma",
                                    "total_count": "89",
                                    "tag_id": "11644"
                                },
                                {
                                    "title": "The Goldfinch",
                                    "total_count": "89",
                                    "tag_id": "11644"
                                },
                                {
                                    "title": "Room",
                                    "total_count": "84",
                                    "tag_id": "11644"
                                },
                                {
                                    "title": "Bossypants",
                                    "total_count": "82",
                                    "tag_id": "11644"
                                },
                                {
                                    "title": "The Secret History",
                                    "total_count": "81",
                                    "tag_id": "11644"
                                },
                                {
                                    "title": "Their Eyes Were Watching God",
                                    "total_count": "76",
                                    "tag_id": "11644"
                                },
                                {
                                    "title": "Oryx and Crake (MaddAddam, #1)",
                                    "total_count": "76",
                                    "tag_id": "11644"
                                },
                                {
                                    "title": "I Know Why the Caged Bird Sings",
                                    "total_count": "75",
                                    "tag_id": "11644"
                                },
                                {
                                    "title": "To the Lighthouse",
                                    "total_count": "72",
                                    "tag_id": "11644"
                                },
                                {
                                    "title": "Persuasion",
                                    "total_count": "71",
                                    "tag_id": "11644"
                                },
                                {
                                    "title": "Yes Please",
                                    "total_count": "67",
                                    "tag_id": "11644"
                                },
                                {
                                    "title": "White Teeth",
                                    "total_count": "66",
                                    "tag_id": "11644"
                                },
                                {
                                    "title": "Northanger Abbey",
                                    "total_count": "66",
                                    "tag_id": "11644"
                                },
                                {
                                    "title": "Station Eleven",
                                    "total_count": "64",
                                    "tag_id": "11644"
                                },
                                {
                                    "title": "The Awakening",
                                    "total_count": "64",
                                    "tag_id": "11644"
                                },
                                {
                                    "title": "The Bluest Eye",
                                    "total_count": "63",
                                    "tag_id": "11644"
                                },
                                {
                                    "title": "Water for Elephants",
                                    "total_count": "63",
                                    "tag_id": "11644"
                                },
                                {
                                    "title": "The Secret Life of Bees",
                                    "total_count": "63",
                                    "tag_id": "11644"
                                },
                                {
                                    "title": "Interview with the Vampire (The Vampire Chronicles, #1)",
                                    "total_count": "62",
                                    "tag_id": "11644"
                                },
                                {
                                    "title": "Kindred",
                                    "total_count": "62",
                                    "tag_id": "11644"
                                },
                                {
                                    "title": "A Room of One's Own",
                                    "total_count": "62",
                                    "tag_id": "11644"
                                },
                                {
                                    "title": "A Tree Grows in Brooklyn",
                                    "total_count": "60",
                                    "tag_id": "11644"
                                },
                                {
                                    "title": "The God of Small Things",
                                    "total_count": "60",
                                    "tag_id": "11644"
                                },
                                {
                                    "title": "The Joy Luck Club",
                                    "total_count": "60",
                                    "tag_id": "11644"
                                },
                                {
                                    "title": "The Poisonwood Bible",
                                    "total_count": "59",
                                    "tag_id": "11644"
                                },
                                {
                                    "title": "The Left Hand of Darkness",
                                    "total_count": "58",
                                    "tag_id": "11644"
                                },
                                {
                                    "title": "The Blind Assassin",
                                    "total_count": "58",
                                    "tag_id": "11644"
                                },
                                {
                                    "title": "Jonathan Strange & Mr Norrell",
                                    "total_count": "58",
                                    "tag_id": "11644"
                                },
                                {
                                    "title": "Is Everyone Hanging Out Without Me? (And Other Concerns)",
                                    "total_count": "58",
                                    "tag_id": "11644"
                                },
                                {
                                    "title": "Interpreter of Maladies",
                                    "total_count": "57",
                                    "tag_id": "11644"
                                },
                                {
                                    "title": "The Age of Innocence",
                                    "total_count": "57",
                                    "tag_id": "11644"
                                },
                                {
                                    "title": "Bad Feminist",
                                    "total_count": "56",
                                    "tag_id": "11644"
                                },
                                {
                                    "title": "Bridget Jones's Diary (Bridget Jones, #1)",
                                    "total_count": "56",
                                    "tag_id": "11644"
                                },
                                {
                                    "title": "We Have Always Lived in the Castle",
                                    "total_count": "56",
                                    "tag_id": "11644"
                                },
                                {
                                    "title": "The Complete Persepolis",
                                    "total_count": "54",
                                    "tag_id": "11644"
                                },
                                {
                                    "title": "The House of the Spirits",
                                    "total_count": "52",
                                    "tag_id": "11644"
                                },
                                {
                                    "title": "Orlando",
                                    "total_count": "52",
                                    "tag_id": "11644"
                                },
                                {
                                    "title": "A Wizard of Earthsea (Earthsea Cycle, #1)",
                                    "total_count": "51",
                                    "tag_id": "11644"
                                },
                                {
                                    "title": "A Tale for the Time Being",
                                    "total_count": "51",
                                    "tag_id": "11644"
                                },
                                {
                                    "title": "Mansfield Park",
                                    "total_count": "50",
                                    "tag_id": "11644"
                                },
                                {
                                    "title": "The Haunting of Hill House",
                                    "total_count": "49",
                                    "tag_id": "11644"
                                },
                                {
                                    "title": "A Visit from the Goon Squad",
                                    "total_count": "48",
                                    "tag_id": "11644"
                                },
                                {
                                    "title": "Howl's Moving Castle (Howl's Moving Castle, #1)",
                                    "total_count": "47",
                                    "tag_id": "11644"
                                },
                                {
                                    "title": "Men Explain Things to Me",
                                    "total_count": "43",
                                    "tag_id": "11644"
                                },
                                {
                                    "title": "Middlemarch",
                                    "total_count": "43",
                                    "tag_id": "11644"
                                },
                                {
                                    "title": "The Bloody Chamber and Other Stories",
                                    "total_count": "43",
                                    "tag_id": "11644"
                                },
                                {
                                    "title": "The House on Mango Street",
                                    "total_count": "43",
                                    "tag_id": "11644"
                                },
                                {
                                    "title": "The Year of the Flood  (MaddAddam, #2)",
                                    "total_count": "43",
                                    "tag_id": "11644"
                                },
                                {
                                    "title": "The Heart is a Lonely Hunter",
                                    "total_count": "42",
                                    "tag_id": "11644"
                                },
                                {
                                    "title": "North and South",
                                    "total_count": "42",
                                    "tag_id": "11644"
                                },
                                {
                                    "title": "Persepolis: The Story of a Childhood (Persepolis, #1)",
                                    "total_count": "42",
                                    "tag_id": "11644"
                                },
                                {
                                    "title": "Oranges Are Not the Only Fruit",
                                    "total_count": "41",
                                    "tag_id": "11644"
                                },
                                {
                                    "title": "Nimona",
                                    "total_count": "41",
                                    "tag_id": "11644"
                                },
                                {
                                    "title": "Song of Solomon",
                                    "total_count": "41",
                                    "tag_id": "11644"
                                },
                                {
                                    "title": "Homegoing",
                                    "total_count": "41",
                                    "tag_id": "11644"
                                },
                                {
                                    "title": "Fantastic Beasts and Where to Find Them",
                                    "total_count": "41",
                                    "tag_id": "11644"
                                },
                                {
                                    "title": "Wolf Hall (Thomas Cromwell, #1)",
                                    "total_count": "41",
                                    "tag_id": "11644"
                                },
                                {
                                    "title": "The Song of Achilles",
                                    "total_count": "40",
                                    "tag_id": "11644"
                                },
                                {
                                    "title": "I Am Malala: The Story of the Girl Who Stood Up for Education and Was Shot by the Taliban",
                                    "total_count": "40",
                                    "tag_id": "11644"
                                },
                                {
                                    "title": "Hyperbole and a Half: Unfortunate Situations, Flawed Coping Mechanisms, Mayhem, and Other Things That Happened",
                                    "total_count": "40",
                                    "tag_id": "11644"
                                },
                                {
                                    "title": "In the Woods (Dublin Murder Squad, #1)",
                                    "total_count": "40",
                                    "tag_id": "11644"
                                },
                                {
                                    "title": "The Luminaries",
                                    "total_count": "40",
                                    "tag_id": "11644"
                                },
                                {
                                    "title": "Just Kids",
                                    "total_count": "39",
                                    "tag_id": "11644"
                                },
                                {
                                    "title": "My Ántonia",
                                    "total_count": "39",
                                    "tag_id": "11644"
                                },
                                {
                                    "title": "The Tenant of Wildfell Hall",
                                    "total_count": "39",
                                    "tag_id": "11644"
                                },
                                {
                                    "title": "The Sisterhood of the Traveling Pants (Sisterhood, #1)",
                                    "total_count": "38",
                                    "tag_id": "11644"
                                },
                                {
                                    "title": "Milk and Honey",
                                    "total_count": "38",
                                    "tag_id": "11644"
                                },
                                {
                                    "title": "The Mists of Avalon (Avalon, #1)",
                                    "total_count": "37",
                                    "tag_id": "11644"
                                },
                                {
                                    "title": "The Namesake",
                                    "total_count": "37",
                                    "tag_id": "11644"
                                },
                                {
                                    "title": "Sula",
                                    "total_count": "37",
                                    "tag_id": "11644"
                                },
                                {
                                    "title": "Not That Kind of Girl: A Young Woman Tells You What She's \"Learned\"",
                                    "total_count": "37",
                                    "tag_id": "11644"
                                },
                                {
                                    "title": "On Beauty",
                                    "total_count": "37",
                                    "tag_id": "11644"
                                },
                                {
                                    "title": "The Yellow Wallpaper and Other Stories",
                                    "total_count": "37",
                                    "tag_id": "11644"
                                },
                                {
                                    "title": "The Vegetarian",
                                    "total_count": "36",
                                    "tag_id": "11644"
                                },
                                {
                                    "title": "The House of Mirth",
                                    "total_count": "36",
                                    "tag_id": "11644"
                                },
                                {
                                    "title": "The Golden Notebook",
                                    "total_count": "36",
                                    "tag_id": "11644"
                                },
                                {
                                    "title": "The Golem and the Jinni (The Golem and the Jinni, #1)",
                                    "total_count": "36",
                                    "tag_id": "11644"
                                },
                                {
                                    "title": "Like Water for Chocolate",
                                    "total_count": "36",
                                    "tag_id": "11644"
                                },
                                {
                                    "title": "How to Be a Woman",
                                    "total_count": "36",
                                    "tag_id": "11644"
                                },
                                {
                                    "title": "Girl, Interrupted",
                                    "total_count": "36",
                                    "tag_id": "11644"
                                },
                                {
                                    "title": "Parable of the Sower (Earthseed, #1)",
                                    "total_count": "35",
                                    "tag_id": "11644"
                                },
                                {
                                    "title": "Stiff: The Curious Lives of Human Cadavers",
                                    "total_count": "35",
                                    "tag_id": "11644"
                                },
                                {
                                    "title": "The Year of Magical Thinking",
                                    "total_count": "35",
                                    "tag_id": "11644"
                                },
                                {
                                    "title": "Uncle Tom's Cabin",
                                    "total_count": "35",
                                    "tag_id": "11644"
                                },
                                {
                                    "title": "The Color Purple",
                                    "total_count": "34",
                                    "tag_id": "11644"
                                },
                                {
                                    "title": "Girl with a Pearl Earring",
                                    "total_count": "34",
                                    "tag_id": "11644"
                                },
                                {
                                    "title": "Fried Green Tomatoes at the Whistle Stop Cafe",
                                    "total_count": "33",
                                    "tag_id": "11644"
                                },
                                {
                                    "title": "MaddAddam (MaddAddam, #3)",
                                    "total_count": "33",
                                    "tag_id": "11644"
                                },
                                {
                                    "title": "Alanna: The First Adventure (Song of the Lioness, #1)",
                                    "total_count": "33",
                                    "tag_id": "11644"
                                },
                                {
                                    "title": "Ariel",
                                    "total_count": "33",
                                    "tag_id": "11644"
                                },
                                {
                                    "title": "The Girls",
                                    "total_count": "33",
                                    "tag_id": "11644"
                                },
                                {
                                    "title": "Purple Hibiscus",
                                    "total_count": "33",
                                    "tag_id": "11644"
                                },
                                {
                                    "title": "We Are All Completely Beside Ourselves",
                                    "total_count": "33",
                                    "tag_id": "11644"
                                },
                                {
                                    "title": "The Second Sex",
                                    "total_count": "32",
                                    "tag_id": "11644"
                                },
                                {
                                    "title": "A Little Life",
                                    "total_count": "32",
                                    "tag_id": "11644"
                                },
                                {
                                    "title": "Agnes Grey",
                                    "total_count": "31",
                                    "tag_id": "11644"
                                },
                                {
                                    "title": "Burial Rites",
                                    "total_count": "31",
                                    "tag_id": "11644"
                                },
                                {
                                    "title": "Cat's Eye",
                                    "total_count": "31",
                                    "tag_id": "11644"
                                },
                                {
                                    "title": "Reading Lolita in Tehran",
                                    "total_count": "31",
                                    "tag_id": "11644"
                                },
                                {
                                    "title": "Swamplandia!",
                                    "total_count": "31",
                                    "tag_id": "11644"
                                },
                                {
                                    "title": "The Good Earth (House of Earth, #1)",
                                    "total_count": "31",
                                    "tag_id": "11644"
                                },
                                {
                                    "title": "The Edible Woman",
                                    "total_count": "31",
                                    "tag_id": "11644"
                                },
                                {
                                    "title": "The Dispossessed",
                                    "total_count": "31",
                                    "tag_id": "11644"
                                },
                                {
                                    "title": "The Lowland",
                                    "total_count": "31",
                                    "tag_id": "11644"
                                },
                                {
                                    "title": "The Prime of Miss Jean Brodie",
                                    "total_count": "31",
                                    "tag_id": "11644"
                                },
                                {
                                    "title": "The Vampire Lestat (The Vampire Chronicles, #2)",
                                    "total_count": "31",
                                    "tag_id": "11644"
                                },
                                {
                                    "title": "The Talented Mr. Ripley (Ripley, #1)",
                                    "total_count": "30",
                                    "tag_id": "11644"
                                },
                                {
                                    "title": "Villette",
                                    "total_count": "30",
                                    "tag_id": "11644"
                                },
                                {
                                    "title": "The Life-Changing Magic of Tidying Up: The Japanese Art of Decluttering and Organizing",
                                    "total_count": "30",
                                    "tag_id": "11644"
                                },
                                {
                                    "title": "Kitchen",
                                    "total_count": "30",
                                    "tag_id": "11644"
                                },
                                {
                                    "title": "Gilead (Gilead, #1)",
                                    "total_count": "30",
                                    "tag_id": "11644"
                                },
                                {
                                    "title": "Go Ask Alice",
                                    "total_count": "29",
                                    "tag_id": "11644"
                                },
                                {
                                    "title": "Fates and Furies",
                                    "total_count": "29",
                                    "tag_id": "11644"
                                },
                                {
                                    "title": "Everything I Never Told You",
                                    "total_count": "29",
                                    "tag_id": "11644"
                                },
                                {
                                    "title": "Ancillary Justice (Imperial Radch #1)",
                                    "total_count": "29",
                                    "tag_id": "11644"
                                },
                                {
                                    "title": "Are You There God? It's Me, Margaret",
                                    "total_count": "29",
                                    "tag_id": "11644"
                                },
                                {
                                    "title": "Black Beauty",
                                    "total_count": "29",
                                    "tag_id": "11644"
                                },
                                {
                                    "title": "The Girl Who Circumnavigated Fairyland in a Ship of Her Own Making (Fairyland, #1)",
                                    "total_count": "29",
                                    "tag_id": "11644"
                                },
                                {
                                    "title": "The Fountainhead",
                                    "total_count": "29",
                                    "tag_id": "11644"
                                },
                                {
                                    "title": "We Should All Be Feminists",
                                    "total_count": "29",
                                    "tag_id": "11644"
                                },
                                {
                                    "title": "Through the Woods",
                                    "total_count": "28",
                                    "tag_id": "11644"
                                },
                                {
                                    "title": "The Robber Bride",
                                    "total_count": "28",
                                    "tag_id": "11644"
                                },
                                {
                                    "title": "NW",
                                    "total_count": "28",
                                    "tag_id": "11644"
                                },
                                {
                                    "title": "Bel Canto",
                                    "total_count": "28",
                                    "tag_id": "11644"
                                },
                                {
                                    "title": "Anne of Avonlea (Anne of Green Gables, #2)",
                                    "total_count": "28",
                                    "tag_id": "11644"
                                },
                                {
                                    "title": "Behind the Beautiful Forevers: Life, Death, and Hope in a Mumbai Undercity",
                                    "total_count": "27",
                                    "tag_id": "11644"
                                },
                                {
                                    "title": "Orange Is the New Black",
                                    "total_count": "27",
                                    "tag_id": "11644"
                                },
                                {
                                    "title": "Snow Flower and the Secret Fan",
                                    "total_count": "27",
                                    "tag_id": "11644"
                                },
                                {
                                    "title": "The Memory Keeper's Daughter",
                                    "total_count": "27",
                                    "tag_id": "11644"
                                },
                                {
                                    "title": "The Shipping News",
                                    "total_count": "27",
                                    "tag_id": "11644"
                                },
                                {
                                    "title": "The Queen of the Damned (The Vampire Chronicles, #3)",
                                    "total_count": "27",
                                    "tag_id": "11644"
                                },
                                {
                                    "title": "White Oleander",
                                    "total_count": "27",
                                    "tag_id": "11644"
                                },
                                {
                                    "title": "The Penelopiad",
                                    "total_count": "26",
                                    "tag_id": "11644"
                                },
                                {
                                    "title": "The Lover",
                                    "total_count": "26",
                                    "tag_id": "11644"
                                },
                                {
                                    "title": "The Bees",
                                    "total_count": "26",
                                    "tag_id": "11644"
                                },
                                {
                                    "title": "Furiously Happy: A Funny Book About Horrible Things",
                                    "total_count": "26",
                                    "tag_id": "11644"
                                },
                                {
                                    "title": "Hark! A Vagrant",
                                    "total_count": "26",
                                    "tag_id": "11644"
                                },
                                {
                                    "title": "Ms. Marvel, Vol. 1: No Normal",
                                    "total_count": "26",
                                    "tag_id": "11644"
                                },
                                {
                                    "title": "The Long Way to a Small, Angry Planet (Wayfarers, #1)",
                                    "total_count": "25",
                                    "tag_id": "11644"
                                },
                                {
                                    "title": "The Hundred Thousand Kingdoms (Inheritance Trilogy, #1)",
                                    "total_count": "25",
                                    "tag_id": "11644"
                                },
                                {
                                    "title": "The Miniaturist",
                                    "total_count": "24",
                                    "tag_id": "11644"
                                },
                                {
                                    "title": "The Murder of Roger Ackroyd (Hercule Poirot, #4)",
                                    "total_count": "24",
                                    "tag_id": "11644"
                                },
                                {
                                    "title": "The History of Love",
                                    "total_count": "24",
                                    "tag_id": "11644"
                                },
                                {
                                    "title": "The Complete Stories",
                                    "total_count": "24",
                                    "tag_id": "11644"
                                },
                                {
                                    "title": "Slouching Towards Bethlehem",
                                    "total_count": "24",
                                    "tag_id": "11644"
                                },
                                {
                                    "title": "Possession",
                                    "total_count": "24",
                                    "tag_id": "11644"
                                },
                                {
                                    "title": "In the Time of the Butterflies",
                                    "total_count": "24",
                                    "tag_id": "11644"
                                },
                                {
                                    "title": "Housekeeping",
                                    "total_count": "24",
                                    "tag_id": "11644"
                                },
                                {
                                    "title": "The Round House",
                                    "total_count": "24",
                                    "tag_id": "11644"
                                },
                                {
                                    "title": "Ethan Frome",
                                    "total_count": "23",
                                    "tag_id": "11644"
                                },
                                {
                                    "title": "Bring Up the Bodies (Thomas Cromwell, #2)",
                                    "total_count": "23",
                                    "tag_id": "11644"
                                },
                                {
                                    "title": "Chocolat (Chocolat, #1)",
                                    "total_count": "23",
                                    "tag_id": "11644"
                                },
                                {
                                    "title": "The Lathe of Heaven",
                                    "total_count": "23",
                                    "tag_id": "11644"
                                },
                                {
                                    "title": "The Lottery and Other Stories",
                                    "total_count": "22",
                                    "tag_id": "11644"
                                },
                                {
                                    "title": "The Mysterious Affair at Styles (Hercule Poirot, #1)",
                                    "total_count": "22",
                                    "tag_id": "11644"
                                },
                                {
                                    "title": "Dear Life: Stories",
                                    "total_count": "22",
                                    "tag_id": "11644"
                                },
                                {
                                    "title": "Anthem",
                                    "total_count": "22",
                                    "tag_id": "11644"
                                },
                                {
                                    "title": "Le bleu est une couleur chaude",
                                    "total_count": "22",
                                    "tag_id": "11644"
                                },
                                {
                                    "title": "Lumberjanes, Vol. 1: Beware the Kitten Holy",
                                    "total_count": "22",
                                    "tag_id": "11644"
                                },
                                {
                                    "title": "The Tiger's Wife",
                                    "total_count": "22",
                                    "tag_id": "11644"
                                },
                                {
                                    "title": "The Vagina Monologues",
                                    "total_count": "22",
                                    "tag_id": "11644"
                                },
                                {
                                    "title": "The Waves",
                                    "total_count": "22",
                                    "tag_id": "11644"
                                },
                                {
                                    "title": "The Thing Around Your Neck",
                                    "total_count": "21",
                                    "tag_id": "11644"
                                },
                                {
                                    "title": "Wise Blood",
                                    "total_count": "21",
                                    "tag_id": "11644"
                                },
                                {
                                    "title": "This One Summer",
                                    "total_count": "21",
                                    "tag_id": "11644"
                                },
                                {
                                    "title": "In the Hand of the Goddess (Song of the Lioness, #2)",
                                    "total_count": "21",
                                    "tag_id": "11644"
                                },
                                {
                                    "title": "Hunger Makes Me a Modern Girl",
                                    "total_count": "21",
                                    "tag_id": "11644"
                                },
                                {
                                    "title": "Bastard Out of Carolina",
                                    "total_count": "21",
                                    "tag_id": "11644"
                                },
                                {
                                    "title": "Nick & Norah's Infinite Playlist",
                                    "total_count": "21",
                                    "tag_id": "11644"
                                },
                                {
                                    "title": "Surfacing",
                                    "total_count": "21",
                                    "tag_id": "11644"
                                },
                                {
                                    "title": "Swing Time",
                                    "total_count": "21",
                                    "tag_id": "11644"
                                },
                                {
                                    "title": "The Age of Miracles",
                                    "total_count": "20",
                                    "tag_id": "11644"
                                },
                                {
                                    "title": "Nothing to Envy: Ordinary Lives in North Korea",
                                    "total_count": "20",
                                    "tag_id": "11644"
                                },
                                {
                                    "title": "Anya's Ghost",
                                    "total_count": "20",
                                    "tag_id": "11644"
                                },
                                {
                                    "title": "Hateship, Friendship, Courtship, Loveship, Marriage: Stories",
                                    "total_count": "20",
                                    "tag_id": "11644"
                                },
                                {
                                    "title": "Heidi",
                                    "total_count": "20",
                                    "tag_id": "11644"
                                },
                                {
                                    "title": "Murder at the Vicarage (Miss Marple, #1)",
                                    "total_count": "20",
                                    "tag_id": "11644"
                                },
                                {
                                    "title": "Wild Swans: Three Daughters of China",
                                    "total_count": "20",
                                    "tag_id": "11644"
                                },
                                {
                                    "title": "The Shining Girls",
                                    "total_count": "20",
                                    "tag_id": "11644"
                                },
                                {
                                    "title": "The Woman Who Rides Like a Man (Song of the Lioness, #3)",
                                    "total_count": "19",
                                    "tag_id": "11644"
                                },
                                {
                                    "title": "The Wonder",
                                    "total_count": "19",
                                    "tag_id": "11644"
                                },
                                {
                                    "title": "Wild Magic (Immortals, #1)",
                                    "total_count": "19",
                                    "tag_id": "11644"
                                },
                                {
                                    "title": "My Life on the Road",
                                    "total_count": "19",
                                    "tag_id": "11644"
                                },
                                {
                                    "title": "Ms. Marvel, Vol. 2: Generation Why",
                                    "total_count": "19",
                                    "tag_id": "11644"
                                },
                                {
                                    "title": "Lioness Rampant (Song of the Lioness, #4)",
                                    "total_count": "19",
                                    "tag_id": "11644"
                                },
                                {
                                    "title": "Geek Love",
                                    "total_count": "19",
                                    "tag_id": "11644"
                                },
                                {
                                    "title": "Anne of Windy Poplars (Anne of Green Gables, #4)",
                                    "total_count": "19",
                                    "tag_id": "11644"
                                },
                                {
                                    "title": "A Good Man is Hard to Find and Other Stories",
                                    "total_count": "19",
                                    "tag_id": "11644"
                                },
                                {
                                    "title": "Out",
                                    "total_count": "19",
                                    "tag_id": "11644"
                                },
                                {
                                    "title": "Persepolis 2: The Story of a Return (Persepolis, #2)",
                                    "total_count": "19",
                                    "tag_id": "11644"
                                },
                                {
                                    "title": "Runaway",
                                    "total_count": "19",
                                    "tag_id": "11644"
                                },
                                {
                                    "title": "The Opposite of Loneliness: Essays and Stories",
                                    "total_count": "19",
                                    "tag_id": "11644"
                                },
                                {
                                    "title": "The Paying Guests",
                                    "total_count": "19",
                                    "tag_id": "11644"
                                },
                                {
                                    "title": "The Likeness (Dublin Murder Squad, #2)",
                                    "total_count": "19",
                                    "tag_id": "11644"
                                },
                                {
                                    "title": "The Beauty Myth",
                                    "total_count": "19",
                                    "tag_id": "11644"
                                },
                                {
                                    "title": "The Fifth Season (The Broken Earth, #1)",
                                    "total_count": "19",
                                    "tag_id": "11644"
                                },
                                {
                                    "title": "The Heart Goes Last",
                                    "total_count": "18",
                                    "tag_id": "11644"
                                },
                                {
                                    "title": "The Grownup",
                                    "total_count": "18",
                                    "tag_id": "11644"
                                },
                                {
                                    "title": "The Body in the Library (Miss Marple, #3)",
                                    "total_count": "18",
                                    "tag_id": "11644"
                                },
                                {
                                    "title": "The Bonesetter's Daughter",
                                    "total_count": "18",
                                    "tag_id": "11644"
                                },
                                {
                                    "title": "The Buddha in the Attic",
                                    "total_count": "18",
                                    "tag_id": "11644"
                                },
                                {
                                    "title": "The Ladies of Grace Adieu and Other Stories",
                                    "total_count": "18",
                                    "tag_id": "11644"
                                },
                                {
                                    "title": "Seriously... I'm Kidding",
                                    "total_count": "18",
                                    "tag_id": "11644"
                                },
                                {
                                    "title": "The Argonauts",
                                    "total_count": "18",
                                    "tag_id": "11644"
                                },
                                {
                                    "title": "Passing",
                                    "total_count": "18",
                                    "tag_id": "11644"
                                },
                                {
                                    "title": "Nickel and Dimed: On (Not) Getting By in America",
                                    "total_count": "18",
                                    "tag_id": "11644"
                                },
                                {
                                    "title": "No One Belongs Here More Than You",
                                    "total_count": "18",
                                    "tag_id": "11644"
                                },
                                {
                                    "title": "A Raisin in the Sun",
                                    "total_count": "18",
                                    "tag_id": "11644"
                                },
                                {
                                    "title": "Commonwealth",
                                    "total_count": "18",
                                    "tag_id": "11644"
                                },
                                {
                                    "title": "Cranford",
                                    "total_count": "18",
                                    "tag_id": "11644"
                                },
                                {
                                    "title": "Jazz",
                                    "total_count": "18",
                                    "tag_id": "11644"
                                },
                                {
                                    "title": "Lady Susan",
                                    "total_count": "18",
                                    "tag_id": "11644"
                                },
                                {
                                    "title": "Wishful Drinking",
                                    "total_count": "18",
                                    "tag_id": "11644"
                                },
                                {
                                    "title": "Written on the Body",
                                    "total_count": "18",
                                    "tag_id": "11644"
                                },
                                {
                                    "title": "Vampires in the Lemon Grove",
                                    "total_count": "18",
                                    "tag_id": "11644"
                                },
                                {
                                    "title": "The Yellow Wall-Paper",
                                    "total_count": "18",
                                    "tag_id": "11644"
                                },
                                {
                                    "title": "The Woman in Black",
                                    "total_count": "18",
                                    "tag_id": "11644"
                                },
                                {
                                    "title": "The Woman Warrior",
                                    "total_count": "18",
                                    "tag_id": "11644"
                                },
                                {
                                    "title": "The Snow Child",
                                    "total_count": "18",
                                    "tag_id": "11644"
                                },
                                {
                                    "title": "The Princess Diarist",
                                    "total_count": "17",
                                    "tag_id": "11644"
                                },
                                {
                                    "title": "When the Emperor Was Divine",
                                    "total_count": "17",
                                    "tag_id": "11644"
                                },
                                {
                                    "title": "Faithful Place (Dublin Murder Squad, #3)",
                                    "total_count": "17",
                                    "tag_id": "11644"
                                },
                                {
                                    "title": "H is for Hawk",
                                    "total_count": "17",
                                    "tag_id": "11644"
                                },
                                {
                                    "title": "Harriet the Spy (Harriet the Spy #1)",
                                    "total_count": "17",
                                    "tag_id": "11644"
                                },
                                {
                                    "title": "Daughter of Fortune",
                                    "total_count": "17",
                                    "tag_id": "11644"
                                },
                                {
                                    "title": "Dawn (Xenogenesis, #1)",
                                    "total_count": "17",
                                    "tag_id": "11644"
                                },
                                {
                                    "title": "Delta of Venus",
                                    "total_count": "17",
                                    "tag_id": "11644"
                                },
                                {
                                    "title": "A Swiftly Tilting Planet (A Wrinkle in Time Quintet, #3)",
                                    "total_count": "17",
                                    "tag_id": "11644"
                                },
                                {
                                    "title": "Silas Marner",
                                    "total_count": "17",
                                    "tag_id": "11644"
                                },
                                {
                                    "title": "The Particular Sadness of Lemon Cake",
                                    "total_count": "17",
                                    "tag_id": "11644"
                                },
                                {
                                    "title": "The Miseducation of Cameron Post",
                                    "total_count": "17",
                                    "tag_id": "11644"
                                },
                                {
                                    "title": "The Bone People",
                                    "total_count": "17",
                                    "tag_id": "11644"
                                },
                                {
                                    "title": "The Farthest Shore (Earthsea Cycle, #3)",
                                    "total_count": "16",
                                    "tag_id": "11644"
                                },
                                {
                                    "title": "The Interestings",
                                    "total_count": "16",
                                    "tag_id": "11644"
                                },
                                {
                                    "title": "The Little Friend",
                                    "total_count": "16",
                                    "tag_id": "11644"
                                },
                                {
                                    "title": "Stone Mattress: Nine Tales",
                                    "total_count": "16",
                                    "tag_id": "11644"
                                },
                                {
                                    "title": "Shrill: Notes from a Loud Woman",
                                    "total_count": "16",
                                    "tag_id": "11644"
                                },
                                {
                                    "title": "Over Sea, Under Stone (The Dark Is Rising, #1)",
                                    "total_count": "16",
                                    "tag_id": "11644"
                                },
                                {
                                    "title": "A God in Ruins",
                                    "total_count": "16",
                                    "tag_id": "11644"
                                },
                                {
                                    "title": "Are You My Mother?",
                                    "total_count": "16",
                                    "tag_id": "11644"
                                },
                                {
                                    "title": "Boy, Snow, Bird",
                                    "total_count": "16",
                                    "tag_id": "11644"
                                },
                                {
                                    "title": "Bonk: The Curious Coupling of Science and Sex",
                                    "total_count": "16",
                                    "tag_id": "11644"
                                },
                                {
                                    "title": "Death Comes for the Archbishop",
                                    "total_count": "16",
                                    "tag_id": "11644"
                                },
                                {
                                    "title": "Elizabeth Is Missing",
                                    "total_count": "16",
                                    "tag_id": "11644"
                                },
                                {
                                    "title": "Everything That Rises Must Converge: Stories",
                                    "total_count": "16",
                                    "tag_id": "11644"
                                },
                                {
                                    "title": "Fear of Flying",
                                    "total_count": "16",
                                    "tag_id": "11644"
                                },
                                {
                                    "title": "Cold Comfort Farm",
                                    "total_count": "16",
                                    "tag_id": "11644"
                                },
                                {
                                    "title": "Bridget Jones: The Edge of Reason (Bridget Jones, #2)",
                                    "total_count": "16",
                                    "tag_id": "11644"
                                },
                                {
                                    "title": "How to Build a Girl",
                                    "total_count": "16",
                                    "tag_id": "11644"
                                },
                                {
                                    "title": "How the García Girls Lost Their Accents ",
                                    "total_count": "16",
                                    "tag_id": "11644"
                                },
                                {
                                    "title": "You're Never Weird on the Internet (Almost)",
                                    "total_count": "16",
                                    "tag_id": "11644"
                                },
                                {
                                    "title": "Unaccustomed Earth",
                                    "total_count": "16",
                                    "tag_id": "11644"
                                },
                                {
                                    "title": "We Need New Names",
                                    "total_count": "16",
                                    "tag_id": "11644"
                                },
                                {
                                    "title": "Tiny Beautiful Things: Advice on Love and Life from Dear Sugar",
                                    "total_count": "16",
                                    "tag_id": "11644"
                                },
                                {
                                    "title": "Too Much Happiness",
                                    "total_count": "16",
                                    "tag_id": "11644"
                                },
                                {
                                    "title": "The Sea, the Sea",
                                    "total_count": "16",
                                    "tag_id": "11644"
                                },
                                {
                                    "title": "The Story of a New Name (The Neapolitan Novels #2)",
                                    "total_count": "16",
                                    "tag_id": "11644"
                                },
                                {
                                    "title": "The Tale of the Body Thief (The Vampire Chronicles, #4)",
                                    "total_count": "16",
                                    "tag_id": "11644"
                                },
                                {
                                    "title": "The Tombs of Atuan (Earthsea Cycle, #2)",
                                    "total_count": "16",
                                    "tag_id": "11644"
                                },
                                {
                                    "title": "The Sparrow (The Sparrow, #1)",
                                    "total_count": "15",
                                    "tag_id": "11644"
                                },
                                {
                                    "title": "The Signature of All Things",
                                    "total_count": "15",
                                    "tag_id": "11644"
                                },
                                {
                                    "title": "Why Be Happy When You Could Be Normal?",
                                    "total_count": "15",
                                    "tag_id": "11644"
                                },
                                {
                                    "title": "Fall on Your Knees",
                                    "total_count": "15",
                                    "tag_id": "11644"
                                },
                                {
                                    "title": "Fledgling",
                                    "total_count": "15",
                                    "tag_id": "11644"
                                },
                                {
                                    "title": "Bonjour tristesse",
                                    "total_count": "15",
                                    "tag_id": "11644"
                                },
                                {
                                    "title": "Anne of Ingleside (Anne of Green Gables, #6)",
                                    "total_count": "15",
                                    "tag_id": "11644"
                                },
                                {
                                    "title": "Packing for Mars: The Curious Science of Life in the Void",
                                    "total_count": "15",
                                    "tag_id": "11644"
                                },
                                {
                                    "title": "Notorious RBG: The Life and Times of Ruth Bader Ginsburg",
                                    "total_count": "15",
                                    "tag_id": "11644"
                                },
                                {
                                    "title": "Play It as It Lays",
                                    "total_count": "15",
                                    "tag_id": "11644"
                                },
                                {
                                    "title": "Please Look After Mom",
                                    "total_count": "15",
                                    "tag_id": "11644"
                                },
                                {
                                    "title": "Rilla of Ingleside (Anne of Green Gables, #8)",
                                    "total_count": "15",
                                    "tag_id": "11644"
                                },
                                {
                                    "title": "Shirley",
                                    "total_count": "15",
                                    "tag_id": "11644"
                                },
                                {
                                    "title": "The Bean Trees (Greer Family, #1)",
                                    "total_count": "15",
                                    "tag_id": "11644"
                                },
                                {
                                    "title": "The Mill on the Floss",
                                    "total_count": "15",
                                    "tag_id": "11644"
                                },
                                {
                                    "title": "The First Bad Man",
                                    "total_count": "15",
                                    "tag_id": "11644"
                                },
                                {
                                    "title": "The Goblin Emperor",
                                    "total_count": "15",
                                    "tag_id": "11644"
                                },
                                {
                                    "title": "The Book of Unknown Americans",
                                    "total_count": "15",
                                    "tag_id": "11644"
                                },
                                {
                                    "title": "The Collected Poems",
                                    "total_count": "15",
                                    "tag_id": "11644"
                                },
                                {
                                    "title": "The Complete Poems of Emily Dickinson",
                                    "total_count": "15",
                                    "tag_id": "11644"
                                },
                                {
                                    "title": "The Flamethrowers",
                                    "total_count": "14",
                                    "tag_id": "11644"
                                },
                                {
                                    "title": "The Art of Asking; or, How I Learned to Stop Worrying and Let People Help",
                                    "total_count": "14",
                                    "tag_id": "11644"
                                },
                                {
                                    "title": "Suite Française",
                                    "total_count": "14",
                                    "tag_id": "11644"
                                },
                                {
                                    "title": "Special Topics in Calamity Physics",
                                    "total_count": "14",
                                    "tag_id": "11644"
                                },
                                {
                                    "title": "Rubyfruit Jungle",
                                    "total_count": "14",
                                    "tag_id": "11644"
                                },
                                {
                                    "title": "O Pioneers!",
                                    "total_count": "14",
                                    "tag_id": "11644"
                                },
                                {
                                    "title": "On the Bright Side, I'm Now the Girlfriend of a Sex God (Confessions of Georgia Nicolson, #2)",
                                    "total_count": "14",
                                    "tag_id": "11644"
                                },
                                {
                                    "title": "A Mercy",
                                    "total_count": "14",
                                    "tag_id": "11644"
                                },
                                {
                                    "title": "Ceremony",
                                    "total_count": "14",
                                    "tag_id": "11644"
                                },
                                {
                                    "title": "Embroideries",
                                    "total_count": "14",
                                    "tag_id": "11644"
                                },
                                {
                                    "title": "Gulp: Adventures on the Alimentary Canal",
                                    "total_count": "14",
                                    "tag_id": "11644"
                                },
                                {
                                    "title": "Lab Girl",
                                    "total_count": "14",
                                    "tag_id": "11644"
                                },
                                {
                                    "title": "Wolf-Speaker (Immortals, #2)",
                                    "total_count": "14",
                                    "tag_id": "11644"
                                },
                                {
                                    "title": "The Spirit Catches You and You Fall Down: A Hmong Child, Her American Doctors, and the Collision of Two Cultures",
                                    "total_count": "14",
                                    "tag_id": "11644"
                                },
                                {
                                    "title": "The Thorn Birds",
                                    "total_count": "14",
                                    "tag_id": "11644"
                                },
                                {
                                    "title": "Trickster's Choice (Daughter of the Lioness, #1)",
                                    "total_count": "13",
                                    "tag_id": "11644"
                                },
                                {
                                    "title": "Trickster's Queen (Daughter of the Lioness, #2)",
                                    "total_count": "13",
                                    "tag_id": "11644"
                                },
                                {
                                    "title": "M Train",
                                    "total_count": "13",
                                    "tag_id": "11644"
                                },
                                {
                                    "title": "Memnoch the Devil (The Vampire Chronicles, #5)",
                                    "total_count": "13",
                                    "tag_id": "11644"
                                },
                                {
                                    "title": "My Cousin Rachel",
                                    "total_count": "13",
                                    "tag_id": "11644"
                                },
                                {
                                    "title": "God Help the Child",
                                    "total_count": "13",
                                    "tag_id": "11644"
                                },
                                {
                                    "title": "Girl at War",
                                    "total_count": "13",
                                    "tag_id": "11644"
                                },
                                {
                                    "title": "Euphoria",
                                    "total_count": "13",
                                    "tag_id": "11644"
                                },
                                {
                                    "title": "Eva Luna",
                                    "total_count": "13",
                                    "tag_id": "11644"
                                },
                                {
                                    "title": "Briar's Book (Circle of Magic, #4)",
                                    "total_count": "13",
                                    "tag_id": "11644"
                                },
                                {
                                    "title": "A Murder Is Announced (Miss Marple, #5)",
                                    "total_count": "13",
                                    "tag_id": "11644"
                                },
                                {
                                    "title": "An Untamed State",
                                    "total_count": "13",
                                    "tag_id": "11644"
                                },
                                {
                                    "title": "Adulthood Is a Myth (Sarah's Scribbles, #1)",
                                    "total_count": "13",
                                    "tag_id": "11644"
                                },
                                {
                                    "title": "Another Brooklyn",
                                    "total_count": "13",
                                    "tag_id": "11644"
                                },
                                {
                                    "title": "Rainbow Valley (Anne of Green Gables, #7)",
                                    "total_count": "13",
                                    "tag_id": "11644"
                                },
                                {
                                    "title": "Sandry's Book (Circle of Magic, #1)",
                                    "total_count": "13",
                                    "tag_id": "11644"
                                },
                                {
                                    "title": "Tehanu (Earthsea Cycle, #4)",
                                    "total_count": "13",
                                    "tag_id": "11644"
                                },
                                {
                                    "title": "The Gifts of Imperfection: Let Go of Who You Think You're Supposed to Be and Embrace Who You Are",
                                    "total_count": "13",
                                    "tag_id": "11644"
                                },
                                {
                                    "title": "The Liars' Club",
                                    "total_count": "13",
                                    "tag_id": "11644"
                                },
                                {
                                    "title": "The Inheritance of Loss",
                                    "total_count": "13",
                                    "tag_id": "11644"
                                },
                                {
                                    "title": "The Housekeeper and the Professor",
                                    "total_count": "13",
                                    "tag_id": "11644"
                                },
                                {
                                    "title": "The Japanese Lover",
                                    "total_count": "12",
                                    "tag_id": "11644"
                                },
                                {
                                    "title": "The Lottery",
                                    "total_count": "12",
                                    "tag_id": "11644"
                                },
                                {
                                    "title": "The Mystery of the Blue Train (Hercule Poirot, #6)",
                                    "total_count": "12",
                                    "tag_id": "11644"
                                },
                                {
                                    "title": "Squire (Protector of the Small, #3)",
                                    "total_count": "12",
                                    "tag_id": "11644"
                                },
                                {
                                    "title": "Shards of Honour  (Vorkosigan Saga, #1)",
                                    "total_count": "12",
                                    "tag_id": "11644"
                                },
                                {
                                    "title": "Prodigal Summer",
                                    "total_count": "12",
                                    "tag_id": "11644"
                                },
                                {
                                    "title": "Noughts & Crosses (Noughts & Crosses, #1)",
                                    "total_count": "12",
                                    "tag_id": "11644"
                                },
                                {
                                    "title": "Ancillary Sword (Imperial Radch, #2)",
                                    "total_count": "12",
                                    "tag_id": "11644"
                                },
                                {
                                    "title": "Blue Nights",
                                    "total_count": "12",
                                    "tag_id": "11644"
                                },
                                {
                                    "title": "Birds of America",
                                    "total_count": "12",
                                    "tag_id": "11644"
                                },
                                {
                                    "title": "Change of Heart",
                                    "total_count": "12",
                                    "tag_id": "11644"
                                },
                                {
                                    "title": "Heartburn",
                                    "total_count": "12",
                                    "tag_id": "11644"
                                },
                                {
                                    "title": "Home",
                                    "total_count": "12",
                                    "tag_id": "11644"
                                },
                                {
                                    "title": "How to Be Both",
                                    "total_count": "12",
                                    "tag_id": "11644"
                                },
                                {
                                    "title": "Lullabies for Little Criminals",
                                    "total_count": "12",
                                    "tag_id": "11644"
                                },
                                {
                                    "title": "Jamaica Inn",
                                    "total_count": "12",
                                    "tag_id": "11644"
                                },
                                {
                                    "title": "Tris's Book (Circle of Magic, #2)",
                                    "total_count": "12",
                                    "tag_id": "11644"
                                },
                                {
                                    "title": "Under the Net",
                                    "total_count": "12",
                                    "tag_id": "11644"
                                },
                                {
                                    "title": "What Was She Thinking? [Notes on a Scandal]",
                                    "total_count": "12",
                                    "tag_id": "11644"
                                },
                                {
                                    "title": "Wild Seed (Patternmaster, #1)",
                                    "total_count": "12",
                                    "tag_id": "11644"
                                },
                                {
                                    "title": "The Unabridged Journals of Sylvia Plath",
                                    "total_count": "12",
                                    "tag_id": "11644"
                                },
                                {
                                    "title": "The Stone Diaries",
                                    "total_count": "12",
                                    "tag_id": "11644"
                                },
                                {
                                    "title": "The Shock Doctrine: The Rise of Disaster Capitalism",
                                    "total_count": "12",
                                    "tag_id": "11644"
                                },
                                {
                                    "title": "The Sixth Extinction: An Unnatural History",
                                    "total_count": "11",
                                    "tag_id": "11644"
                                },
                                {
                                    "title": "The Story of an Hour",
                                    "total_count": "11",
                                    "tag_id": "11644"
                                },
                                {
                                    "title": "Whose Body?  (Lord Peter Wimsey, #1)",
                                    "total_count": "11",
                                    "tag_id": "11644"
                                },
                                {
                                    "title": "Z: A Novel of Zelda Fitzgerald",
                                    "total_count": "11",
                                    "tag_id": "11644"
                                },
                                {
                                    "title": "Zami: A New Spelling of My Name",
                                    "total_count": "11",
                                    "tag_id": "11644"
                                },
                                {
                                    "title": "Year of Yes: How to Dance It Out, Stand In the Sun and Be Your Own Person",
                                    "total_count": "11",
                                    "tag_id": "11644"
                                },
                                {
                                    "title": "Unbearable Lightness: A Story of Loss and Gain",
                                    "total_count": "11",
                                    "tag_id": "11644"
                                },
                                {
                                    "title": "I Was Told There'd Be Cake",
                                    "total_count": "11",
                                    "tag_id": "11644"
                                },
                                {
                                    "title": "Mastiff (Beka Cooper, #3)",
                                    "total_count": "11",
                                    "tag_id": "11644"
                                },
                                {
                                    "title": "Love Medicine",
                                    "total_count": "11",
                                    "tag_id": "11644"
                                },
                                {
                                    "title": "Lucky",
                                    "total_count": "11",
                                    "tag_id": "11644"
                                },
                                {
                                    "title": "Hercule Poirot's Christmas (Hercule Poirot, #20)",
                                    "total_count": "11",
                                    "tag_id": "11644"
                                },
                                {
                                    "title": "Girl in Translation",
                                    "total_count": "11",
                                    "tag_id": "11644"
                                },
                                {
                                    "title": "Half Blood Blues",
                                    "total_count": "11",
                                    "tag_id": "11644"
                                },
                                {
                                    "title": "Frog Music",
                                    "total_count": "11",
                                    "tag_id": "11644"
                                },
                                {
                                    "title": "Brokeback Mountain",
                                    "total_count": "11",
                                    "tag_id": "11644"
                                },
                                {
                                    "title": "Daja's Book (Circle of Magic, #3)",
                                    "total_count": "11",
                                    "tag_id": "11644"
                                },
                                {
                                    "title": "Eileen",
                                    "total_count": "11",
                                    "tag_id": "11644"
                                },
                                {
                                    "title": "Breath, Eyes, Memory",
                                    "total_count": "11",
                                    "tag_id": "11644"
                                },
                                {
                                    "title": "Battle Hymn of the Tiger Mother",
                                    "total_count": "11",
                                    "tag_id": "11644"
                                },
                                {
                                    "title": "An Acceptable Time (A Wrinkle in Time Quintet, #5)",
                                    "total_count": "11",
                                    "tag_id": "11644"
                                },
                                {
                                    "title": "Saving Fish from Drowning",
                                    "total_count": "11",
                                    "tag_id": "11644"
                                },
                                {
                                    "title": "Spook: Science Tackles the Afterlife",
                                    "total_count": "11",
                                    "tag_id": "11644"
                                },
                                {
                                    "title": "Story of O (Story of O #1)",
                                    "total_count": "11",
                                    "tag_id": "11644"
                                },
                                {
                                    "title": "Strangers on a Train",
                                    "total_count": "11",
                                    "tag_id": "11644"
                                },
                                {
                                    "title": "Tales from Earthsea (Earthsea Cycle, #5)",
                                    "total_count": "11",
                                    "tag_id": "11644"
                                },
                                {
                                    "title": "The Almost Moon",
                                    "total_count": "11",
                                    "tag_id": "11644"
                                },
                                {
                                    "title": "The Apprentice (Rizzoli & Isles, #2)",
                                    "total_count": "11",
                                    "tag_id": "11644"
                                },
                                {
                                    "title": "The Other Wind (Earthsea Cycle, #6)",
                                    "total_count": "11",
                                    "tag_id": "11644"
                                },
                                {
                                    "title": "The Passion",
                                    "total_count": "11",
                                    "tag_id": "11644"
                                },
                                {
                                    "title": "The Moving Finger (Miss Marple, #4)",
                                    "total_count": "11",
                                    "tag_id": "11644"
                                },
                                {
                                    "title": "The Children of Men",
                                    "total_count": "11",
                                    "tag_id": "11644"
                                },
                                {
                                    "title": "The Birth of Venus",
                                    "total_count": "11",
                                    "tag_id": "11644"
                                },
                                {
                                    "title": "The Curse of Chalion (World of the Five Gods, #1)",
                                    "total_count": "10",
                                    "tag_id": "11644"
                                },
                                {
                                    "title": "The Complete Poems",
                                    "total_count": "10",
                                    "tag_id": "11644"
                                },
                                {
                                    "title": "The Empathy Exams: Essays",
                                    "total_count": "10",
                                    "tag_id": "11644"
                                },
                                {
                                    "title": "The Murder on the Links (Hercule Poirot, #2)",
                                    "total_count": "10",
                                    "tag_id": "11644"
                                },
                                {
                                    "title": "The Kitchen God's Wife",
                                    "total_count": "10",
                                    "tag_id": "11644"
                                },
                                {
                                    "title": "Sexing the Cherry",
                                    "total_count": "10",
                                    "tag_id": "11644"
                                },
                                {
                                    "title": "Slammerkin",
                                    "total_count": "10",
                                    "tag_id": "11644"
                                },
                                {
                                    "title": "Prozac Nation",
                                    "total_count": "10",
                                    "tag_id": "11644"
                                },
                                {
                                    "title": "Regeneration (Regeneration, #1)",
                                    "total_count": "10",
                                    "tag_id": "11644"
                                },
                                {
                                    "title": "Relish: My Life in the Kitchen",
                                    "total_count": "10",
                                    "tag_id": "11644"
                                },
                                {
                                    "title": "Prep",
                                    "total_count": "10",
                                    "tag_id": "11644"
                                },
                                {
                                    "title": "Peril at End House (Hercule Poirot, #8)",
                                    "total_count": "10",
                                    "tag_id": "11644"
                                },
                                {
                                    "title": "Alif the Unseen",
                                    "total_count": "10",
                                    "tag_id": "11644"
                                },
                                {
                                    "title": "4:50 from Paddington (Miss Marple, #8)",
                                    "total_count": "10",
                                    "tag_id": "11644"
                                },
                                {
                                    "title": "Assassination Vacation",
                                    "total_count": "10",
                                    "tag_id": "11644"
                                },
                                {
                                    "title": "Annie on My Mind",
                                    "total_count": "10",
                                    "tag_id": "11644"
                                },
                                {
                                    "title": "Bloodhound (Beka Cooper, #2)",
                                    "total_count": "10",
                                    "tag_id": "11644"
                                },
                                {
                                    "title": "Evil Under the Sun (Hercule Poirot, #23)",
                                    "total_count": "10",
                                    "tag_id": "11644"
                                },
                                {
                                    "title": "Death in the Clouds (Hercule Poirot, #12)",
                                    "total_count": "10",
                                    "tag_id": "11644"
                                },
                                {
                                    "title": "Dept. of Speculation",
                                    "total_count": "10",
                                    "tag_id": "11644"
                                },
                                {
                                    "title": "Cunt: A Declaration of Independence",
                                    "total_count": "10",
                                    "tag_id": "11644"
                                },
                                {
                                    "title": "California",
                                    "total_count": "10",
                                    "tag_id": "11644"
                                },
                                {
                                    "title": "Calling on Dragons (Enchanted Forest Chronicles, #3)",
                                    "total_count": "10",
                                    "tag_id": "11644"
                                },
                                {
                                    "title": "Hallowe'en Party (Hercule Poirot, #36)",
                                    "total_count": "10",
                                    "tag_id": "11644"
                                },
                                {
                                    "title": "I Feel Bad about My Neck: And Other Thoughts on Being a Woman",
                                    "total_count": "10",
                                    "tag_id": "11644"
                                },
                                {
                                    "title": "Incidents in the Life of a Slave Girl",
                                    "total_count": "10",
                                    "tag_id": "11644"
                                },
                                {
                                    "title": "Island Beneath the Sea",
                                    "total_count": "10",
                                    "tag_id": "11644"
                                },
                                {
                                    "title": "Knocked Out by My Nunga-Nungas (Confessions of Georgia Nicolson, #3)",
                                    "total_count": "10",
                                    "tag_id": "11644"
                                },
                                {
                                    "title": "Lady Audley's Secret",
                                    "total_count": "10",
                                    "tag_id": "11644"
                                },
                                {
                                    "title": "Those Who Leave and Those Who Stay (The Neapolitan Novels #3)",
                                    "total_count": "10",
                                    "tag_id": "11644"
                                },
                                {
                                    "title": "You Are a Badass: How to Stop Doubting Your Greatness and Start Living an Awesome Life",
                                    "total_count": "10",
                                    "tag_id": "11644"
                                },
                                {
                                    "title": "Wives and Daughters",
                                    "total_count": "10",
                                    "tag_id": "11644"
                                },
                                {
                                    "title": "When God Was a Rabbit",
                                    "total_count": "10",
                                    "tag_id": "11644"
                                },
                                {
                                    "title": "The Story of My Life",
                                    "total_count": "10",
                                    "tag_id": "11644"
                                },
                                {
                                    "title": "The Virgin Blue",
                                    "total_count": "9",
                                    "tag_id": "11644"
                                },
                                {
                                    "title": "The Warrior's Apprentice (Vorkosigan Saga, #2)",
                                    "total_count": "9",
                                    "tag_id": "11644"
                                },
                                {
                                    "title": "Writing Down the Bones: Freeing the Writer Within",
                                    "total_count": "9",
                                    "tag_id": "11644"
                                },
                                {
                                    "title": "We Were the Mulvaneys",
                                    "total_count": "9",
                                    "tag_id": "11644"
                                },
                                {
                                    "title": "Kristy's Great Idea (The Baby-Sitters Club, #1)",
                                    "total_count": "9",
                                    "tag_id": "11644"
                                },
                                {
                                    "title": "Luck in the Shadows (Nightrunner, #1)",
                                    "total_count": "9",
                                    "tag_id": "11644"
                                },
                                {
                                    "title": "Magic Steps (The Circle Opens, #1)",
                                    "total_count": "9",
                                    "tag_id": "11644"
                                },
                                {
                                    "title": "Heartsick (Archie Sheridan & Gretchen Lowell, #1)",
                                    "total_count": "9",
                                    "tag_id": "11644"
                                },
                                {
                                    "title": "Fullmetal Alchemist, Vol. 1 (Fullmetal Alchemist, #1)",
                                    "total_count": "9",
                                    "tag_id": "11644"
                                },
                                {
                                    "title": "Brick Lane",
                                    "total_count": "9",
                                    "tag_id": "11644"
                                },
                                {
                                    "title": "Cinderella Ate My Daughter: Dispatches from the Frontlines of the New Girlie-Girl Culture",
                                    "total_count": "9",
                                    "tag_id": "11644"
                                },
                                {
                                    "title": "Citizen: An American Lyric",
                                    "total_count": "9",
                                    "tag_id": "11644"
                                },
                                {
                                    "title": "Close Range",
                                    "total_count": "9",
                                    "tag_id": "11644"
                                },
                                {
                                    "title": "Blubber",
                                    "total_count": "9",
                                    "tag_id": "11644"
                                },
                                {
                                    "title": "Annabel (Delirium, #0.5)",
                                    "total_count": "9",
                                    "tag_id": "11644"
                                },
                                {
                                    "title": "Ancillary Mercy (Imperial Radch #3)",
                                    "total_count": "9",
                                    "tag_id": "11644"
                                },
                                {
                                    "title": "Parable of the Talents (Earthseed, #2)",
                                    "total_count": "9",
                                    "tag_id": "11644"
                                },
                                {
                                    "title": "Paradise",
                                    "total_count": "9",
                                    "tag_id": "11644"
                                },
                                {
                                    "title": "Remarkable Creatures ",
                                    "total_count": "9",
                                    "tag_id": "11644"
                                },
                                {
                                    "title": "No Logo",
                                    "total_count": "9",
                                    "tag_id": "11644"
                                },
                                {
                                    "title": "Silent Spring",
                                    "total_count": "9",
                                    "tag_id": "11644"
                                },
                                {
                                    "title": "Salem Falls",
                                    "total_count": "9",
                                    "tag_id": "11644"
                                },
                                {
                                    "title": "The Autograph Man",
                                    "total_count": "9",
                                    "tag_id": "11644"
                                },
                                {
                                    "title": "The Lady and the Unicorn",
                                    "total_count": "9",
                                    "tag_id": "11644"
                                },
                                {
                                    "title": "The Hundred Secret Senses",
                                    "total_count": "9",
                                    "tag_id": "11644"
                                },
                                {
                                    "title": "The Mammoth Hunters (Earth's Children, #3)",
                                    "total_count": "9",
                                    "tag_id": "11644"
                                },
                                {
                                    "title": "The Poisoner's Handbook: Murder and the Birth of Forensic Medicine in Jazz Age New York",
                                    "total_count": "9",
                                    "tag_id": "11644"
                                },
                                {
                                    "title": "The Crystal Cave (Arthurian Saga, #1)",
                                    "total_count": "9",
                                    "tag_id": "11644"
                                },
                                {
                                    "title": "The Broken Kingdoms (Inheritance, #2)",
                                    "total_count": "9",
                                    "tag_id": "11644"
                                },
                                {
                                    "title": "The Book of Tomorrow",
                                    "total_count": "9",
                                    "tag_id": "11644"
                                },
                                {
                                    "title": "The Clocks (Hercule Poirot, #34)",
                                    "total_count": "8",
                                    "tag_id": "11644"
                                },
                                {
                                    "title": "The Big Four (Hercule Poirot, #5)",
                                    "total_count": "8",
                                    "tag_id": "11644"
                                },
                                {
                                    "title": "The Enchanted",
                                    "total_count": "8",
                                    "tag_id": "11644"
                                },
                                {
                                    "title": "The Friday Night Knitting Club (Friday Night Knitting Club, #1)",
                                    "total_count": "8",
                                    "tag_id": "11644"
                                },
                                {
                                    "title": "The Palace of Illusions",
                                    "total_count": "8",
                                    "tag_id": "11644"
                                },
                                {
                                    "title": "The Mephisto Club (Rizzoli & Isles, #6)",
                                    "total_count": "8",
                                    "tag_id": "11644"
                                },
                                {
                                    "title": "The Mirror Crack'd from Side to Side (Miss Marple, #9)",
                                    "total_count": "8",
                                    "tag_id": "11644"
                                },
                                {
                                    "title": "The Monsters of Templeton",
                                    "total_count": "8",
                                    "tag_id": "11644"
                                },
                                {
                                    "title": "The Mad Ship (Liveship Traders, #2)",
                                    "total_count": "8",
                                    "tag_id": "11644"
                                },
                                {
                                    "title": "The Bastard of Istanbul",
                                    "total_count": "8",
                                    "tag_id": "11644"
                                },
                                {
                                    "title": "Street Magic (The Circle Opens, #2)",
                                    "total_count": "8",
                                    "tag_id": "11644"
                                },
                                {
                                    "title": "Ship of Destiny (Liveship Traders, #3)",
                                    "total_count": "8",
                                    "tag_id": "11644"
                                },
                                {
                                    "title": "Sex and the City",
                                    "total_count": "8",
                                    "tag_id": "11644"
                                },
                                {
                                    "title": "Spark Joy: An Illustrated Master Class on the Art of Organizing and Tidying Up",
                                    "total_count": "8",
                                    "tag_id": "11644"
                                },
                                {
                                    "title": "An Unquiet Mind: A Memoir of Moods and Madness",
                                    "total_count": "8",
                                    "tag_id": "11644"
                                },
                                {
                                    "title": "After the Funeral (Hercule Poirot, #29)",
                                    "total_count": "8",
                                    "tag_id": "11644"
                                },
                                {
                                    "title": "A Complicated Kindness",
                                    "total_count": "8",
                                    "tag_id": "11644"
                                },
                                {
                                    "title": "A Ring of Endless Light (Austin Family, #4)",
                                    "total_count": "8",
                                    "tag_id": "11644"
                                },
                                {
                                    "title": "Animal Dreams",
                                    "total_count": "8",
                                    "tag_id": "11644"
                                },
                                {
                                    "title": "First They Killed My Father: A Daughter of Cambodia Remembers",
                                    "total_count": "8",
                                    "tag_id": "11644"
                                },
                                {
                                    "title": "Dancing in My Nuddy-Pants (Confessions of Georgia Nicolson, #4)",
                                    "total_count": "8",
                                    "tag_id": "11644"
                                },
                                {
                                    "title": "Can't We Talk about Something More Pleasant?",
                                    "total_count": "8",
                                    "tag_id": "11644"
                                },
                                {
                                    "title": "Good Night, Mr. Tom",
                                    "total_count": "8",
                                    "tag_id": "11644"
                                },
                                {
                                    "title": "Five on a Treasure Island (Famous Five, #1)",
                                    "total_count": "8",
                                    "tag_id": "11644"
                                },
                                {
                                    "title": "Five Quarters of the Orange",
                                    "total_count": "8",
                                    "tag_id": "11644"
                                },
                                {
                                    "title": "Looking for Alibrandi",
                                    "total_count": "8",
                                    "tag_id": "11644"
                                },
                                {
                                    "title": "My Year of Meats",
                                    "total_count": "8",
                                    "tag_id": "11644"
                                },
                                {
                                    "title": "Kings Rising (Captive Prince, #3)",
                                    "total_count": "8",
                                    "tag_id": "11644"
                                },
                                {
                                    "title": "Innocent Traitor",
                                    "total_count": "8",
                                    "tag_id": "11644"
                                },
                                {
                                    "title": "West with the Night",
                                    "total_count": "8",
                                    "tag_id": "11644"
                                },
                                {
                                    "title": "What I Loved",
                                    "total_count": "8",
                                    "tag_id": "11644"
                                },
                                {
                                    "title": "Vinegar Girl",
                                    "total_count": "8",
                                    "tag_id": "11644"
                                },
                                {
                                    "title": "They Do It with Mirrors (Miss Marple, #6)",
                                    "total_count": "8",
                                    "tag_id": "11644"
                                },
                                {
                                    "title": "You'll Grow Out of It",
                                    "total_count": "8",
                                    "tag_id": "11644"
                                },
                                {
                                    "title": "The Versions of Us",
                                    "total_count": "8",
                                    "tag_id": "11644"
                                },
                                {
                                    "title": "The Will of the Empress (Circle Reforged, #1)",
                                    "total_count": "8",
                                    "tag_id": "11644"
                                },
                                {
                                    "title": "The Story of the Lost Child (The Neapolitan Novels, #4)",
                                    "total_count": "8",
                                    "tag_id": "11644"
                                },
                                {
                                    "title": "The Story of Tracy Beaker",
                                    "total_count": "8",
                                    "tag_id": "11644"
                                },
                                {
                                    "title": "The Post-Birthday World",
                                    "total_count": "8",
                                    "tag_id": "11644"
                                },
                                {
                                    "title": "The Professor",
                                    "total_count": "7",
                                    "tag_id": "11644"
                                },
                                {
                                    "title": "The Stranger Beside Me: Ted Bundy The Shocking Inside Story",
                                    "total_count": "7",
                                    "tag_id": "11644"
                                },
                                {
                                    "title": "The Suspicions of Mr. Whicher: A Shocking Murder and the Undoing of a Great Victorian Detective",
                                    "total_count": "7",
                                    "tag_id": "11644"
                                },
                                {
                                    "title": "The Tail of Emily Windsnap (Emily Windsnap, #1)",
                                    "total_count": "7",
                                    "tag_id": "11644"
                                },
                                {
                                    "title": "The Space Between Us",
                                    "total_count": "7",
                                    "tag_id": "11644"
                                },
                                {
                                    "title": "The Women of Brewster Place",
                                    "total_count": "7",
                                    "tag_id": "11644"
                                },
                                {
                                    "title": "The Turner House",
                                    "total_count": "7",
                                    "tag_id": "11644"
                                },
                                {
                                    "title": "The Temple of My Familiar",
                                    "total_count": "7",
                                    "tag_id": "11644"
                                },
                                {
                                    "title": "Wir Kinder vom Bahnhof Zoo",
                                    "total_count": "7",
                                    "tag_id": "11644"
                                },
                                {
                                    "title": "This Star Won't Go Out: The Life and Words of Esther Grace Earl",
                                    "total_count": "7",
                                    "tag_id": "11644"
                                },
                                {
                                    "title": "Today Will Be Different",
                                    "total_count": "7",
                                    "tag_id": "11644"
                                },
                                {
                                    "title": "Unfamiliar Fishes",
                                    "total_count": "7",
                                    "tag_id": "11644"
                                },
                                {
                                    "title": "I Never Promised You a Rose Garden",
                                    "total_count": "7",
                                    "tag_id": "11644"
                                },
                                {
                                    "title": "Keeping You a Secret",
                                    "total_count": "7",
                                    "tag_id": "11644"
                                },
                                {
                                    "title": "Letter to My Daughter",
                                    "total_count": "7",
                                    "tag_id": "11644"
                                },
                                {
                                    "title": "Falling Angels",
                                    "total_count": "7",
                                    "tag_id": "11644"
                                },
                                {
                                    "title": "Geisha, a Life",
                                    "total_count": "7",
                                    "tag_id": "11644"
                                },
                                {
                                    "title": "Girl in a Band",
                                    "total_count": "7",
                                    "tag_id": "11644"
                                },
                                {
                                    "title": "Hunting and Gathering",
                                    "total_count": "7",
                                    "tag_id": "11644"
                                },
                                {
                                    "title": "Cat Among the Pigeons (Hercule Poirot, #32)",
                                    "total_count": "7",
                                    "tag_id": "11644"
                                },
                                {
                                    "title": "Cold Fire (The Circle Opens, #3)",
                                    "total_count": "7",
                                    "tag_id": "11644"
                                },
                                {
                                    "title": "Five Days at Memorial: Life and Death in a Storm-Ravaged Hospital",
                                    "total_count": "7",
                                    "tag_id": "11644"
                                },
                                {
                                    "title": "Empress Orchid (Empress Orchid, #1)",
                                    "total_count": "7",
                                    "tag_id": "11644"
                                },
                                {
                                    "title": "Death at La Fenice (Commissario Brunetti, #1)",
                                    "total_count": "7",
                                    "tag_id": "11644"
                                },
                                {
                                    "title": "Don't Let's Go to the Dogs Tonight",
                                    "total_count": "7",
                                    "tag_id": "11644"
                                },
                                {
                                    "title": "Double Act",
                                    "total_count": "7",
                                    "tag_id": "11644"
                                },
                                {
                                    "title": "At Bertram's Hotel (Miss Marple, #11)",
                                    "total_count": "7",
                                    "tag_id": "11644"
                                },
                                {
                                    "title": "A Place Called Here",
                                    "total_count": "7",
                                    "tag_id": "11644"
                                },
                                {
                                    "title": "A Mango-Shaped Space",
                                    "total_count": "7",
                                    "tag_id": "11644"
                                },
                                {
                                    "title": "Spindle's End",
                                    "total_count": "7",
                                    "tag_id": "11644"
                                },
                                {
                                    "title": "Running Out of Time",
                                    "total_count": "7",
                                    "tag_id": "11644"
                                },
                                {
                                    "title": "Scarlett",
                                    "total_count": "7",
                                    "tag_id": "11644"
                                },
                                {
                                    "title": "Shatterglass (The Circle Opens, #4)",
                                    "total_count": "7",
                                    "tag_id": "11644"
                                },
                                {
                                    "title": "Stupeur et tremblements",
                                    "total_count": "7",
                                    "tag_id": "11644"
                                },
                                {
                                    "title": "Sweetbitter",
                                    "total_count": "7",
                                    "tag_id": "11644"
                                },
                                {
                                    "title": "Tampa",
                                    "total_count": "7",
                                    "tag_id": "11644"
                                },
                                {
                                    "title": "Tar Baby",
                                    "total_count": "7",
                                    "tag_id": "11644"
                                },
                                {
                                    "title": "Nine Parts of Desire: The Hidden World of Islamic Women",
                                    "total_count": "7",
                                    "tag_id": "11644"
                                },
                                {
                                    "title": "Otherwise Known as Sheila the Great (Fudge #2)",
                                    "total_count": "7",
                                    "tag_id": "11644"
                                },
                                {
                                    "title": "Rachel's Holiday (Walsh Family, #2)",
                                    "total_count": "7",
                                    "tag_id": "11644"
                                },
                                {
                                    "title": "Persepolis, Volume 1",
                                    "total_count": "7",
                                    "tag_id": "11644"
                                },
                                {
                                    "title": "Pilgrim at Tinker Creek",
                                    "total_count": "7",
                                    "tag_id": "11644"
                                },
                                {
                                    "title": "The Magic Faraway Tree (The Faraway Tree, #2)",
                                    "total_count": "7",
                                    "tag_id": "11644"
                                },
                                {
                                    "title": "The Love Affairs of Nathaniel P.",
                                    "total_count": "6",
                                    "tag_id": "11644"
                                },
                                {
                                    "title": "The Lifeboat",
                                    "total_count": "6",
                                    "tag_id": "11644"
                                },
                                {
                                    "title": "The Keep",
                                    "total_count": "6",
                                    "tag_id": "11644"
                                },
                                {
                                    "title": "The Master Butchers Singing Club",
                                    "total_count": "6",
                                    "tag_id": "11644"
                                },
                                {
                                    "title": "The Night Sister",
                                    "total_count": "6",
                                    "tag_id": "11644"
                                },
                                {
                                    "title": "The Other Typist",
                                    "total_count": "6",
                                    "tag_id": "11644"
                                },
                                {
                                    "title": "The Heart of a Woman",
                                    "total_count": "6",
                                    "tag_id": "11644"
                                },
                                {
                                    "title": "The Defining Decade: Why Your Twenties Matter--And How to Make the Most of Them Now",
                                    "total_count": "6",
                                    "tag_id": "11644"
                                },
                                {
                                    "title": "The Center Cannot Hold: My Journey Through Madness",
                                    "total_count": "6",
                                    "tag_id": "11644"
                                },
                                {
                                    "title": "Portrait in Sepia",
                                    "total_count": "6",
                                    "tag_id": "11644"
                                },
                                {
                                    "title": "Possessing the Secret of Joy",
                                    "total_count": "6",
                                    "tag_id": "11644"
                                },
                                {
                                    "title": "Paula",
                                    "total_count": "6",
                                    "tag_id": "11644"
                                },
                                {
                                    "title": "Priestess of Avalon (Avalon, #4)",
                                    "total_count": "6",
                                    "tag_id": "11644"
                                },
                                {
                                    "title": "Rumble Fish",
                                    "total_count": "6",
                                    "tag_id": "11644"
                                },
                                {
                                    "title": "One Good Turn (Jackson Brodie, #2)",
                                    "total_count": "6",
                                    "tag_id": "11644"
                                },
                                {
                                    "title": "One, Two, Buckle My Shoe (Hercule Poirot, #22)",
                                    "total_count": "6",
                                    "tag_id": "11644"
                                },
                                {
                                    "title": "Ordinary People",
                                    "total_count": "6",
                                    "tag_id": "11644"
                                },
                                {
                                    "title": "My Stroke of Insight: A Brain Scientist's Personal Journey",
                                    "total_count": "6",
                                    "tag_id": "11644"
                                },
                                {
                                    "title": "Nemesis (Miss Marple, #12)",
                                    "total_count": "6",
                                    "tag_id": "11644"
                                },
                                {
                                    "title": "Thanks for the Memories",
                                    "total_count": "6",
                                    "tag_id": "11644"
                                },
                                {
                                    "title": "That Was Then, This Is Now",
                                    "total_count": "6",
                                    "tag_id": "11644"
                                },
                                {
                                    "title": "Sushi for Beginners",
                                    "total_count": "6",
                                    "tag_id": "11644"
                                },
                                {
                                    "title": "Seeds of Yesterday (Dollanganger, #4)",
                                    "total_count": "6",
                                    "tag_id": "11644"
                                },
                                {
                                    "title": "Selected Poems",
                                    "total_count": "6",
                                    "tag_id": "11644"
                                },
                                {
                                    "title": "Stones from the River",
                                    "total_count": "6",
                                    "tag_id": "11644"
                                },
                                {
                                    "title": "Songs of the Humpback Whale",
                                    "total_count": "6",
                                    "tag_id": "11644"
                                },
                                {
                                    "title": "A Gate at the Stairs",
                                    "total_count": "6",
                                    "tag_id": "11644"
                                },
                                {
                                    "title": "A Monstrous Regiment of Women (Mary Russell, #2)",
                                    "total_count": "6",
                                    "tag_id": "11644"
                                },
                                {
                                    "title": "Adam Bede",
                                    "total_count": "6",
                                    "tag_id": "11644"
                                },
                                {
                                    "title": "Blackout: Remembering the Things I Drank to Forget",
                                    "total_count": "6",
                                    "tag_id": "11644"
                                },
                                {
                                    "title": "Down the Rabbit Hole: Curious Adventures and Cautionary Tales of a Former Playboy Bunny",
                                    "total_count": "6",
                                    "tag_id": "11644"
                                },
                                {
                                    "title": "Drift: The Unmooring of American Military Power",
                                    "total_count": "6",
                                    "tag_id": "11644"
                                },
                                {
                                    "title": "Elephants Can Remember (Hercule Poirot, #37)",
                                    "total_count": "6",
                                    "tag_id": "11644"
                                },
                                {
                                    "title": "Five Go Adventuring Again (Famous Five, #2)",
                                    "total_count": "6",
                                    "tag_id": "11644"
                                },
                                {
                                    "title": "Cover Her Face (Adam Dalgliesh #1)",
                                    "total_count": "6",
                                    "tag_id": "11644"
                                },
                                {
                                    "title": "Daniel Deronda",
                                    "total_count": "6",
                                    "tag_id": "11644"
                                },
                                {
                                    "title": "Bringing Up Bébé: One American Mother Discovers the Wisdom of French Parenting",
                                    "total_count": "6",
                                    "tag_id": "11644"
                                },
                                {
                                    "title": "Gut: The Inside Story of Our Body’s Most Underrated Organ",
                                    "total_count": "6",
                                    "tag_id": "11644"
                                },
                                {
                                    "title": "Great House",
                                    "total_count": "6",
                                    "tag_id": "11644"
                                },
                                {
                                    "title": "Hard Choices",
                                    "total_count": "6",
                                    "tag_id": "11644"
                                },
                                {
                                    "title": "Fugitive Pieces",
                                    "total_count": "6",
                                    "tag_id": "11644"
                                },
                                {
                                    "title": "LaRose",
                                    "total_count": "6",
                                    "tag_id": "11644"
                                },
                                {
                                    "title": "Is It Just Me?",
                                    "total_count": "6",
                                    "tag_id": "11644"
                                },
                                {
                                    "title": "Molly Moon's Incredible Book of Hypnotism (Molly Moon, #1)",
                                    "total_count": "6",
                                    "tag_id": "11644"
                                },
                                {
                                    "title": "Mary Barton",
                                    "total_count": "6",
                                    "tag_id": "11644"
                                },
                                {
                                    "title": "Watermelon (Walsh Family, #1)",
                                    "total_count": "6",
                                    "tag_id": "11644"
                                },
                                {
                                    "title": "The Stories of Eva Luna",
                                    "total_count": "6",
                                    "tag_id": "11644"
                                },
                                {
                                    "title": "The Postmistress",
                                    "total_count": "6",
                                    "tag_id": "11644"
                                },
                                {
                                    "title": "The Worst Witch (Worst Witch, #1)",
                                    "total_count": "5",
                                    "tag_id": "11644"
                                },
                                {
                                    "title": "The Weight of Water",
                                    "total_count": "5",
                                    "tag_id": "11644"
                                },
                                {
                                    "title": "Wave",
                                    "total_count": "5",
                                    "tag_id": "11644"
                                },
                                {
                                    "title": "What Looks Like Crazy on an Ordinary Day (Idlewild, #1)",
                                    "total_count": "5",
                                    "tag_id": "11644"
                                },
                                {
                                    "title": "Unnatural Death (Lord Peter Wimsey, #3)",
                                    "total_count": "5",
                                    "tag_id": "11644"
                                },
                                {
                                    "title": "Zorro",
                                    "total_count": "5",
                                    "tag_id": "11644"
                                },
                                {
                                    "title": "Living History",
                                    "total_count": "5",
                                    "tag_id": "11644"
                                },
                                {
                                    "title": "Mornings in Jenin",
                                    "total_count": "5",
                                    "tag_id": "11644"
                                },
                                {
                                    "title": "My Story",
                                    "total_count": "5",
                                    "tag_id": "11644"
                                },
                                {
                                    "title": "Icy Sparks",
                                    "total_count": "5",
                                    "tag_id": "11644"
                                },
                                {
                                    "title": "Last Chance Saloon",
                                    "total_count": "5",
                                    "tag_id": "11644"
                                },
                                {
                                    "title": "Lies That Chelsea Handler Told Me",
                                    "total_count": "5",
                                    "tag_id": "11644"
                                },
                                {
                                    "title": "Kabul Beauty School: An American Woman Goes Behind the Veil",
                                    "total_count": "5",
                                    "tag_id": "11644"
                                },
                                {
                                    "title": "Fool's Quest  (The Fitz and The Fool, #2)",
                                    "total_count": "5",
                                    "tag_id": "11644"
                                },
                                {
                                    "title": "for colored girls who have considered suicide/when the rainbow is enuf",
                                    "total_count": "5",
                                    "tag_id": "11644"
                                },
                                {
                                    "title": "Girls in Love (Girls, #1)",
                                    "total_count": "5",
                                    "tag_id": "11644"
                                },
                                {
                                    "title": "Good Wives (Little Women, #1.5)",
                                    "total_count": "5",
                                    "tag_id": "11644"
                                },
                                {
                                    "title": "Hausfrau",
                                    "total_count": "5",
                                    "tag_id": "11644"
                                },
                                {
                                    "title": "Homecoming (Tillerman Cycle, #1)",
                                    "total_count": "5",
                                    "tag_id": "11644"
                                },
                                {
                                    "title": "Heft",
                                    "total_count": "5",
                                    "tag_id": "11644"
                                },
                                {
                                    "title": "Candy Girl: A Year in the Life of an Unlikely Stripper",
                                    "total_count": "5",
                                    "tag_id": "11644"
                                },
                                {
                                    "title": "Children of God (The Sparrow, #2)",
                                    "total_count": "5",
                                    "tag_id": "11644"
                                },
                                {
                                    "title": "Commencement ",
                                    "total_count": "5",
                                    "tag_id": "11644"
                                },
                                {
                                    "title": "City of Dragons (Rain Wild Chronicles, #3)",
                                    "total_count": "5",
                                    "tag_id": "11644"
                                },
                                {
                                    "title": "Dinner at the Homesick Restaurant",
                                    "total_count": "5",
                                    "tag_id": "11644"
                                },
                                {
                                    "title": "Evil at Heart (Archie Sheridan & Gretchen Lowell, #3)",
                                    "total_count": "5",
                                    "tag_id": "11644"
                                },
                                {
                                    "title": "Desert Flower",
                                    "total_count": "5",
                                    "tag_id": "11644"
                                },
                                {
                                    "title": "Book of Shadows (Sweep, #1)",
                                    "total_count": "5",
                                    "tag_id": "11644"
                                },
                                {
                                    "title": "Sickened: The Memoir of a Munchausen by Proxy Childhood",
                                    "total_count": "5",
                                    "tag_id": "11644"
                                },
                                {
                                    "title": "Sweetheart (Archie Sheridan & Gretchen Lowell, #2)",
                                    "total_count": "5",
                                    "tag_id": "11644"
                                },
                                {
                                    "title": "Take the Cannoli",
                                    "total_count": "5",
                                    "tag_id": "11644"
                                },
                                {
                                    "title": "The Beach House",
                                    "total_count": "5",
                                    "tag_id": "11644"
                                },
                                {
                                    "title": "Not Without My Daughter",
                                    "total_count": "5",
                                    "tag_id": "11644"
                                },
                                {
                                    "title": "Paint it Black",
                                    "total_count": "5",
                                    "tag_id": "11644"
                                },
                                {
                                    "title": "The Dragonriders of Pern (Dragonriders of Pern, #1-3)",
                                    "total_count": "5",
                                    "tag_id": "11644"
                                },
                                {
                                    "title": "The Girl in the Red Coat",
                                    "total_count": "5",
                                    "tag_id": "11644"
                                },
                                {
                                    "title": "The Enchanted Wood (The Faraway Tree, #1)",
                                    "total_count": "5",
                                    "tag_id": "11644"
                                },
                                {
                                    "title": "The Emperor's Children",
                                    "total_count": "5",
                                    "tag_id": "11644"
                                },
                                {
                                    "title": "The Partly Cloudy Patriot",
                                    "total_count": "5",
                                    "tag_id": "11644"
                                },
                                {
                                    "title": "The Joy of Cooking",
                                    "total_count": "5",
                                    "tag_id": "11644"
                                },
                                {
                                    "title": "The Last Time They Met",
                                    "total_count": "4",
                                    "tag_id": "11644"
                                },
                                {
                                    "title": "The Illustrated Mum",
                                    "total_count": "4",
                                    "tag_id": "11644"
                                },
                                {
                                    "title": "The Other Side of the Story",
                                    "total_count": "4",
                                    "tag_id": "11644"
                                },
                                {
                                    "title": "The Memoirs of Cleopatra",
                                    "total_count": "4",
                                    "tag_id": "11644"
                                },
                                {
                                    "title": "The Moosewood Cookbook: Recipes from Moosewood Restaurant, Ithaca, New York",
                                    "total_count": "4",
                                    "tag_id": "11644"
                                },
                                {
                                    "title": "The Diary of Frida Kahlo: An Intimate Self-Portrait",
                                    "total_count": "4",
                                    "tag_id": "11644"
                                },
                                {
                                    "title": "The Faraway Tree Stories (The Faraway Tree #1-3)",
                                    "total_count": "4",
                                    "tag_id": "11644"
                                },
                                {
                                    "title": "The Hollow Hills (Arthurian Saga, #2)",
                                    "total_count": "4",
                                    "tag_id": "11644"
                                },
                                {
                                    "title": "The Drama of the Gifted Child: The Search for the True Self",
                                    "total_count": "4",
                                    "tag_id": "11644"
                                },
                                {
                                    "title": "The Creative Habit: Learn It and Use It for Life",
                                    "total_count": "4",
                                    "tag_id": "11644"
                                },
                                {
                                    "title": "The Bloodletter's Daughter: A Novel of Old Bohemia",
                                    "total_count": "4",
                                    "tag_id": "11644"
                                },
                                {
                                    "title": "The Cat Who Could Read Backwards (Cat Who..., #1)",
                                    "total_count": "4",
                                    "tag_id": "11644"
                                },
                                {
                                    "title": "On Photography",
                                    "total_count": "4",
                                    "tag_id": "11644"
                                },
                                {
                                    "title": "Open House",
                                    "total_count": "4",
                                    "tag_id": "11644"
                                },
                                {
                                    "title": "Ripper",
                                    "total_count": "4",
                                    "tag_id": "11644"
                                },
                                {
                                    "title": "The Autobiography of Henry VIII: With Notes by His Fool, Will Somers",
                                    "total_count": "4",
                                    "tag_id": "11644"
                                },
                                {
                                    "title": "Tales of a Female Nomad: Living at Large in the World",
                                    "total_count": "4",
                                    "tag_id": "11644"
                                },
                                {
                                    "title": " Angels (Walsh Family, #3)",
                                    "total_count": "4",
                                    "tag_id": "11644"
                                },
                                {
                                    "title": "A Map of the World",
                                    "total_count": "4",
                                    "tag_id": "11644"
                                },
                                {
                                    "title": "Dragon Prince (Dragon Prince, #1)",
                                    "total_count": "4",
                                    "tag_id": "11644"
                                },
                                {
                                    "title": "I Am Livia",
                                    "total_count": "4",
                                    "tag_id": "11644"
                                },
                                {
                                    "title": "How to Fall in Love",
                                    "total_count": "4",
                                    "tag_id": "11644"
                                },
                                {
                                    "title": "Holy Cow: An Indian Adventure",
                                    "total_count": "4",
                                    "tag_id": "11644"
                                },
                                {
                                    "title": "Heaven (Casteel, #1)",
                                    "total_count": "4",
                                    "tag_id": "11644"
                                },
                                {
                                    "title": "Girl Walks into a Bar . . .: Comedy Calamities, Dating Disasters, and a Midlife Miracle",
                                    "total_count": "4",
                                    "tag_id": "11644"
                                },
                                {
                                    "title": "Four Blondes",
                                    "total_count": "4",
                                    "tag_id": "11644"
                                },
                                {
                                    "title": "Inés of My Soul",
                                    "total_count": "4",
                                    "tag_id": "11644"
                                },
                                {
                                    "title": "Nana, Vol. 1 (Nana, #1)",
                                    "total_count": "4",
                                    "tag_id": "11644"
                                },
                                {
                                    "title": "Wit",
                                    "total_count": "4",
                                    "tag_id": "11644"
                                },
                                {
                                    "title": "Women of the Silk",
                                    "total_count": "4",
                                    "tag_id": "11644"
                                },
                                {
                                    "title": "This Charming Man",
                                    "total_count": "4",
                                    "tag_id": "11644"
                                },
                                {
                                    "title": "Welcome to the World, Baby Girl! (Elmwood Springs, #1)",
                                    "total_count": "4",
                                    "tag_id": "11644"
                                },
                                {
                                    "title": "The Wayfarer Redemption (Wayfarer Redemption, #1)",
                                    "total_count": "4",
                                    "tag_id": "11644"
                                },
                                {
                                    "title": "The Rapture of Canaan",
                                    "total_count": "4",
                                    "tag_id": "11644"
                                },
                                {
                                    "title": "The Tale of Mrs. Tiggy-Winkle",
                                    "total_count": "4",
                                    "tag_id": "11644"
                                },
                                {
                                    "title": "The Tiger Who Came to Tea",
                                    "total_count": "3",
                                    "tag_id": "11644"
                                },
                                {
                                    "title": "Uganda Be Kidding Me",
                                    "total_count": "3",
                                    "tag_id": "11644"
                                },
                                {
                                    "title": "When Rabbit Howls",
                                    "total_count": "3",
                                    "tag_id": "11644"
                                },
                                {
                                    "title": "Mastering the Art of French Cooking",
                                    "total_count": "3",
                                    "tag_id": "11644"
                                },
                                {
                                    "title": "Inside the Human Body (The Magic School Bus, #3)",
                                    "total_count": "3",
                                    "tag_id": "11644"
                                },
                                {
                                    "title": "Life and Other Near-Death Experiences",
                                    "total_count": "3",
                                    "tag_id": "11644"
                                },
                                {
                                    "title": "Legally Blonde",
                                    "total_count": "3",
                                    "tag_id": "11644"
                                },
                                {
                                    "title": "Happier at Home: Kiss More, Jump More, Abandon a Project, Read Samuel Johnson, and My Other Experiments in the Practice of Everyday Life",
                                    "total_count": "3",
                                    "tag_id": "11644"
                                },
                                {
                                    "title": "Hello, Mrs. Piggle-Wiggle (Mrs. Piggle Wiggle, #4)",
                                    "total_count": "3",
                                    "tag_id": "11644"
                                },
                                {
                                    "title": "I Am Having So Much Fun Here Without You",
                                    "total_count": "3",
                                    "tag_id": "11644"
                                },
                                {
                                    "title": "Drinking: A Love Story",
                                    "total_count": "3",
                                    "tag_id": "11644"
                                },
                                {
                                    "title": "Dark Angel (Casteel, #2)",
                                    "total_count": "3",
                                    "tag_id": "11644"
                                },
                                {
                                    "title": "Dawn (Cutler, #1)",
                                    "total_count": "3",
                                    "tag_id": "11644"
                                },
                                {
                                    "title": "1,000 Places to See Before You Die",
                                    "total_count": "3",
                                    "tag_id": "11644"
                                },
                                {
                                    "title": "Absent In The Spring",
                                    "total_count": "3",
                                    "tag_id": "11644"
                                },
                                {
                                    "title": "Big Brother",
                                    "total_count": "3",
                                    "tag_id": "11644"
                                },
                                {
                                    "title": "Standing in the Rainbow (Elmwood Springs, #2)",
                                    "total_count": "3",
                                    "tag_id": "11644"
                                },
                                {
                                    "title": "The Beet Queen",
                                    "total_count": "3",
                                    "tag_id": "11644"
                                },
                                {
                                    "title": "Stormy, Misty's Foal (Misty, #3)",
                                    "total_count": "3",
                                    "tag_id": "11644"
                                },
                                {
                                    "title": "Pretend You Don't See Her",
                                    "total_count": "3",
                                    "tag_id": "11644"
                                },
                                {
                                    "title": "On Death and Dying",
                                    "total_count": "3",
                                    "tag_id": "11644"
                                },
                                {
                                    "title": "The Complete Novels",
                                    "total_count": "3",
                                    "tag_id": "11644"
                                },
                                {
                                    "title": "The Earthsea Trilogy",
                                    "total_count": "3",
                                    "tag_id": "11644"
                                },
                                {
                                    "title": "The Folk of the Faraway Tree (The Faraway Tree, #3)",
                                    "total_count": "3",
                                    "tag_id": "11644"
                                },
                                {
                                    "title": "The End of Mr. Y",
                                    "total_count": "3",
                                    "tag_id": "11644"
                                },
                                {
                                    "title": "The Many Lives & Secret Sorrows of Josephine B. (Josephine Bonaparte, #1)",
                                    "total_count": "3",
                                    "tag_id": "11644"
                                },
                                {
                                    "title": "The Passion of Artemisia",
                                    "total_count": "3",
                                    "tag_id": "11644"
                                },
                                {
                                    "title": "The Little Red Caboose (Little Golden Book)",
                                    "total_count": "2",
                                    "tag_id": "11644"
                                },
                                {
                                    "title": "The Dirty Girls Social Club (Dirty Girls, #1)",
                                    "total_count": "2",
                                    "tag_id": "11644"
                                },
                                {
                                    "title": "The Gift",
                                    "total_count": "2",
                                    "tag_id": "11644"
                                },
                                {
                                    "title": "Nigella Express: Good Food, Fast",
                                    "total_count": "2",
                                    "tag_id": "11644"
                                },
                                {
                                    "title": "Rudolph the Red-Nosed Reindeer",
                                    "total_count": "2",
                                    "tag_id": "11644"
                                },
                                {
                                    "title": "Small Sacrifices: A True Story of Passion and Murder",
                                    "total_count": "2",
                                    "tag_id": "11644"
                                },
                                {
                                    "title": "Simple Abundance:  A Daybook of Comfort and Joy",
                                    "total_count": "2",
                                    "tag_id": "11644"
                                },
                                {
                                    "title": "Sleeping Beauty Box Set",
                                    "total_count": "2",
                                    "tag_id": "11644"
                                },
                                {
                                    "title": "Succulent Wild Woman",
                                    "total_count": "2",
                                    "tag_id": "11644"
                                },
                                {
                                    "title": "Beaches",
                                    "total_count": "2",
                                    "tag_id": "11644"
                                },
                                {
                                    "title": "All He Ever Wanted",
                                    "total_count": "2",
                                    "tag_id": "11644"
                                },
                                {
                                    "title": "Dibs in Search of Self",
                                    "total_count": "2",
                                    "tag_id": "11644"
                                },
                                {
                                    "title": "I Love You Through and Through",
                                    "total_count": "2",
                                    "tag_id": "11644"
                                },
                                {
                                    "title": "Gakuen Alice, Vol. 01 (Gakuen Alice, #1)",
                                    "total_count": "2",
                                    "tag_id": "11644"
                                },
                                {
                                    "title": "I, Elizabeth",
                                    "total_count": "2",
                                    "tag_id": "11644"
                                },
                                {
                                    "title": "Martha Stewart's Cookies: The Very Best Treats to Bake and to Share",
                                    "total_count": "2",
                                    "tag_id": "11644"
                                },
                                {
                                    "title": "Manga Classics: Les Misérables",
                                    "total_count": "2",
                                    "tag_id": "11644"
                                },
                                {
                                    "title": "Mother of Pearl",
                                    "total_count": "2",
                                    "tag_id": "11644"
                                },
                                {
                                    "title": "Wonderful Tonight",
                                    "total_count": "2",
                                    "tag_id": "11644"
                                },
                                {
                                    "title": "What We Keep ",
                                    "total_count": "2",
                                    "tag_id": "11644"
                                },
                                {
                                    "title": "Waiting to Exhale (Waiting To Exhale #1)",
                                    "total_count": "2",
                                    "tag_id": "11644"
                                },
                                {
                                    "title": "The Princess and the Pea",
                                    "total_count": "2",
                                    "tag_id": "11644"
                                },
                                {
                                    "title": "The Way to Cook",
                                    "total_count": "1",
                                    "tag_id": "11644"
                                },
                                {
                                    "title": "Rachael Ray 365: No Repeats: A Year of Deliciously Different Dinners",
                                    "total_count": "1",
                                    "tag_id": "11644"
                                },
                                {
                                    "title": "The Fannie Farmer Cookbook: Anniversary",
                                    "total_count": "1",
                                    "tag_id": "11644"
                                }
                            ]
                        },
                        "text/html": [
                            "<table>",
                            "<tr><th>title</th><th>total_count</th><th>tag_id</th></tr>",
                            "<tr><td>The Handmaid&#39;s Tale</td><td>214</td><td>11644</td></tr>",
                            "<tr><td>Jane Eyre</td><td>170</td><td>11644</td></tr>",
                            "<tr><td>Wuthering Heights</td><td>158</td><td>11644</td></tr>",
                            "<tr><td>Frankenstein</td><td>146</td><td>11644</td></tr>",
                            "<tr><td>The Diary of a Young Girl</td><td>128</td><td>11644</td></tr>",
                            "<tr><td>Little Women (Little Women, #1)</td><td>120</td><td>11644</td></tr>",
                            "<tr><td>Beloved</td><td>106</td><td>11644</td></tr>",
                            "<tr><td>Sense and Sensibility</td><td>102</td><td>11644</td></tr>",
                            "<tr><td>The Lovely Bones</td><td>93</td><td>11644</td></tr>",
                            "<tr><td>Americanah</td><td>93</td><td>11644</td></tr>",
                            "<tr><td>Mrs. Dalloway</td><td>90</td><td>11644</td></tr>",
                            "<tr><td>Emma</td><td>89</td><td>11644</td></tr>",
                            "<tr><td>The Goldfinch</td><td>89</td><td>11644</td></tr>",
                            "<tr><td>Room</td><td>84</td><td>11644</td></tr>",
                            "<tr><td>Bossypants</td><td>82</td><td>11644</td></tr>",
                            "<tr><td>The Secret History</td><td>81</td><td>11644</td></tr>",
                            "<tr><td>Their Eyes Were Watching God</td><td>76</td><td>11644</td></tr>",
                            "<tr><td>Oryx and Crake (MaddAddam, #1)</td><td>76</td><td>11644</td></tr>",
                            "<tr><td>I Know Why the Caged Bird Sings</td><td>75</td><td>11644</td></tr>",
                            "<tr><td>To the Lighthouse</td><td>72</td><td>11644</td></tr>",
                            "<tr><td>Persuasion</td><td>71</td><td>11644</td></tr>",
                            "<tr><td>Yes Please</td><td>67</td><td>11644</td></tr>",
                            "<tr><td>White Teeth</td><td>66</td><td>11644</td></tr>",
                            "<tr><td>Northanger Abbey</td><td>66</td><td>11644</td></tr>",
                            "<tr><td>Station Eleven</td><td>64</td><td>11644</td></tr>",
                            "<tr><td>The Awakening</td><td>64</td><td>11644</td></tr>",
                            "<tr><td>The Bluest Eye</td><td>63</td><td>11644</td></tr>",
                            "<tr><td>Water for Elephants</td><td>63</td><td>11644</td></tr>",
                            "<tr><td>The Secret Life of Bees</td><td>63</td><td>11644</td></tr>",
                            "<tr><td>Interview with the Vampire (The Vampire Chronicles, #1)</td><td>62</td><td>11644</td></tr>",
                            "<tr><td>Kindred</td><td>62</td><td>11644</td></tr>",
                            "<tr><td>A Room of One&#39;s Own</td><td>62</td><td>11644</td></tr>",
                            "<tr><td>A Tree Grows in Brooklyn</td><td>60</td><td>11644</td></tr>",
                            "<tr><td>The God of Small Things</td><td>60</td><td>11644</td></tr>",
                            "<tr><td>The Joy Luck Club</td><td>60</td><td>11644</td></tr>",
                            "<tr><td>The Poisonwood Bible</td><td>59</td><td>11644</td></tr>",
                            "<tr><td>The Left Hand of Darkness</td><td>58</td><td>11644</td></tr>",
                            "<tr><td>The Blind Assassin</td><td>58</td><td>11644</td></tr>",
                            "<tr><td>Jonathan Strange &amp; Mr Norrell</td><td>58</td><td>11644</td></tr>",
                            "<tr><td>Is Everyone Hanging Out Without Me? (And Other Concerns)</td><td>58</td><td>11644</td></tr>",
                            "<tr><td>Interpreter of Maladies</td><td>57</td><td>11644</td></tr>",
                            "<tr><td>The Age of Innocence</td><td>57</td><td>11644</td></tr>",
                            "<tr><td>Bad Feminist</td><td>56</td><td>11644</td></tr>",
                            "<tr><td>Bridget Jones&#39;s Diary (Bridget Jones, #1)</td><td>56</td><td>11644</td></tr>",
                            "<tr><td>We Have Always Lived in the Castle</td><td>56</td><td>11644</td></tr>",
                            "<tr><td>The Complete Persepolis</td><td>54</td><td>11644</td></tr>",
                            "<tr><td>The House of the Spirits</td><td>52</td><td>11644</td></tr>",
                            "<tr><td>Orlando</td><td>52</td><td>11644</td></tr>",
                            "<tr><td>A Wizard of Earthsea (Earthsea Cycle, #1)</td><td>51</td><td>11644</td></tr>",
                            "<tr><td>A Tale for the Time Being</td><td>51</td><td>11644</td></tr>",
                            "<tr><td>Mansfield Park</td><td>50</td><td>11644</td></tr>",
                            "<tr><td>The Haunting of Hill House</td><td>49</td><td>11644</td></tr>",
                            "<tr><td>A Visit from the Goon Squad</td><td>48</td><td>11644</td></tr>",
                            "<tr><td>Howl&#39;s Moving Castle (Howl&#39;s Moving Castle, #1)</td><td>47</td><td>11644</td></tr>",
                            "<tr><td>Men Explain Things to Me</td><td>43</td><td>11644</td></tr>",
                            "<tr><td>Middlemarch</td><td>43</td><td>11644</td></tr>",
                            "<tr><td>The Bloody Chamber and Other Stories</td><td>43</td><td>11644</td></tr>",
                            "<tr><td>The House on Mango Street</td><td>43</td><td>11644</td></tr>",
                            "<tr><td>The Year of the Flood  (MaddAddam, #2)</td><td>43</td><td>11644</td></tr>",
                            "<tr><td>The Heart is a Lonely Hunter</td><td>42</td><td>11644</td></tr>",
                            "<tr><td>North and South</td><td>42</td><td>11644</td></tr>",
                            "<tr><td>Persepolis: The Story of a Childhood (Persepolis, #1)</td><td>42</td><td>11644</td></tr>",
                            "<tr><td>Oranges Are Not the Only Fruit</td><td>41</td><td>11644</td></tr>",
                            "<tr><td>Nimona</td><td>41</td><td>11644</td></tr>",
                            "<tr><td>Song of Solomon</td><td>41</td><td>11644</td></tr>",
                            "<tr><td>Homegoing</td><td>41</td><td>11644</td></tr>",
                            "<tr><td>Fantastic Beasts and Where to Find Them</td><td>41</td><td>11644</td></tr>",
                            "<tr><td>Wolf Hall (Thomas Cromwell, #1)</td><td>41</td><td>11644</td></tr>",
                            "<tr><td>The Song of Achilles</td><td>40</td><td>11644</td></tr>",
                            "<tr><td>I Am Malala: The Story of the Girl Who Stood Up for Education and Was Shot by the Taliban</td><td>40</td><td>11644</td></tr>",
                            "<tr><td>Hyperbole and a Half: Unfortunate Situations, Flawed Coping Mechanisms, Mayhem, and Other Things That Happened</td><td>40</td><td>11644</td></tr>",
                            "<tr><td>In the Woods (Dublin Murder Squad, #1)</td><td>40</td><td>11644</td></tr>",
                            "<tr><td>The Luminaries</td><td>40</td><td>11644</td></tr>",
                            "<tr><td>Just Kids</td><td>39</td><td>11644</td></tr>",
                            "<tr><td>My Ántonia</td><td>39</td><td>11644</td></tr>",
                            "<tr><td>The Tenant of Wildfell Hall</td><td>39</td><td>11644</td></tr>",
                            "<tr><td>The Sisterhood of the Traveling Pants (Sisterhood, #1)</td><td>38</td><td>11644</td></tr>",
                            "<tr><td>Milk and Honey</td><td>38</td><td>11644</td></tr>",
                            "<tr><td>The Mists of Avalon (Avalon, #1)</td><td>37</td><td>11644</td></tr>",
                            "<tr><td>The Namesake</td><td>37</td><td>11644</td></tr>",
                            "<tr><td>Sula</td><td>37</td><td>11644</td></tr>",
                            "<tr><td>Not That Kind of Girl: A Young Woman Tells You What She&#39;s &quot;Learned&quot;</td><td>37</td><td>11644</td></tr>",
                            "<tr><td>On Beauty</td><td>37</td><td>11644</td></tr>",
                            "<tr><td>The Yellow Wallpaper and Other Stories</td><td>37</td><td>11644</td></tr>",
                            "<tr><td>The Vegetarian</td><td>36</td><td>11644</td></tr>",
                            "<tr><td>The House of Mirth</td><td>36</td><td>11644</td></tr>",
                            "<tr><td>The Golden Notebook</td><td>36</td><td>11644</td></tr>",
                            "<tr><td>The Golem and the Jinni (The Golem and the Jinni, #1)</td><td>36</td><td>11644</td></tr>",
                            "<tr><td>Like Water for Chocolate</td><td>36</td><td>11644</td></tr>",
                            "<tr><td>How to Be a Woman</td><td>36</td><td>11644</td></tr>",
                            "<tr><td>Girl, Interrupted</td><td>36</td><td>11644</td></tr>",
                            "<tr><td>Parable of the Sower (Earthseed, #1)</td><td>35</td><td>11644</td></tr>",
                            "<tr><td>Stiff: The Curious Lives of Human Cadavers</td><td>35</td><td>11644</td></tr>",
                            "<tr><td>The Year of Magical Thinking</td><td>35</td><td>11644</td></tr>",
                            "<tr><td>Uncle Tom&#39;s Cabin</td><td>35</td><td>11644</td></tr>",
                            "<tr><td>The Color Purple</td><td>34</td><td>11644</td></tr>",
                            "<tr><td>Girl with a Pearl Earring</td><td>34</td><td>11644</td></tr>",
                            "<tr><td>Fried Green Tomatoes at the Whistle Stop Cafe</td><td>33</td><td>11644</td></tr>",
                            "<tr><td>MaddAddam (MaddAddam, #3)</td><td>33</td><td>11644</td></tr>",
                            "<tr><td>Alanna: The First Adventure (Song of the Lioness, #1)</td><td>33</td><td>11644</td></tr>",
                            "<tr><td>Ariel</td><td>33</td><td>11644</td></tr>",
                            "<tr><td>The Girls</td><td>33</td><td>11644</td></tr>",
                            "<tr><td>Purple Hibiscus</td><td>33</td><td>11644</td></tr>",
                            "<tr><td>We Are All Completely Beside Ourselves</td><td>33</td><td>11644</td></tr>",
                            "<tr><td>The Second Sex</td><td>32</td><td>11644</td></tr>",
                            "<tr><td>A Little Life</td><td>32</td><td>11644</td></tr>",
                            "<tr><td>Agnes Grey</td><td>31</td><td>11644</td></tr>",
                            "<tr><td>Burial Rites</td><td>31</td><td>11644</td></tr>",
                            "<tr><td>Cat&#39;s Eye</td><td>31</td><td>11644</td></tr>",
                            "<tr><td>Reading Lolita in Tehran</td><td>31</td><td>11644</td></tr>",
                            "<tr><td>Swamplandia!</td><td>31</td><td>11644</td></tr>",
                            "<tr><td>The Good Earth (House of Earth, #1)</td><td>31</td><td>11644</td></tr>",
                            "<tr><td>The Edible Woman</td><td>31</td><td>11644</td></tr>",
                            "<tr><td>The Dispossessed</td><td>31</td><td>11644</td></tr>",
                            "<tr><td>The Lowland</td><td>31</td><td>11644</td></tr>",
                            "<tr><td>The Prime of Miss Jean Brodie</td><td>31</td><td>11644</td></tr>",
                            "<tr><td>The Vampire Lestat (The Vampire Chronicles, #2)</td><td>31</td><td>11644</td></tr>",
                            "<tr><td>The Talented Mr. Ripley (Ripley, #1)</td><td>30</td><td>11644</td></tr>",
                            "<tr><td>Villette</td><td>30</td><td>11644</td></tr>",
                            "<tr><td>The Life-Changing Magic of Tidying Up: The Japanese Art of Decluttering and Organizing</td><td>30</td><td>11644</td></tr>",
                            "<tr><td>Kitchen</td><td>30</td><td>11644</td></tr>",
                            "<tr><td>Gilead (Gilead, #1)</td><td>30</td><td>11644</td></tr>",
                            "<tr><td>Go Ask Alice</td><td>29</td><td>11644</td></tr>",
                            "<tr><td>Fates and Furies</td><td>29</td><td>11644</td></tr>",
                            "<tr><td>Everything I Never Told You</td><td>29</td><td>11644</td></tr>",
                            "<tr><td>Ancillary Justice (Imperial Radch #1)</td><td>29</td><td>11644</td></tr>",
                            "<tr><td>Are You There God? It&#39;s Me, Margaret</td><td>29</td><td>11644</td></tr>",
                            "<tr><td>Black Beauty</td><td>29</td><td>11644</td></tr>",
                            "<tr><td>The Girl Who Circumnavigated Fairyland in a Ship of Her Own Making (Fairyland, #1)</td><td>29</td><td>11644</td></tr>",
                            "<tr><td>The Fountainhead</td><td>29</td><td>11644</td></tr>",
                            "<tr><td>We Should All Be Feminists</td><td>29</td><td>11644</td></tr>",
                            "<tr><td>Through the Woods</td><td>28</td><td>11644</td></tr>",
                            "<tr><td>The Robber Bride</td><td>28</td><td>11644</td></tr>",
                            "<tr><td>NW</td><td>28</td><td>11644</td></tr>",
                            "<tr><td>Bel Canto</td><td>28</td><td>11644</td></tr>",
                            "<tr><td>Anne of Avonlea (Anne of Green Gables, #2)</td><td>28</td><td>11644</td></tr>",
                            "<tr><td>Behind the Beautiful Forevers: Life, Death, and Hope in a Mumbai Undercity</td><td>27</td><td>11644</td></tr>",
                            "<tr><td>Orange Is the New Black</td><td>27</td><td>11644</td></tr>",
                            "<tr><td>Snow Flower and the Secret Fan</td><td>27</td><td>11644</td></tr>",
                            "<tr><td>The Memory Keeper&#39;s Daughter</td><td>27</td><td>11644</td></tr>",
                            "<tr><td>The Shipping News</td><td>27</td><td>11644</td></tr>",
                            "<tr><td>The Queen of the Damned (The Vampire Chronicles, #3)</td><td>27</td><td>11644</td></tr>",
                            "<tr><td>White Oleander</td><td>27</td><td>11644</td></tr>",
                            "<tr><td>The Penelopiad</td><td>26</td><td>11644</td></tr>",
                            "<tr><td>The Lover</td><td>26</td><td>11644</td></tr>",
                            "<tr><td>The Bees</td><td>26</td><td>11644</td></tr>",
                            "<tr><td>Furiously Happy: A Funny Book About Horrible Things</td><td>26</td><td>11644</td></tr>",
                            "<tr><td>Hark! A Vagrant</td><td>26</td><td>11644</td></tr>",
                            "<tr><td>Ms. Marvel, Vol. 1: No Normal</td><td>26</td><td>11644</td></tr>",
                            "<tr><td>The Long Way to a Small, Angry Planet (Wayfarers, #1)</td><td>25</td><td>11644</td></tr>",
                            "<tr><td>The Hundred Thousand Kingdoms (Inheritance Trilogy, #1)</td><td>25</td><td>11644</td></tr>",
                            "<tr><td>The Miniaturist</td><td>24</td><td>11644</td></tr>",
                            "<tr><td>The Murder of Roger Ackroyd (Hercule Poirot, #4)</td><td>24</td><td>11644</td></tr>",
                            "<tr><td>The History of Love</td><td>24</td><td>11644</td></tr>",
                            "<tr><td>The Complete Stories</td><td>24</td><td>11644</td></tr>",
                            "<tr><td>Slouching Towards Bethlehem</td><td>24</td><td>11644</td></tr>",
                            "<tr><td>Possession</td><td>24</td><td>11644</td></tr>",
                            "<tr><td>In the Time of the Butterflies</td><td>24</td><td>11644</td></tr>",
                            "<tr><td>Housekeeping</td><td>24</td><td>11644</td></tr>",
                            "<tr><td>The Round House</td><td>24</td><td>11644</td></tr>",
                            "<tr><td>Ethan Frome</td><td>23</td><td>11644</td></tr>",
                            "<tr><td>Bring Up the Bodies (Thomas Cromwell, #2)</td><td>23</td><td>11644</td></tr>",
                            "<tr><td>Chocolat (Chocolat, #1)</td><td>23</td><td>11644</td></tr>",
                            "<tr><td>The Lathe of Heaven</td><td>23</td><td>11644</td></tr>",
                            "<tr><td>The Lottery and Other Stories</td><td>22</td><td>11644</td></tr>",
                            "<tr><td>The Mysterious Affair at Styles (Hercule Poirot, #1)</td><td>22</td><td>11644</td></tr>",
                            "<tr><td>Dear Life: Stories</td><td>22</td><td>11644</td></tr>",
                            "<tr><td>Anthem</td><td>22</td><td>11644</td></tr>",
                            "<tr><td>Le bleu est une couleur chaude</td><td>22</td><td>11644</td></tr>",
                            "<tr><td>Lumberjanes, Vol. 1: Beware the Kitten Holy</td><td>22</td><td>11644</td></tr>",
                            "<tr><td>The Tiger&#39;s Wife</td><td>22</td><td>11644</td></tr>",
                            "<tr><td>The Vagina Monologues</td><td>22</td><td>11644</td></tr>",
                            "<tr><td>The Waves</td><td>22</td><td>11644</td></tr>",
                            "<tr><td>The Thing Around Your Neck</td><td>21</td><td>11644</td></tr>",
                            "<tr><td>Wise Blood</td><td>21</td><td>11644</td></tr>",
                            "<tr><td>This One Summer</td><td>21</td><td>11644</td></tr>",
                            "<tr><td>In the Hand of the Goddess (Song of the Lioness, #2)</td><td>21</td><td>11644</td></tr>",
                            "<tr><td>Hunger Makes Me a Modern Girl</td><td>21</td><td>11644</td></tr>",
                            "<tr><td>Bastard Out of Carolina</td><td>21</td><td>11644</td></tr>",
                            "<tr><td>Nick &amp; Norah&#39;s Infinite Playlist</td><td>21</td><td>11644</td></tr>",
                            "<tr><td>Surfacing</td><td>21</td><td>11644</td></tr>",
                            "<tr><td>Swing Time</td><td>21</td><td>11644</td></tr>",
                            "<tr><td>The Age of Miracles</td><td>20</td><td>11644</td></tr>",
                            "<tr><td>Nothing to Envy: Ordinary Lives in North Korea</td><td>20</td><td>11644</td></tr>",
                            "<tr><td>Anya&#39;s Ghost</td><td>20</td><td>11644</td></tr>",
                            "<tr><td>Hateship, Friendship, Courtship, Loveship, Marriage: Stories</td><td>20</td><td>11644</td></tr>",
                            "<tr><td>Heidi</td><td>20</td><td>11644</td></tr>",
                            "<tr><td>Murder at the Vicarage (Miss Marple, #1)</td><td>20</td><td>11644</td></tr>",
                            "<tr><td>Wild Swans: Three Daughters of China</td><td>20</td><td>11644</td></tr>",
                            "<tr><td>The Shining Girls</td><td>20</td><td>11644</td></tr>",
                            "<tr><td>The Woman Who Rides Like a Man (Song of the Lioness, #3)</td><td>19</td><td>11644</td></tr>",
                            "<tr><td>The Wonder</td><td>19</td><td>11644</td></tr>",
                            "<tr><td>Wild Magic (Immortals, #1)</td><td>19</td><td>11644</td></tr>",
                            "<tr><td>My Life on the Road</td><td>19</td><td>11644</td></tr>",
                            "<tr><td>Ms. Marvel, Vol. 2: Generation Why</td><td>19</td><td>11644</td></tr>",
                            "<tr><td>Lioness Rampant (Song of the Lioness, #4)</td><td>19</td><td>11644</td></tr>",
                            "<tr><td>Geek Love</td><td>19</td><td>11644</td></tr>",
                            "<tr><td>Anne of Windy Poplars (Anne of Green Gables, #4)</td><td>19</td><td>11644</td></tr>",
                            "<tr><td>A Good Man is Hard to Find and Other Stories</td><td>19</td><td>11644</td></tr>",
                            "<tr><td>Out</td><td>19</td><td>11644</td></tr>",
                            "<tr><td>Persepolis 2: The Story of a Return (Persepolis, #2)</td><td>19</td><td>11644</td></tr>",
                            "<tr><td>Runaway</td><td>19</td><td>11644</td></tr>",
                            "<tr><td>The Opposite of Loneliness: Essays and Stories</td><td>19</td><td>11644</td></tr>",
                            "<tr><td>The Paying Guests</td><td>19</td><td>11644</td></tr>",
                            "<tr><td>The Likeness (Dublin Murder Squad, #2)</td><td>19</td><td>11644</td></tr>",
                            "<tr><td>The Beauty Myth</td><td>19</td><td>11644</td></tr>",
                            "<tr><td>The Fifth Season (The Broken Earth, #1)</td><td>19</td><td>11644</td></tr>",
                            "<tr><td>The Heart Goes Last</td><td>18</td><td>11644</td></tr>",
                            "<tr><td>The Grownup</td><td>18</td><td>11644</td></tr>",
                            "<tr><td>The Body in the Library (Miss Marple, #3)</td><td>18</td><td>11644</td></tr>",
                            "<tr><td>The Bonesetter&#39;s Daughter</td><td>18</td><td>11644</td></tr>",
                            "<tr><td>The Buddha in the Attic</td><td>18</td><td>11644</td></tr>",
                            "<tr><td>The Ladies of Grace Adieu and Other Stories</td><td>18</td><td>11644</td></tr>",
                            "<tr><td>Seriously... I&#39;m Kidding</td><td>18</td><td>11644</td></tr>",
                            "<tr><td>The Argonauts</td><td>18</td><td>11644</td></tr>",
                            "<tr><td>Passing</td><td>18</td><td>11644</td></tr>",
                            "<tr><td>Nickel and Dimed: On (Not) Getting By in America</td><td>18</td><td>11644</td></tr>",
                            "<tr><td>No One Belongs Here More Than You</td><td>18</td><td>11644</td></tr>",
                            "<tr><td>A Raisin in the Sun</td><td>18</td><td>11644</td></tr>",
                            "<tr><td>Commonwealth</td><td>18</td><td>11644</td></tr>",
                            "<tr><td>Cranford</td><td>18</td><td>11644</td></tr>",
                            "<tr><td>Jazz</td><td>18</td><td>11644</td></tr>",
                            "<tr><td>Lady Susan</td><td>18</td><td>11644</td></tr>",
                            "<tr><td>Wishful Drinking</td><td>18</td><td>11644</td></tr>",
                            "<tr><td>Written on the Body</td><td>18</td><td>11644</td></tr>",
                            "<tr><td>Vampires in the Lemon Grove</td><td>18</td><td>11644</td></tr>",
                            "<tr><td>The Yellow Wall-Paper</td><td>18</td><td>11644</td></tr>",
                            "<tr><td>The Woman in Black</td><td>18</td><td>11644</td></tr>",
                            "<tr><td>The Woman Warrior</td><td>18</td><td>11644</td></tr>",
                            "<tr><td>The Snow Child</td><td>18</td><td>11644</td></tr>",
                            "<tr><td>The Princess Diarist</td><td>17</td><td>11644</td></tr>",
                            "<tr><td>When the Emperor Was Divine</td><td>17</td><td>11644</td></tr>",
                            "<tr><td>Faithful Place (Dublin Murder Squad, #3)</td><td>17</td><td>11644</td></tr>",
                            "<tr><td>H is for Hawk</td><td>17</td><td>11644</td></tr>",
                            "<tr><td>Harriet the Spy (Harriet the Spy #1)</td><td>17</td><td>11644</td></tr>",
                            "<tr><td>Daughter of Fortune</td><td>17</td><td>11644</td></tr>",
                            "<tr><td>Dawn (Xenogenesis, #1)</td><td>17</td><td>11644</td></tr>",
                            "<tr><td>Delta of Venus</td><td>17</td><td>11644</td></tr>",
                            "<tr><td>A Swiftly Tilting Planet (A Wrinkle in Time Quintet, #3)</td><td>17</td><td>11644</td></tr>",
                            "<tr><td>Silas Marner</td><td>17</td><td>11644</td></tr>",
                            "<tr><td>The Particular Sadness of Lemon Cake</td><td>17</td><td>11644</td></tr>",
                            "<tr><td>The Miseducation of Cameron Post</td><td>17</td><td>11644</td></tr>",
                            "<tr><td>The Bone People</td><td>17</td><td>11644</td></tr>",
                            "<tr><td>The Farthest Shore (Earthsea Cycle, #3)</td><td>16</td><td>11644</td></tr>",
                            "<tr><td>The Interestings</td><td>16</td><td>11644</td></tr>",
                            "<tr><td>The Little Friend</td><td>16</td><td>11644</td></tr>",
                            "<tr><td>Stone Mattress: Nine Tales</td><td>16</td><td>11644</td></tr>",
                            "<tr><td>Shrill: Notes from a Loud Woman</td><td>16</td><td>11644</td></tr>",
                            "<tr><td>Over Sea, Under Stone (The Dark Is Rising, #1)</td><td>16</td><td>11644</td></tr>",
                            "<tr><td>A God in Ruins</td><td>16</td><td>11644</td></tr>",
                            "<tr><td>Are You My Mother?</td><td>16</td><td>11644</td></tr>",
                            "<tr><td>Boy, Snow, Bird</td><td>16</td><td>11644</td></tr>",
                            "<tr><td>Bonk: The Curious Coupling of Science and Sex</td><td>16</td><td>11644</td></tr>",
                            "<tr><td>Death Comes for the Archbishop</td><td>16</td><td>11644</td></tr>",
                            "<tr><td>Elizabeth Is Missing</td><td>16</td><td>11644</td></tr>",
                            "<tr><td>Everything That Rises Must Converge: Stories</td><td>16</td><td>11644</td></tr>",
                            "<tr><td>Fear of Flying</td><td>16</td><td>11644</td></tr>",
                            "<tr><td>Cold Comfort Farm</td><td>16</td><td>11644</td></tr>",
                            "<tr><td>Bridget Jones: The Edge of Reason (Bridget Jones, #2)</td><td>16</td><td>11644</td></tr>",
                            "<tr><td>How to Build a Girl</td><td>16</td><td>11644</td></tr>",
                            "<tr><td>How the García Girls Lost Their Accents </td><td>16</td><td>11644</td></tr>",
                            "<tr><td>You&#39;re Never Weird on the Internet (Almost)</td><td>16</td><td>11644</td></tr>",
                            "<tr><td>Unaccustomed Earth</td><td>16</td><td>11644</td></tr>",
                            "<tr><td>We Need New Names</td><td>16</td><td>11644</td></tr>",
                            "<tr><td>Tiny Beautiful Things: Advice on Love and Life from Dear Sugar</td><td>16</td><td>11644</td></tr>",
                            "<tr><td>Too Much Happiness</td><td>16</td><td>11644</td></tr>",
                            "<tr><td>The Sea, the Sea</td><td>16</td><td>11644</td></tr>",
                            "<tr><td>The Story of a New Name (The Neapolitan Novels #2)</td><td>16</td><td>11644</td></tr>",
                            "<tr><td>The Tale of the Body Thief (The Vampire Chronicles, #4)</td><td>16</td><td>11644</td></tr>",
                            "<tr><td>The Tombs of Atuan (Earthsea Cycle, #2)</td><td>16</td><td>11644</td></tr>",
                            "<tr><td>The Sparrow (The Sparrow, #1)</td><td>15</td><td>11644</td></tr>",
                            "<tr><td>The Signature of All Things</td><td>15</td><td>11644</td></tr>",
                            "<tr><td>Why Be Happy When You Could Be Normal?</td><td>15</td><td>11644</td></tr>",
                            "<tr><td>Fall on Your Knees</td><td>15</td><td>11644</td></tr>",
                            "<tr><td>Fledgling</td><td>15</td><td>11644</td></tr>",
                            "<tr><td>Bonjour tristesse</td><td>15</td><td>11644</td></tr>",
                            "<tr><td>Anne of Ingleside (Anne of Green Gables, #6)</td><td>15</td><td>11644</td></tr>",
                            "<tr><td>Packing for Mars: The Curious Science of Life in the Void</td><td>15</td><td>11644</td></tr>",
                            "<tr><td>Notorious RBG: The Life and Times of Ruth Bader Ginsburg</td><td>15</td><td>11644</td></tr>",
                            "<tr><td>Play It as It Lays</td><td>15</td><td>11644</td></tr>",
                            "<tr><td>Please Look After Mom</td><td>15</td><td>11644</td></tr>",
                            "<tr><td>Rilla of Ingleside (Anne of Green Gables, #8)</td><td>15</td><td>11644</td></tr>",
                            "<tr><td>Shirley</td><td>15</td><td>11644</td></tr>",
                            "<tr><td>The Bean Trees (Greer Family, #1)</td><td>15</td><td>11644</td></tr>",
                            "<tr><td>The Mill on the Floss</td><td>15</td><td>11644</td></tr>",
                            "<tr><td>The First Bad Man</td><td>15</td><td>11644</td></tr>",
                            "<tr><td>The Goblin Emperor</td><td>15</td><td>11644</td></tr>",
                            "<tr><td>The Book of Unknown Americans</td><td>15</td><td>11644</td></tr>",
                            "<tr><td>The Collected Poems</td><td>15</td><td>11644</td></tr>",
                            "<tr><td>The Complete Poems of Emily Dickinson</td><td>15</td><td>11644</td></tr>",
                            "<tr><td>The Flamethrowers</td><td>14</td><td>11644</td></tr>",
                            "<tr><td>The Art of Asking; or, How I Learned to Stop Worrying and Let People Help</td><td>14</td><td>11644</td></tr>",
                            "<tr><td>Suite Française</td><td>14</td><td>11644</td></tr>",
                            "<tr><td>Special Topics in Calamity Physics</td><td>14</td><td>11644</td></tr>",
                            "<tr><td>Rubyfruit Jungle</td><td>14</td><td>11644</td></tr>",
                            "<tr><td>O Pioneers!</td><td>14</td><td>11644</td></tr>",
                            "<tr><td>On the Bright Side, I&#39;m Now the Girlfriend of a Sex God (Confessions of Georgia Nicolson, #2)</td><td>14</td><td>11644</td></tr>",
                            "<tr><td>A Mercy</td><td>14</td><td>11644</td></tr>",
                            "<tr><td>Ceremony</td><td>14</td><td>11644</td></tr>",
                            "<tr><td>Embroideries</td><td>14</td><td>11644</td></tr>",
                            "<tr><td>Gulp: Adventures on the Alimentary Canal</td><td>14</td><td>11644</td></tr>",
                            "<tr><td>Lab Girl</td><td>14</td><td>11644</td></tr>",
                            "<tr><td>Wolf-Speaker (Immortals, #2)</td><td>14</td><td>11644</td></tr>",
                            "<tr><td>The Spirit Catches You and You Fall Down: A Hmong Child, Her American Doctors, and the Collision of Two Cultures</td><td>14</td><td>11644</td></tr>",
                            "<tr><td>The Thorn Birds</td><td>14</td><td>11644</td></tr>",
                            "<tr><td>Trickster&#39;s Choice (Daughter of the Lioness, #1)</td><td>13</td><td>11644</td></tr>",
                            "<tr><td>Trickster&#39;s Queen (Daughter of the Lioness, #2)</td><td>13</td><td>11644</td></tr>",
                            "<tr><td>M Train</td><td>13</td><td>11644</td></tr>",
                            "<tr><td>Memnoch the Devil (The Vampire Chronicles, #5)</td><td>13</td><td>11644</td></tr>",
                            "<tr><td>My Cousin Rachel</td><td>13</td><td>11644</td></tr>",
                            "<tr><td>God Help the Child</td><td>13</td><td>11644</td></tr>",
                            "<tr><td>Girl at War</td><td>13</td><td>11644</td></tr>",
                            "<tr><td>Euphoria</td><td>13</td><td>11644</td></tr>",
                            "<tr><td>Eva Luna</td><td>13</td><td>11644</td></tr>",
                            "<tr><td>Briar&#39;s Book (Circle of Magic, #4)</td><td>13</td><td>11644</td></tr>",
                            "<tr><td>A Murder Is Announced (Miss Marple, #5)</td><td>13</td><td>11644</td></tr>",
                            "<tr><td>An Untamed State</td><td>13</td><td>11644</td></tr>",
                            "<tr><td>Adulthood Is a Myth (Sarah&#39;s Scribbles, #1)</td><td>13</td><td>11644</td></tr>",
                            "<tr><td>Another Brooklyn</td><td>13</td><td>11644</td></tr>",
                            "<tr><td>Rainbow Valley (Anne of Green Gables, #7)</td><td>13</td><td>11644</td></tr>",
                            "<tr><td>Sandry&#39;s Book (Circle of Magic, #1)</td><td>13</td><td>11644</td></tr>",
                            "<tr><td>Tehanu (Earthsea Cycle, #4)</td><td>13</td><td>11644</td></tr>",
                            "<tr><td>The Gifts of Imperfection: Let Go of Who You Think You&#39;re Supposed to Be and Embrace Who You Are</td><td>13</td><td>11644</td></tr>",
                            "<tr><td>The Liars&#39; Club</td><td>13</td><td>11644</td></tr>",
                            "<tr><td>The Inheritance of Loss</td><td>13</td><td>11644</td></tr>",
                            "<tr><td>The Housekeeper and the Professor</td><td>13</td><td>11644</td></tr>",
                            "<tr><td>The Japanese Lover</td><td>12</td><td>11644</td></tr>",
                            "<tr><td>The Lottery</td><td>12</td><td>11644</td></tr>",
                            "<tr><td>The Mystery of the Blue Train (Hercule Poirot, #6)</td><td>12</td><td>11644</td></tr>",
                            "<tr><td>Squire (Protector of the Small, #3)</td><td>12</td><td>11644</td></tr>",
                            "<tr><td>Shards of Honour  (Vorkosigan Saga, #1)</td><td>12</td><td>11644</td></tr>",
                            "<tr><td>Prodigal Summer</td><td>12</td><td>11644</td></tr>",
                            "<tr><td>Noughts &amp; Crosses (Noughts &amp; Crosses, #1)</td><td>12</td><td>11644</td></tr>",
                            "<tr><td>Ancillary Sword (Imperial Radch, #2)</td><td>12</td><td>11644</td></tr>",
                            "<tr><td>Blue Nights</td><td>12</td><td>11644</td></tr>",
                            "<tr><td>Birds of America</td><td>12</td><td>11644</td></tr>",
                            "<tr><td>Change of Heart</td><td>12</td><td>11644</td></tr>",
                            "<tr><td>Heartburn</td><td>12</td><td>11644</td></tr>",
                            "<tr><td>Home</td><td>12</td><td>11644</td></tr>",
                            "<tr><td>How to Be Both</td><td>12</td><td>11644</td></tr>",
                            "<tr><td>Lullabies for Little Criminals</td><td>12</td><td>11644</td></tr>",
                            "<tr><td>Jamaica Inn</td><td>12</td><td>11644</td></tr>",
                            "<tr><td>Tris&#39;s Book (Circle of Magic, #2)</td><td>12</td><td>11644</td></tr>",
                            "<tr><td>Under the Net</td><td>12</td><td>11644</td></tr>",
                            "<tr><td>What Was She Thinking? [Notes on a Scandal]</td><td>12</td><td>11644</td></tr>",
                            "<tr><td>Wild Seed (Patternmaster, #1)</td><td>12</td><td>11644</td></tr>",
                            "<tr><td>The Unabridged Journals of Sylvia Plath</td><td>12</td><td>11644</td></tr>",
                            "<tr><td>The Stone Diaries</td><td>12</td><td>11644</td></tr>",
                            "<tr><td>The Shock Doctrine: The Rise of Disaster Capitalism</td><td>12</td><td>11644</td></tr>",
                            "<tr><td>The Sixth Extinction: An Unnatural History</td><td>11</td><td>11644</td></tr>",
                            "<tr><td>The Story of an Hour</td><td>11</td><td>11644</td></tr>",
                            "<tr><td>Whose Body?  (Lord Peter Wimsey, #1)</td><td>11</td><td>11644</td></tr>",
                            "<tr><td>Z: A Novel of Zelda Fitzgerald</td><td>11</td><td>11644</td></tr>",
                            "<tr><td>Zami: A New Spelling of My Name</td><td>11</td><td>11644</td></tr>",
                            "<tr><td>Year of Yes: How to Dance It Out, Stand In the Sun and Be Your Own Person</td><td>11</td><td>11644</td></tr>",
                            "<tr><td>Unbearable Lightness: A Story of Loss and Gain</td><td>11</td><td>11644</td></tr>",
                            "<tr><td>I Was Told There&#39;d Be Cake</td><td>11</td><td>11644</td></tr>",
                            "<tr><td>Mastiff (Beka Cooper, #3)</td><td>11</td><td>11644</td></tr>",
                            "<tr><td>Love Medicine</td><td>11</td><td>11644</td></tr>",
                            "<tr><td>Lucky</td><td>11</td><td>11644</td></tr>",
                            "<tr><td>Hercule Poirot&#39;s Christmas (Hercule Poirot, #20)</td><td>11</td><td>11644</td></tr>",
                            "<tr><td>Girl in Translation</td><td>11</td><td>11644</td></tr>",
                            "<tr><td>Half Blood Blues</td><td>11</td><td>11644</td></tr>",
                            "<tr><td>Frog Music</td><td>11</td><td>11644</td></tr>",
                            "<tr><td>Brokeback Mountain</td><td>11</td><td>11644</td></tr>",
                            "<tr><td>Daja&#39;s Book (Circle of Magic, #3)</td><td>11</td><td>11644</td></tr>",
                            "<tr><td>Eileen</td><td>11</td><td>11644</td></tr>",
                            "<tr><td>Breath, Eyes, Memory</td><td>11</td><td>11644</td></tr>",
                            "<tr><td>Battle Hymn of the Tiger Mother</td><td>11</td><td>11644</td></tr>",
                            "<tr><td>An Acceptable Time (A Wrinkle in Time Quintet, #5)</td><td>11</td><td>11644</td></tr>",
                            "<tr><td>Saving Fish from Drowning</td><td>11</td><td>11644</td></tr>",
                            "<tr><td>Spook: Science Tackles the Afterlife</td><td>11</td><td>11644</td></tr>",
                            "<tr><td>Story of O (Story of O #1)</td><td>11</td><td>11644</td></tr>",
                            "<tr><td>Strangers on a Train</td><td>11</td><td>11644</td></tr>",
                            "<tr><td>Tales from Earthsea (Earthsea Cycle, #5)</td><td>11</td><td>11644</td></tr>",
                            "<tr><td>The Almost Moon</td><td>11</td><td>11644</td></tr>",
                            "<tr><td>The Apprentice (Rizzoli &amp; Isles, #2)</td><td>11</td><td>11644</td></tr>",
                            "<tr><td>The Other Wind (Earthsea Cycle, #6)</td><td>11</td><td>11644</td></tr>",
                            "<tr><td>The Passion</td><td>11</td><td>11644</td></tr>",
                            "<tr><td>The Moving Finger (Miss Marple, #4)</td><td>11</td><td>11644</td></tr>",
                            "<tr><td>The Children of Men</td><td>11</td><td>11644</td></tr>",
                            "<tr><td>The Birth of Venus</td><td>11</td><td>11644</td></tr>",
                            "<tr><td>The Curse of Chalion (World of the Five Gods, #1)</td><td>10</td><td>11644</td></tr>",
                            "<tr><td>The Complete Poems</td><td>10</td><td>11644</td></tr>",
                            "<tr><td>The Empathy Exams: Essays</td><td>10</td><td>11644</td></tr>",
                            "<tr><td>The Murder on the Links (Hercule Poirot, #2)</td><td>10</td><td>11644</td></tr>",
                            "<tr><td>The Kitchen God&#39;s Wife</td><td>10</td><td>11644</td></tr>",
                            "<tr><td>Sexing the Cherry</td><td>10</td><td>11644</td></tr>",
                            "<tr><td>Slammerkin</td><td>10</td><td>11644</td></tr>",
                            "<tr><td>Prozac Nation</td><td>10</td><td>11644</td></tr>",
                            "<tr><td>Regeneration (Regeneration, #1)</td><td>10</td><td>11644</td></tr>",
                            "<tr><td>Relish: My Life in the Kitchen</td><td>10</td><td>11644</td></tr>",
                            "<tr><td>Prep</td><td>10</td><td>11644</td></tr>",
                            "<tr><td>Peril at End House (Hercule Poirot, #8)</td><td>10</td><td>11644</td></tr>",
                            "<tr><td>Alif the Unseen</td><td>10</td><td>11644</td></tr>",
                            "<tr><td>4:50 from Paddington (Miss Marple, #8)</td><td>10</td><td>11644</td></tr>",
                            "<tr><td>Assassination Vacation</td><td>10</td><td>11644</td></tr>",
                            "<tr><td>Annie on My Mind</td><td>10</td><td>11644</td></tr>",
                            "<tr><td>Bloodhound (Beka Cooper, #2)</td><td>10</td><td>11644</td></tr>",
                            "<tr><td>Evil Under the Sun (Hercule Poirot, #23)</td><td>10</td><td>11644</td></tr>",
                            "<tr><td>Death in the Clouds (Hercule Poirot, #12)</td><td>10</td><td>11644</td></tr>",
                            "<tr><td>Dept. of Speculation</td><td>10</td><td>11644</td></tr>",
                            "<tr><td>Cunt: A Declaration of Independence</td><td>10</td><td>11644</td></tr>",
                            "<tr><td>California</td><td>10</td><td>11644</td></tr>",
                            "<tr><td>Calling on Dragons (Enchanted Forest Chronicles, #3)</td><td>10</td><td>11644</td></tr>",
                            "<tr><td>Hallowe&#39;en Party (Hercule Poirot, #36)</td><td>10</td><td>11644</td></tr>",
                            "<tr><td>I Feel Bad about My Neck: And Other Thoughts on Being a Woman</td><td>10</td><td>11644</td></tr>",
                            "<tr><td>Incidents in the Life of a Slave Girl</td><td>10</td><td>11644</td></tr>",
                            "<tr><td>Island Beneath the Sea</td><td>10</td><td>11644</td></tr>",
                            "<tr><td>Knocked Out by My Nunga-Nungas (Confessions of Georgia Nicolson, #3)</td><td>10</td><td>11644</td></tr>",
                            "<tr><td>Lady Audley&#39;s Secret</td><td>10</td><td>11644</td></tr>",
                            "<tr><td>Those Who Leave and Those Who Stay (The Neapolitan Novels #3)</td><td>10</td><td>11644</td></tr>",
                            "<tr><td>You Are a Badass: How to Stop Doubting Your Greatness and Start Living an Awesome Life</td><td>10</td><td>11644</td></tr>",
                            "<tr><td>Wives and Daughters</td><td>10</td><td>11644</td></tr>",
                            "<tr><td>When God Was a Rabbit</td><td>10</td><td>11644</td></tr>",
                            "<tr><td>The Story of My Life</td><td>10</td><td>11644</td></tr>",
                            "<tr><td>The Virgin Blue</td><td>9</td><td>11644</td></tr>",
                            "<tr><td>The Warrior&#39;s Apprentice (Vorkosigan Saga, #2)</td><td>9</td><td>11644</td></tr>",
                            "<tr><td>Writing Down the Bones: Freeing the Writer Within</td><td>9</td><td>11644</td></tr>",
                            "<tr><td>We Were the Mulvaneys</td><td>9</td><td>11644</td></tr>",
                            "<tr><td>Kristy&#39;s Great Idea (The Baby-Sitters Club, #1)</td><td>9</td><td>11644</td></tr>",
                            "<tr><td>Luck in the Shadows (Nightrunner, #1)</td><td>9</td><td>11644</td></tr>",
                            "<tr><td>Magic Steps (The Circle Opens, #1)</td><td>9</td><td>11644</td></tr>",
                            "<tr><td>Heartsick (Archie Sheridan &amp; Gretchen Lowell, #1)</td><td>9</td><td>11644</td></tr>",
                            "<tr><td>Fullmetal Alchemist, Vol. 1 (Fullmetal Alchemist, #1)</td><td>9</td><td>11644</td></tr>",
                            "<tr><td>Brick Lane</td><td>9</td><td>11644</td></tr>",
                            "<tr><td>Cinderella Ate My Daughter: Dispatches from the Frontlines of the New Girlie-Girl Culture</td><td>9</td><td>11644</td></tr>",
                            "<tr><td>Citizen: An American Lyric</td><td>9</td><td>11644</td></tr>",
                            "<tr><td>Close Range</td><td>9</td><td>11644</td></tr>",
                            "<tr><td>Blubber</td><td>9</td><td>11644</td></tr>",
                            "<tr><td>Annabel (Delirium, #0.5)</td><td>9</td><td>11644</td></tr>",
                            "<tr><td>Ancillary Mercy (Imperial Radch #3)</td><td>9</td><td>11644</td></tr>",
                            "<tr><td>Parable of the Talents (Earthseed, #2)</td><td>9</td><td>11644</td></tr>",
                            "<tr><td>Paradise</td><td>9</td><td>11644</td></tr>",
                            "<tr><td>Remarkable Creatures </td><td>9</td><td>11644</td></tr>",
                            "<tr><td>No Logo</td><td>9</td><td>11644</td></tr>",
                            "<tr><td>Silent Spring</td><td>9</td><td>11644</td></tr>",
                            "<tr><td>Salem Falls</td><td>9</td><td>11644</td></tr>",
                            "<tr><td>The Autograph Man</td><td>9</td><td>11644</td></tr>",
                            "<tr><td>The Lady and the Unicorn</td><td>9</td><td>11644</td></tr>",
                            "<tr><td>The Hundred Secret Senses</td><td>9</td><td>11644</td></tr>",
                            "<tr><td>The Mammoth Hunters (Earth&#39;s Children, #3)</td><td>9</td><td>11644</td></tr>",
                            "<tr><td>The Poisoner&#39;s Handbook: Murder and the Birth of Forensic Medicine in Jazz Age New York</td><td>9</td><td>11644</td></tr>",
                            "<tr><td>The Crystal Cave (Arthurian Saga, #1)</td><td>9</td><td>11644</td></tr>",
                            "<tr><td>The Broken Kingdoms (Inheritance, #2)</td><td>9</td><td>11644</td></tr>",
                            "<tr><td>The Book of Tomorrow</td><td>9</td><td>11644</td></tr>",
                            "<tr><td>The Clocks (Hercule Poirot, #34)</td><td>8</td><td>11644</td></tr>",
                            "<tr><td>The Big Four (Hercule Poirot, #5)</td><td>8</td><td>11644</td></tr>",
                            "<tr><td>The Enchanted</td><td>8</td><td>11644</td></tr>",
                            "<tr><td>The Friday Night Knitting Club (Friday Night Knitting Club, #1)</td><td>8</td><td>11644</td></tr>",
                            "<tr><td>The Palace of Illusions</td><td>8</td><td>11644</td></tr>",
                            "<tr><td>The Mephisto Club (Rizzoli &amp; Isles, #6)</td><td>8</td><td>11644</td></tr>",
                            "<tr><td>The Mirror Crack&#39;d from Side to Side (Miss Marple, #9)</td><td>8</td><td>11644</td></tr>",
                            "<tr><td>The Monsters of Templeton</td><td>8</td><td>11644</td></tr>",
                            "<tr><td>The Mad Ship (Liveship Traders, #2)</td><td>8</td><td>11644</td></tr>",
                            "<tr><td>The Bastard of Istanbul</td><td>8</td><td>11644</td></tr>",
                            "<tr><td>Street Magic (The Circle Opens, #2)</td><td>8</td><td>11644</td></tr>",
                            "<tr><td>Ship of Destiny (Liveship Traders, #3)</td><td>8</td><td>11644</td></tr>",
                            "<tr><td>Sex and the City</td><td>8</td><td>11644</td></tr>",
                            "<tr><td>Spark Joy: An Illustrated Master Class on the Art of Organizing and Tidying Up</td><td>8</td><td>11644</td></tr>",
                            "<tr><td>An Unquiet Mind: A Memoir of Moods and Madness</td><td>8</td><td>11644</td></tr>",
                            "<tr><td>After the Funeral (Hercule Poirot, #29)</td><td>8</td><td>11644</td></tr>",
                            "<tr><td>A Complicated Kindness</td><td>8</td><td>11644</td></tr>",
                            "<tr><td>A Ring of Endless Light (Austin Family, #4)</td><td>8</td><td>11644</td></tr>",
                            "<tr><td>Animal Dreams</td><td>8</td><td>11644</td></tr>",
                            "<tr><td>First They Killed My Father: A Daughter of Cambodia Remembers</td><td>8</td><td>11644</td></tr>",
                            "<tr><td>Dancing in My Nuddy-Pants (Confessions of Georgia Nicolson, #4)</td><td>8</td><td>11644</td></tr>",
                            "<tr><td>Can&#39;t We Talk about Something More Pleasant?</td><td>8</td><td>11644</td></tr>",
                            "<tr><td>Good Night, Mr. Tom</td><td>8</td><td>11644</td></tr>",
                            "<tr><td>Five on a Treasure Island (Famous Five, #1)</td><td>8</td><td>11644</td></tr>",
                            "<tr><td>Five Quarters of the Orange</td><td>8</td><td>11644</td></tr>",
                            "<tr><td>Looking for Alibrandi</td><td>8</td><td>11644</td></tr>",
                            "<tr><td>My Year of Meats</td><td>8</td><td>11644</td></tr>",
                            "<tr><td>Kings Rising (Captive Prince, #3)</td><td>8</td><td>11644</td></tr>",
                            "<tr><td>Innocent Traitor</td><td>8</td><td>11644</td></tr>",
                            "<tr><td>West with the Night</td><td>8</td><td>11644</td></tr>",
                            "<tr><td>What I Loved</td><td>8</td><td>11644</td></tr>",
                            "<tr><td>Vinegar Girl</td><td>8</td><td>11644</td></tr>",
                            "<tr><td>They Do It with Mirrors (Miss Marple, #6)</td><td>8</td><td>11644</td></tr>",
                            "<tr><td>You&#39;ll Grow Out of It</td><td>8</td><td>11644</td></tr>",
                            "<tr><td>The Versions of Us</td><td>8</td><td>11644</td></tr>",
                            "<tr><td>The Will of the Empress (Circle Reforged, #1)</td><td>8</td><td>11644</td></tr>",
                            "<tr><td>The Story of the Lost Child (The Neapolitan Novels, #4)</td><td>8</td><td>11644</td></tr>",
                            "<tr><td>The Story of Tracy Beaker</td><td>8</td><td>11644</td></tr>",
                            "<tr><td>The Post-Birthday World</td><td>8</td><td>11644</td></tr>",
                            "<tr><td>The Professor</td><td>7</td><td>11644</td></tr>",
                            "<tr><td>The Stranger Beside Me: Ted Bundy The Shocking Inside Story</td><td>7</td><td>11644</td></tr>",
                            "<tr><td>The Suspicions of Mr. Whicher: A Shocking Murder and the Undoing of a Great Victorian Detective</td><td>7</td><td>11644</td></tr>",
                            "<tr><td>The Tail of Emily Windsnap (Emily Windsnap, #1)</td><td>7</td><td>11644</td></tr>",
                            "<tr><td>The Space Between Us</td><td>7</td><td>11644</td></tr>",
                            "<tr><td>The Women of Brewster Place</td><td>7</td><td>11644</td></tr>",
                            "<tr><td>The Turner House</td><td>7</td><td>11644</td></tr>",
                            "<tr><td>The Temple of My Familiar</td><td>7</td><td>11644</td></tr>",
                            "<tr><td>Wir Kinder vom Bahnhof Zoo</td><td>7</td><td>11644</td></tr>",
                            "<tr><td>This Star Won&#39;t Go Out: The Life and Words of Esther Grace Earl</td><td>7</td><td>11644</td></tr>",
                            "<tr><td>Today Will Be Different</td><td>7</td><td>11644</td></tr>",
                            "<tr><td>Unfamiliar Fishes</td><td>7</td><td>11644</td></tr>",
                            "<tr><td>I Never Promised You a Rose Garden</td><td>7</td><td>11644</td></tr>",
                            "<tr><td>Keeping You a Secret</td><td>7</td><td>11644</td></tr>",
                            "<tr><td>Letter to My Daughter</td><td>7</td><td>11644</td></tr>",
                            "<tr><td>Falling Angels</td><td>7</td><td>11644</td></tr>",
                            "<tr><td>Geisha, a Life</td><td>7</td><td>11644</td></tr>",
                            "<tr><td>Girl in a Band</td><td>7</td><td>11644</td></tr>",
                            "<tr><td>Hunting and Gathering</td><td>7</td><td>11644</td></tr>",
                            "<tr><td>Cat Among the Pigeons (Hercule Poirot, #32)</td><td>7</td><td>11644</td></tr>",
                            "<tr><td>Cold Fire (The Circle Opens, #3)</td><td>7</td><td>11644</td></tr>",
                            "<tr><td>Five Days at Memorial: Life and Death in a Storm-Ravaged Hospital</td><td>7</td><td>11644</td></tr>",
                            "<tr><td>Empress Orchid (Empress Orchid, #1)</td><td>7</td><td>11644</td></tr>",
                            "<tr><td>Death at La Fenice (Commissario Brunetti, #1)</td><td>7</td><td>11644</td></tr>",
                            "<tr><td>Don&#39;t Let&#39;s Go to the Dogs Tonight</td><td>7</td><td>11644</td></tr>",
                            "<tr><td>Double Act</td><td>7</td><td>11644</td></tr>",
                            "<tr><td>At Bertram&#39;s Hotel (Miss Marple, #11)</td><td>7</td><td>11644</td></tr>",
                            "<tr><td>A Place Called Here</td><td>7</td><td>11644</td></tr>",
                            "<tr><td>A Mango-Shaped Space</td><td>7</td><td>11644</td></tr>",
                            "<tr><td>Spindle&#39;s End</td><td>7</td><td>11644</td></tr>",
                            "<tr><td>Running Out of Time</td><td>7</td><td>11644</td></tr>",
                            "<tr><td>Scarlett</td><td>7</td><td>11644</td></tr>",
                            "<tr><td>Shatterglass (The Circle Opens, #4)</td><td>7</td><td>11644</td></tr>",
                            "<tr><td>Stupeur et tremblements</td><td>7</td><td>11644</td></tr>",
                            "<tr><td>Sweetbitter</td><td>7</td><td>11644</td></tr>",
                            "<tr><td>Tampa</td><td>7</td><td>11644</td></tr>",
                            "<tr><td>Tar Baby</td><td>7</td><td>11644</td></tr>",
                            "<tr><td>Nine Parts of Desire: The Hidden World of Islamic Women</td><td>7</td><td>11644</td></tr>",
                            "<tr><td>Otherwise Known as Sheila the Great (Fudge #2)</td><td>7</td><td>11644</td></tr>",
                            "<tr><td>Rachel&#39;s Holiday (Walsh Family, #2)</td><td>7</td><td>11644</td></tr>",
                            "<tr><td>Persepolis, Volume 1</td><td>7</td><td>11644</td></tr>",
                            "<tr><td>Pilgrim at Tinker Creek</td><td>7</td><td>11644</td></tr>",
                            "<tr><td>The Magic Faraway Tree (The Faraway Tree, #2)</td><td>7</td><td>11644</td></tr>",
                            "<tr><td>The Love Affairs of Nathaniel P.</td><td>6</td><td>11644</td></tr>",
                            "<tr><td>The Lifeboat</td><td>6</td><td>11644</td></tr>",
                            "<tr><td>The Keep</td><td>6</td><td>11644</td></tr>",
                            "<tr><td>The Master Butchers Singing Club</td><td>6</td><td>11644</td></tr>",
                            "<tr><td>The Night Sister</td><td>6</td><td>11644</td></tr>",
                            "<tr><td>The Other Typist</td><td>6</td><td>11644</td></tr>",
                            "<tr><td>The Heart of a Woman</td><td>6</td><td>11644</td></tr>",
                            "<tr><td>The Defining Decade: Why Your Twenties Matter--And How to Make the Most of Them Now</td><td>6</td><td>11644</td></tr>",
                            "<tr><td>The Center Cannot Hold: My Journey Through Madness</td><td>6</td><td>11644</td></tr>",
                            "<tr><td>Portrait in Sepia</td><td>6</td><td>11644</td></tr>",
                            "<tr><td>Possessing the Secret of Joy</td><td>6</td><td>11644</td></tr>",
                            "<tr><td>Paula</td><td>6</td><td>11644</td></tr>",
                            "<tr><td>Priestess of Avalon (Avalon, #4)</td><td>6</td><td>11644</td></tr>",
                            "<tr><td>Rumble Fish</td><td>6</td><td>11644</td></tr>",
                            "<tr><td>One Good Turn (Jackson Brodie, #2)</td><td>6</td><td>11644</td></tr>",
                            "<tr><td>One, Two, Buckle My Shoe (Hercule Poirot, #22)</td><td>6</td><td>11644</td></tr>",
                            "<tr><td>Ordinary People</td><td>6</td><td>11644</td></tr>",
                            "<tr><td>My Stroke of Insight: A Brain Scientist&#39;s Personal Journey</td><td>6</td><td>11644</td></tr>",
                            "<tr><td>Nemesis (Miss Marple, #12)</td><td>6</td><td>11644</td></tr>",
                            "<tr><td>Thanks for the Memories</td><td>6</td><td>11644</td></tr>",
                            "<tr><td>That Was Then, This Is Now</td><td>6</td><td>11644</td></tr>",
                            "<tr><td>Sushi for Beginners</td><td>6</td><td>11644</td></tr>",
                            "<tr><td>Seeds of Yesterday (Dollanganger, #4)</td><td>6</td><td>11644</td></tr>",
                            "<tr><td>Selected Poems</td><td>6</td><td>11644</td></tr>",
                            "<tr><td>Stones from the River</td><td>6</td><td>11644</td></tr>",
                            "<tr><td>Songs of the Humpback Whale</td><td>6</td><td>11644</td></tr>",
                            "<tr><td>A Gate at the Stairs</td><td>6</td><td>11644</td></tr>",
                            "<tr><td>A Monstrous Regiment of Women (Mary Russell, #2)</td><td>6</td><td>11644</td></tr>",
                            "<tr><td>Adam Bede</td><td>6</td><td>11644</td></tr>",
                            "<tr><td>Blackout: Remembering the Things I Drank to Forget</td><td>6</td><td>11644</td></tr>",
                            "<tr><td>Down the Rabbit Hole: Curious Adventures and Cautionary Tales of a Former Playboy Bunny</td><td>6</td><td>11644</td></tr>",
                            "<tr><td>Drift: The Unmooring of American Military Power</td><td>6</td><td>11644</td></tr>",
                            "<tr><td>Elephants Can Remember (Hercule Poirot, #37)</td><td>6</td><td>11644</td></tr>",
                            "<tr><td>Five Go Adventuring Again (Famous Five, #2)</td><td>6</td><td>11644</td></tr>",
                            "<tr><td>Cover Her Face (Adam Dalgliesh #1)</td><td>6</td><td>11644</td></tr>",
                            "<tr><td>Daniel Deronda</td><td>6</td><td>11644</td></tr>",
                            "<tr><td>Bringing Up Bébé: One American Mother Discovers the Wisdom of French Parenting</td><td>6</td><td>11644</td></tr>",
                            "<tr><td>Gut: The Inside Story of Our Body’s Most Underrated Organ</td><td>6</td><td>11644</td></tr>",
                            "<tr><td>Great House</td><td>6</td><td>11644</td></tr>",
                            "<tr><td>Hard Choices</td><td>6</td><td>11644</td></tr>",
                            "<tr><td>Fugitive Pieces</td><td>6</td><td>11644</td></tr>",
                            "<tr><td>LaRose</td><td>6</td><td>11644</td></tr>",
                            "<tr><td>Is It Just Me?</td><td>6</td><td>11644</td></tr>",
                            "<tr><td>Molly Moon&#39;s Incredible Book of Hypnotism (Molly Moon, #1)</td><td>6</td><td>11644</td></tr>",
                            "<tr><td>Mary Barton</td><td>6</td><td>11644</td></tr>",
                            "<tr><td>Watermelon (Walsh Family, #1)</td><td>6</td><td>11644</td></tr>",
                            "<tr><td>The Stories of Eva Luna</td><td>6</td><td>11644</td></tr>",
                            "<tr><td>The Postmistress</td><td>6</td><td>11644</td></tr>",
                            "<tr><td>The Worst Witch (Worst Witch, #1)</td><td>5</td><td>11644</td></tr>",
                            "<tr><td>The Weight of Water</td><td>5</td><td>11644</td></tr>",
                            "<tr><td>Wave</td><td>5</td><td>11644</td></tr>",
                            "<tr><td>What Looks Like Crazy on an Ordinary Day (Idlewild, #1)</td><td>5</td><td>11644</td></tr>",
                            "<tr><td>Unnatural Death (Lord Peter Wimsey, #3)</td><td>5</td><td>11644</td></tr>",
                            "<tr><td>Zorro</td><td>5</td><td>11644</td></tr>",
                            "<tr><td>Living History</td><td>5</td><td>11644</td></tr>",
                            "<tr><td>Mornings in Jenin</td><td>5</td><td>11644</td></tr>",
                            "<tr><td>My Story</td><td>5</td><td>11644</td></tr>",
                            "<tr><td>Icy Sparks</td><td>5</td><td>11644</td></tr>",
                            "<tr><td>Last Chance Saloon</td><td>5</td><td>11644</td></tr>",
                            "<tr><td>Lies That Chelsea Handler Told Me</td><td>5</td><td>11644</td></tr>",
                            "<tr><td>Kabul Beauty School: An American Woman Goes Behind the Veil</td><td>5</td><td>11644</td></tr>",
                            "<tr><td>Fool&#39;s Quest  (The Fitz and The Fool, #2)</td><td>5</td><td>11644</td></tr>",
                            "<tr><td>for colored girls who have considered suicide/when the rainbow is enuf</td><td>5</td><td>11644</td></tr>",
                            "<tr><td>Girls in Love (Girls, #1)</td><td>5</td><td>11644</td></tr>",
                            "<tr><td>Good Wives (Little Women, #1.5)</td><td>5</td><td>11644</td></tr>",
                            "<tr><td>Hausfrau</td><td>5</td><td>11644</td></tr>",
                            "<tr><td>Homecoming (Tillerman Cycle, #1)</td><td>5</td><td>11644</td></tr>",
                            "<tr><td>Heft</td><td>5</td><td>11644</td></tr>",
                            "<tr><td>Candy Girl: A Year in the Life of an Unlikely Stripper</td><td>5</td><td>11644</td></tr>",
                            "<tr><td>Children of God (The Sparrow, #2)</td><td>5</td><td>11644</td></tr>",
                            "<tr><td>Commencement </td><td>5</td><td>11644</td></tr>",
                            "<tr><td>City of Dragons (Rain Wild Chronicles, #3)</td><td>5</td><td>11644</td></tr>",
                            "<tr><td>Dinner at the Homesick Restaurant</td><td>5</td><td>11644</td></tr>",
                            "<tr><td>Evil at Heart (Archie Sheridan &amp; Gretchen Lowell, #3)</td><td>5</td><td>11644</td></tr>",
                            "<tr><td>Desert Flower</td><td>5</td><td>11644</td></tr>",
                            "<tr><td>Book of Shadows (Sweep, #1)</td><td>5</td><td>11644</td></tr>",
                            "<tr><td>Sickened: The Memoir of a Munchausen by Proxy Childhood</td><td>5</td><td>11644</td></tr>",
                            "<tr><td>Sweetheart (Archie Sheridan &amp; Gretchen Lowell, #2)</td><td>5</td><td>11644</td></tr>",
                            "<tr><td>Take the Cannoli</td><td>5</td><td>11644</td></tr>",
                            "<tr><td>The Beach House</td><td>5</td><td>11644</td></tr>",
                            "<tr><td>Not Without My Daughter</td><td>5</td><td>11644</td></tr>",
                            "<tr><td>Paint it Black</td><td>5</td><td>11644</td></tr>",
                            "<tr><td>The Dragonriders of Pern (Dragonriders of Pern, #1-3)</td><td>5</td><td>11644</td></tr>",
                            "<tr><td>The Girl in the Red Coat</td><td>5</td><td>11644</td></tr>",
                            "<tr><td>The Enchanted Wood (The Faraway Tree, #1)</td><td>5</td><td>11644</td></tr>",
                            "<tr><td>The Emperor&#39;s Children</td><td>5</td><td>11644</td></tr>",
                            "<tr><td>The Partly Cloudy Patriot</td><td>5</td><td>11644</td></tr>",
                            "<tr><td>The Joy of Cooking</td><td>5</td><td>11644</td></tr>",
                            "<tr><td>The Last Time They Met</td><td>4</td><td>11644</td></tr>",
                            "<tr><td>The Illustrated Mum</td><td>4</td><td>11644</td></tr>",
                            "<tr><td>The Other Side of the Story</td><td>4</td><td>11644</td></tr>",
                            "<tr><td>The Memoirs of Cleopatra</td><td>4</td><td>11644</td></tr>",
                            "<tr><td>The Moosewood Cookbook: Recipes from Moosewood Restaurant, Ithaca, New York</td><td>4</td><td>11644</td></tr>",
                            "<tr><td>The Diary of Frida Kahlo: An Intimate Self-Portrait</td><td>4</td><td>11644</td></tr>",
                            "<tr><td>The Faraway Tree Stories (The Faraway Tree #1-3)</td><td>4</td><td>11644</td></tr>",
                            "<tr><td>The Hollow Hills (Arthurian Saga, #2)</td><td>4</td><td>11644</td></tr>",
                            "<tr><td>The Drama of the Gifted Child: The Search for the True Self</td><td>4</td><td>11644</td></tr>",
                            "<tr><td>The Creative Habit: Learn It and Use It for Life</td><td>4</td><td>11644</td></tr>",
                            "<tr><td>The Bloodletter&#39;s Daughter: A Novel of Old Bohemia</td><td>4</td><td>11644</td></tr>",
                            "<tr><td>The Cat Who Could Read Backwards (Cat Who..., #1)</td><td>4</td><td>11644</td></tr>",
                            "<tr><td>On Photography</td><td>4</td><td>11644</td></tr>",
                            "<tr><td>Open House</td><td>4</td><td>11644</td></tr>",
                            "<tr><td>Ripper</td><td>4</td><td>11644</td></tr>",
                            "<tr><td>The Autobiography of Henry VIII: With Notes by His Fool, Will Somers</td><td>4</td><td>11644</td></tr>",
                            "<tr><td>Tales of a Female Nomad: Living at Large in the World</td><td>4</td><td>11644</td></tr>",
                            "<tr><td> Angels (Walsh Family, #3)</td><td>4</td><td>11644</td></tr>",
                            "<tr><td>A Map of the World</td><td>4</td><td>11644</td></tr>",
                            "<tr><td>Dragon Prince (Dragon Prince, #1)</td><td>4</td><td>11644</td></tr>",
                            "<tr><td>I Am Livia</td><td>4</td><td>11644</td></tr>",
                            "<tr><td>How to Fall in Love</td><td>4</td><td>11644</td></tr>",
                            "<tr><td>Holy Cow: An Indian Adventure</td><td>4</td><td>11644</td></tr>",
                            "<tr><td>Heaven (Casteel, #1)</td><td>4</td><td>11644</td></tr>",
                            "<tr><td>Girl Walks into a Bar . . .: Comedy Calamities, Dating Disasters, and a Midlife Miracle</td><td>4</td><td>11644</td></tr>",
                            "<tr><td>Four Blondes</td><td>4</td><td>11644</td></tr>",
                            "<tr><td>Inés of My Soul</td><td>4</td><td>11644</td></tr>",
                            "<tr><td>Nana, Vol. 1 (Nana, #1)</td><td>4</td><td>11644</td></tr>",
                            "<tr><td>Wit</td><td>4</td><td>11644</td></tr>",
                            "<tr><td>Women of the Silk</td><td>4</td><td>11644</td></tr>",
                            "<tr><td>This Charming Man</td><td>4</td><td>11644</td></tr>",
                            "<tr><td>Welcome to the World, Baby Girl! (Elmwood Springs, #1)</td><td>4</td><td>11644</td></tr>",
                            "<tr><td>The Wayfarer Redemption (Wayfarer Redemption, #1)</td><td>4</td><td>11644</td></tr>",
                            "<tr><td>The Rapture of Canaan</td><td>4</td><td>11644</td></tr>",
                            "<tr><td>The Tale of Mrs. Tiggy-Winkle</td><td>4</td><td>11644</td></tr>",
                            "<tr><td>The Tiger Who Came to Tea</td><td>3</td><td>11644</td></tr>",
                            "<tr><td>Uganda Be Kidding Me</td><td>3</td><td>11644</td></tr>",
                            "<tr><td>When Rabbit Howls</td><td>3</td><td>11644</td></tr>",
                            "<tr><td>Mastering the Art of French Cooking</td><td>3</td><td>11644</td></tr>",
                            "<tr><td>Inside the Human Body (The Magic School Bus, #3)</td><td>3</td><td>11644</td></tr>",
                            "<tr><td>Life and Other Near-Death Experiences</td><td>3</td><td>11644</td></tr>",
                            "<tr><td>Legally Blonde</td><td>3</td><td>11644</td></tr>",
                            "<tr><td>Happier at Home: Kiss More, Jump More, Abandon a Project, Read Samuel Johnson, and My Other Experiments in the Practice of Everyday Life</td><td>3</td><td>11644</td></tr>",
                            "<tr><td>Hello, Mrs. Piggle-Wiggle (Mrs. Piggle Wiggle, #4)</td><td>3</td><td>11644</td></tr>",
                            "<tr><td>I Am Having So Much Fun Here Without You</td><td>3</td><td>11644</td></tr>",
                            "<tr><td>Drinking: A Love Story</td><td>3</td><td>11644</td></tr>",
                            "<tr><td>Dark Angel (Casteel, #2)</td><td>3</td><td>11644</td></tr>",
                            "<tr><td>Dawn (Cutler, #1)</td><td>3</td><td>11644</td></tr>",
                            "<tr><td>1,000 Places to See Before You Die</td><td>3</td><td>11644</td></tr>",
                            "<tr><td>Absent In The Spring</td><td>3</td><td>11644</td></tr>",
                            "<tr><td>Big Brother</td><td>3</td><td>11644</td></tr>",
                            "<tr><td>Standing in the Rainbow (Elmwood Springs, #2)</td><td>3</td><td>11644</td></tr>",
                            "<tr><td>The Beet Queen</td><td>3</td><td>11644</td></tr>",
                            "<tr><td>Stormy, Misty&#39;s Foal (Misty, #3)</td><td>3</td><td>11644</td></tr>",
                            "<tr><td>Pretend You Don&#39;t See Her</td><td>3</td><td>11644</td></tr>",
                            "<tr><td>On Death and Dying</td><td>3</td><td>11644</td></tr>",
                            "<tr><td>The Complete Novels</td><td>3</td><td>11644</td></tr>",
                            "<tr><td>The Earthsea Trilogy</td><td>3</td><td>11644</td></tr>",
                            "<tr><td>The Folk of the Faraway Tree (The Faraway Tree, #3)</td><td>3</td><td>11644</td></tr>",
                            "<tr><td>The End of Mr. Y</td><td>3</td><td>11644</td></tr>",
                            "<tr><td>The Many Lives &amp; Secret Sorrows of Josephine B. (Josephine Bonaparte, #1)</td><td>3</td><td>11644</td></tr>",
                            "<tr><td>The Passion of Artemisia</td><td>3</td><td>11644</td></tr>",
                            "<tr><td>The Little Red Caboose (Little Golden Book)</td><td>2</td><td>11644</td></tr>",
                            "<tr><td>The Dirty Girls Social Club (Dirty Girls, #1)</td><td>2</td><td>11644</td></tr>",
                            "<tr><td>The Gift</td><td>2</td><td>11644</td></tr>",
                            "<tr><td>Nigella Express: Good Food, Fast</td><td>2</td><td>11644</td></tr>",
                            "<tr><td>Rudolph the Red-Nosed Reindeer</td><td>2</td><td>11644</td></tr>",
                            "<tr><td>Small Sacrifices: A True Story of Passion and Murder</td><td>2</td><td>11644</td></tr>",
                            "<tr><td>Simple Abundance:  A Daybook of Comfort and Joy</td><td>2</td><td>11644</td></tr>",
                            "<tr><td>Sleeping Beauty Box Set</td><td>2</td><td>11644</td></tr>",
                            "<tr><td>Succulent Wild Woman</td><td>2</td><td>11644</td></tr>",
                            "<tr><td>Beaches</td><td>2</td><td>11644</td></tr>",
                            "<tr><td>All He Ever Wanted</td><td>2</td><td>11644</td></tr>",
                            "<tr><td>Dibs in Search of Self</td><td>2</td><td>11644</td></tr>",
                            "<tr><td>I Love You Through and Through</td><td>2</td><td>11644</td></tr>",
                            "<tr><td>Gakuen Alice, Vol. 01 (Gakuen Alice, #1)</td><td>2</td><td>11644</td></tr>",
                            "<tr><td>I, Elizabeth</td><td>2</td><td>11644</td></tr>",
                            "<tr><td>Martha Stewart&#39;s Cookies: The Very Best Treats to Bake and to Share</td><td>2</td><td>11644</td></tr>",
                            "<tr><td>Manga Classics: Les Misérables</td><td>2</td><td>11644</td></tr>",
                            "<tr><td>Mother of Pearl</td><td>2</td><td>11644</td></tr>",
                            "<tr><td>Wonderful Tonight</td><td>2</td><td>11644</td></tr>",
                            "<tr><td>What We Keep </td><td>2</td><td>11644</td></tr>",
                            "<tr><td>Waiting to Exhale (Waiting To Exhale #1)</td><td>2</td><td>11644</td></tr>",
                            "<tr><td>The Princess and the Pea</td><td>2</td><td>11644</td></tr>",
                            "<tr><td>The Way to Cook</td><td>1</td><td>11644</td></tr>",
                            "<tr><td>Rachael Ray 365: No Repeats: A Year of Deliciously Different Dinners</td><td>1</td><td>11644</td></tr>",
                            "<tr><td>The Fannie Farmer Cookbook: Anniversary</td><td>1</td><td>11644</td></tr>",
                            "</table>"
                        ]
                    }
                }
            ],
            "execution_count": 39
        },
        {
            "cell_type": "markdown",
            "source": [
                "### **Which keyword(s) and tag(s) would you like to explore more?**\n",
                "\n",
                "I thought tags 6038 and 5129 were potentially useful."
            ],
            "metadata": {
                "azdata_cell_guid": "e9acd8b5-a62b-4ac0-bd07-19915b379ba6"
            },
            "attachments": {}
        },
        {
            "cell_type": "code",
            "source": [
                "SELECT TOP 4 tag_name \r\n",
                "from BooksDB.dbo.tags\r\n",
                "where tag_id = 6038 or tag_id =5129 or tag_id =3514 or tag_id =11643\r\n",
                "\r\n",
                "SELECT t.tag_name, b.title, SUM(bt.count) AS total_count, bt.tag_id\r\n",
                "FROM BooksDB.dbo.books AS b \r\n",
                "JOIN BooksDB.dbo.book_tags AS bt ON b.best_book_id = bt.goodreads_book_id\r\n",
                "JOIN BooksDB.dbo.tags as t on bt.tag_id = t.tag_id\r\n",
                "GROUP BY bt.tag_id, b.title, bt.tag_id, t.tag_name\r\n",
                "HAVING bt.tag_id = 6038 or bt.tag_id =5129 or bt.tag_id =3514 --or bt.tag_id =11643 (this is what I explored above)\r\n",
                "ORDER BY total_count DESC;\r\n",
                ""
            ],
            "metadata": {
                "azdata_cell_guid": "36d1fcd5-efe9-420f-bfc0-88b6d17a2b15",
                "language": "sql"
            },
            "outputs": [
                {
                    "output_type": "display_data",
                    "data": {
                        "text/html": "(4 rows affected)"
                    },
                    "metadata": {}
                },
                {
                    "output_type": "display_data",
                    "data": {
                        "text/html": "(23 rows affected)"
                    },
                    "metadata": {}
                },
                {
                    "output_type": "display_data",
                    "data": {
                        "text/html": "Total execution time: 00:00:00.210"
                    },
                    "metadata": {}
                },
                {
                    "output_type": "execute_result",
                    "metadata": {},
                    "execution_count": 37,
                    "data": {
                        "application/vnd.dataresource+json": {
                            "schema": {
                                "fields": [
                                    {
                                        "name": "tag_name"
                                    }
                                ]
                            },
                            "data": [
                                {
                                    "tag_name": "author-female"
                                },
                                {
                                    "tag_name": "books-by-women"
                                },
                                {
                                    "tag_name": "by-women"
                                },
                                {
                                    "tag_name": "female-author"
                                }
                            ]
                        },
                        "text/html": [
                            "<table>",
                            "<tr><th>tag_name</th></tr>",
                            "<tr><td>author-female</td></tr>",
                            "<tr><td>books-by-women</td></tr>",
                            "<tr><td>by-women</td></tr>",
                            "<tr><td>female-author</td></tr>",
                            "</table>"
                        ]
                    }
                },
                {
                    "output_type": "execute_result",
                    "metadata": {},
                    "execution_count": 37,
                    "data": {
                        "application/vnd.dataresource+json": {
                            "schema": {
                                "fields": [
                                    {
                                        "name": "tag_name"
                                    },
                                    {
                                        "name": "title"
                                    },
                                    {
                                        "name": "total_count"
                                    },
                                    {
                                        "name": "tag_id"
                                    }
                                ]
                            },
                            "data": [
                                {
                                    "tag_name": "author-female",
                                    "title": "The Goblin Emperor",
                                    "total_count": "10",
                                    "tag_id": "3514"
                                },
                                {
                                    "tag_name": "by-women",
                                    "title": "Shirley",
                                    "total_count": "9",
                                    "tag_id": "6038"
                                },
                                {
                                    "tag_name": "author-female",
                                    "title": "Ancillary Sword (Imperial Radch, #2)",
                                    "total_count": "9",
                                    "tag_id": "3514"
                                },
                                {
                                    "tag_name": "books-by-women",
                                    "title": "Fledgling",
                                    "total_count": "8",
                                    "tag_id": "5129"
                                },
                                {
                                    "tag_name": "by-women",
                                    "title": "Under the Net",
                                    "total_count": "6",
                                    "tag_id": "6038"
                                },
                                {
                                    "tag_name": "author-female",
                                    "title": "Under the Net",
                                    "total_count": "5",
                                    "tag_id": "3514"
                                },
                                {
                                    "tag_name": "books-by-women",
                                    "title": "Cunt: A Declaration of Independence",
                                    "total_count": "5",
                                    "tag_id": "5129"
                                },
                                {
                                    "tag_name": "by-women",
                                    "title": "The Sea, the Sea",
                                    "total_count": "5",
                                    "tag_id": "6038"
                                },
                                {
                                    "tag_name": "books-by-women",
                                    "title": "Girl Walks into a Bar . . .: Comedy Calamities, Dating Disasters, and a Midlife Miracle",
                                    "total_count": "4",
                                    "tag_id": "5129"
                                },
                                {
                                    "tag_name": "author-female",
                                    "title": "The End of Mr. Y",
                                    "total_count": "4",
                                    "tag_id": "3514"
                                },
                                {
                                    "tag_name": "by-women",
                                    "title": "The Temple of My Familiar",
                                    "total_count": "3",
                                    "tag_id": "6038"
                                },
                                {
                                    "tag_name": "author-female",
                                    "title": "The Illustrated Mum",
                                    "total_count": "3",
                                    "tag_id": "3514"
                                },
                                {
                                    "tag_name": "author-female",
                                    "title": "Dark Angel (Casteel, #2)",
                                    "total_count": "3",
                                    "tag_id": "3514"
                                },
                                {
                                    "tag_name": "author-female",
                                    "title": "Stormy, Misty's Foal (Misty, #3)",
                                    "total_count": "3",
                                    "tag_id": "3514"
                                },
                                {
                                    "tag_name": "books-by-women",
                                    "title": "The Beet Queen",
                                    "total_count": "2",
                                    "tag_id": "5129"
                                },
                                {
                                    "tag_name": "books-by-women",
                                    "title": "The Moonlit Garden",
                                    "total_count": "2",
                                    "tag_id": "5129"
                                },
                                {
                                    "tag_name": "author-female",
                                    "title": "Grace (Eventually): Thoughts on Faith",
                                    "total_count": "2",
                                    "tag_id": "3514"
                                },
                                {
                                    "tag_name": "books-by-women",
                                    "title": "It Chooses You",
                                    "total_count": "2",
                                    "tag_id": "5129"
                                },
                                {
                                    "tag_name": "books-by-women",
                                    "title": "Kare Kano: His and Her Circumstances, Vol. 1",
                                    "total_count": "2",
                                    "tag_id": "5129"
                                },
                                {
                                    "tag_name": "author-female",
                                    "title": "Millennium Snow, Vol. 1",
                                    "total_count": "2",
                                    "tag_id": "3514"
                                },
                                {
                                    "tag_name": "author-female",
                                    "title": "Beauty Pop, Vol. 1 (Beauty Pop, #1)",
                                    "total_count": "2",
                                    "tag_id": "3514"
                                },
                                {
                                    "tag_name": "author-female",
                                    "title": "Belinda",
                                    "total_count": "2",
                                    "tag_id": "3514"
                                },
                                {
                                    "tag_name": "author-female",
                                    "title": "Boys Over Flowers: Hana Yori Dango, Vol. 1 (Boys Over Flowers, #1)",
                                    "total_count": "2",
                                    "tag_id": "3514"
                                }
                            ]
                        },
                        "text/html": [
                            "<table>",
                            "<tr><th>tag_name</th><th>title</th><th>total_count</th><th>tag_id</th></tr>",
                            "<tr><td>author-female</td><td>The Goblin Emperor</td><td>10</td><td>3514</td></tr>",
                            "<tr><td>by-women</td><td>Shirley</td><td>9</td><td>6038</td></tr>",
                            "<tr><td>author-female</td><td>Ancillary Sword (Imperial Radch, #2)</td><td>9</td><td>3514</td></tr>",
                            "<tr><td>books-by-women</td><td>Fledgling</td><td>8</td><td>5129</td></tr>",
                            "<tr><td>by-women</td><td>Under the Net</td><td>6</td><td>6038</td></tr>",
                            "<tr><td>author-female</td><td>Under the Net</td><td>5</td><td>3514</td></tr>",
                            "<tr><td>books-by-women</td><td>Cunt: A Declaration of Independence</td><td>5</td><td>5129</td></tr>",
                            "<tr><td>by-women</td><td>The Sea, the Sea</td><td>5</td><td>6038</td></tr>",
                            "<tr><td>books-by-women</td><td>Girl Walks into a Bar . . .: Comedy Calamities, Dating Disasters, and a Midlife Miracle</td><td>4</td><td>5129</td></tr>",
                            "<tr><td>author-female</td><td>The End of Mr. Y</td><td>4</td><td>3514</td></tr>",
                            "<tr><td>by-women</td><td>The Temple of My Familiar</td><td>3</td><td>6038</td></tr>",
                            "<tr><td>author-female</td><td>The Illustrated Mum</td><td>3</td><td>3514</td></tr>",
                            "<tr><td>author-female</td><td>Dark Angel (Casteel, #2)</td><td>3</td><td>3514</td></tr>",
                            "<tr><td>author-female</td><td>Stormy, Misty&#39;s Foal (Misty, #3)</td><td>3</td><td>3514</td></tr>",
                            "<tr><td>books-by-women</td><td>The Beet Queen</td><td>2</td><td>5129</td></tr>",
                            "<tr><td>books-by-women</td><td>The Moonlit Garden</td><td>2</td><td>5129</td></tr>",
                            "<tr><td>author-female</td><td>Grace (Eventually): Thoughts on Faith</td><td>2</td><td>3514</td></tr>",
                            "<tr><td>books-by-women</td><td>It Chooses You</td><td>2</td><td>5129</td></tr>",
                            "<tr><td>books-by-women</td><td>Kare Kano: His and Her Circumstances, Vol. 1</td><td>2</td><td>5129</td></tr>",
                            "<tr><td>author-female</td><td>Millennium Snow, Vol. 1</td><td>2</td><td>3514</td></tr>",
                            "<tr><td>author-female</td><td>Beauty Pop, Vol. 1 (Beauty Pop, #1)</td><td>2</td><td>3514</td></tr>",
                            "<tr><td>author-female</td><td>Belinda</td><td>2</td><td>3514</td></tr>",
                            "<tr><td>author-female</td><td>Boys Over Flowers: Hana Yori Dango, Vol. 1 (Boys Over Flowers, #1)</td><td>2</td><td>3514</td></tr>",
                            "</table>"
                        ]
                    }
                }
            ],
            "execution_count": 37
        },
        {
            "cell_type": "markdown",
            "source": [
                "### **Write a query to return authors, titles, ratings and** **selected tag(s)\\_id.**"
            ],
            "metadata": {
                "azdata_cell_guid": "59b84464-c0bc-4dac-9e02-0c803765b063"
            },
            "attachments": {}
        },
        {
            "cell_type": "code",
            "source": [
                "-- Solution\r\n",
                "\r\n",
                "SELECT b.authors, b.title, b.average_rating, SUM(bt.count) AS total_count, bt.tag_id\r\n",
                "FROM BooksDB.dbo.books AS b\r\n",
                "JOIN BooksDB.dbo.book_tags AS bt ON b.best_book_id = bt.goodreads_book_id\r\n",
                "GROUP BY bt.tag_id, b.authors, b.title, b.average_rating, bt.tag_id\r\n",
                "HAVING bt.tag_id = 6038 OR bt.tag_id = 5129 --bt.tag_id = 11644 \r\n",
                "ORDER BY total_count DESC;"
            ],
            "metadata": {
                "azdata_cell_guid": "51ffeaaf-6dde-4906-95f3-eb8757babf27",
                "tags": [],
                "language": "sql"
            },
            "outputs": [
                {
                    "output_type": "display_data",
                    "data": {
                        "text/html": "(11 rows affected)"
                    },
                    "metadata": {}
                },
                {
                    "output_type": "display_data",
                    "data": {
                        "text/html": "Total execution time: 00:00:00.146"
                    },
                    "metadata": {}
                },
                {
                    "output_type": "execute_result",
                    "metadata": {},
                    "execution_count": 30,
                    "data": {
                        "application/vnd.dataresource+json": {
                            "schema": {
                                "fields": [
                                    {
                                        "name": "authors"
                                    },
                                    {
                                        "name": "title"
                                    },
                                    {
                                        "name": "average_rating"
                                    },
                                    {
                                        "name": "total_count"
                                    },
                                    {
                                        "name": "tag_id"
                                    }
                                ]
                            },
                            "data": [
                                {
                                    "authors": "Charlotte Brontë, Lucasta Miller, collaborative, Jessica Cox",
                                    "title": "Shirley",
                                    "average_rating": "3.71",
                                    "total_count": "9",
                                    "tag_id": "6038"
                                },
                                {
                                    "authors": "Octavia E. Butler",
                                    "title": "Fledgling",
                                    "average_rating": "3.9",
                                    "total_count": "8",
                                    "tag_id": "5129"
                                },
                                {
                                    "authors": "Iris Murdoch",
                                    "title": "Under the Net",
                                    "average_rating": "3.76",
                                    "total_count": "6",
                                    "tag_id": "6038"
                                },
                                {
                                    "authors": "Iris Murdoch, Mary Kinzie",
                                    "title": "The Sea, the Sea",
                                    "average_rating": "3.9",
                                    "total_count": "5",
                                    "tag_id": "6038"
                                },
                                {
                                    "authors": "Inga Muscio, Betty Dodson",
                                    "title": "Cunt: A Declaration of Independence",
                                    "average_rating": "3.88",
                                    "total_count": "5",
                                    "tag_id": "5129"
                                },
                                {
                                    "authors": "Rachel Dratch",
                                    "title": "Girl Walks into a Bar . . .: Comedy Calamities, Dating Disasters, and a Midlife Miracle",
                                    "average_rating": "3.57",
                                    "total_count": "4",
                                    "tag_id": "5129"
                                },
                                {
                                    "authors": "Alice Walker",
                                    "title": "The Temple of My Familiar",
                                    "average_rating": "4.05",
                                    "total_count": "3",
                                    "tag_id": "6038"
                                },
                                {
                                    "authors": "Louise Erdrich",
                                    "title": "The Beet Queen",
                                    "average_rating": "3.89",
                                    "total_count": "2",
                                    "tag_id": "5129"
                                },
                                {
                                    "authors": "Masami Tsuda, Darcy Lockman, Jack Niida",
                                    "title": "Kare Kano: His and Her Circumstances, Vol. 1",
                                    "average_rating": "3.96",
                                    "total_count": "2",
                                    "tag_id": "5129"
                                },
                                {
                                    "authors": "Miranda July, Brigitte Sire",
                                    "title": "It Chooses You",
                                    "average_rating": "3.88",
                                    "total_count": "2",
                                    "tag_id": "5129"
                                },
                                {
                                    "authors": "Corina Bomann, Alison Layland",
                                    "title": "The Moonlit Garden",
                                    "average_rating": "3.74",
                                    "total_count": "2",
                                    "tag_id": "5129"
                                }
                            ]
                        },
                        "text/html": [
                            "<table>",
                            "<tr><th>authors</th><th>title</th><th>average_rating</th><th>total_count</th><th>tag_id</th></tr>",
                            "<tr><td>Charlotte Brontë, Lucasta Miller, collaborative, Jessica Cox</td><td>Shirley</td><td>3.71</td><td>9</td><td>6038</td></tr>",
                            "<tr><td>Octavia E. Butler</td><td>Fledgling</td><td>3.9</td><td>8</td><td>5129</td></tr>",
                            "<tr><td>Iris Murdoch</td><td>Under the Net</td><td>3.76</td><td>6</td><td>6038</td></tr>",
                            "<tr><td>Iris Murdoch, Mary Kinzie</td><td>The Sea, the Sea</td><td>3.9</td><td>5</td><td>6038</td></tr>",
                            "<tr><td>Inga Muscio, Betty Dodson</td><td>Cunt: A Declaration of Independence</td><td>3.88</td><td>5</td><td>5129</td></tr>",
                            "<tr><td>Rachel Dratch</td><td>Girl Walks into a Bar . . .: Comedy Calamities, Dating Disasters, and a Midlife Miracle</td><td>3.57</td><td>4</td><td>5129</td></tr>",
                            "<tr><td>Alice Walker</td><td>The Temple of My Familiar</td><td>4.05</td><td>3</td><td>6038</td></tr>",
                            "<tr><td>Louise Erdrich</td><td>The Beet Queen</td><td>3.89</td><td>2</td><td>5129</td></tr>",
                            "<tr><td>Masami Tsuda, Darcy Lockman, Jack Niida</td><td>Kare Kano: His and Her Circumstances, Vol. 1</td><td>3.96</td><td>2</td><td>5129</td></tr>",
                            "<tr><td>Miranda July, Brigitte Sire</td><td>It Chooses You</td><td>3.88</td><td>2</td><td>5129</td></tr>",
                            "<tr><td>Corina Bomann, Alison Layland</td><td>The Moonlit Garden</td><td>3.74</td><td>2</td><td>5129</td></tr>",
                            "</table>"
                        ]
                    }
                }
            ],
            "execution_count": 30
        },
        {
            "cell_type": "markdown",
            "source": [
                "### **mRecord your thoughts about why you wrote the query the way you did.**"
            ],
            "metadata": {
                "azdata_cell_guid": "1e19a72c-1bca-446b-a0c7-a8efbc35dcf1"
            },
            "attachments": {}
        },
        {
            "cell_type": "markdown",
            "source": [
                "# Part 2: Choose Another Month\n",
                "\n",
                "Choose another month and plan at least 2 events / promotions and answer the following questions.\n",
                "\n",
                "Which month did you choose?  May\n",
                "\n",
                "What 2 events / promotions are you highlighting?\n",
                "\n",
                "> 1.  Mother's Day\n",
                "\n",
                "> 1.  Memorial Day"
            ],
            "metadata": {
                "azdata_cell_guid": "3eaf376d-9de3-4553-a9d0-9caf74ee3d6a"
            },
            "attachments": {}
        },
        {
            "cell_type": "markdown",
            "source": [
                "# Part 3: Summarize your Work\n",
                "\n",
                "For each event write at least one query that joins any two tables in the BooksDB to support your choice and record you thoughts as to why you used the paticlular query. At least one of your queries needs to include a HAVING clause."
            ],
            "metadata": {
                "azdata_cell_guid": "1ba1363a-4f02-4962-a95a-93b80c5926b1"
            },
            "attachments": {}
        },
        {
            "cell_type": "code",
            "source": [
                "-- Event 1 Query\r\n",
                "\r\n",
                "SELECT *\r\n",
                "FROM booksdb.dbo.tags\r\n",
                "WHERE tag_name LIKE '%mother%';\r\n",
                "\r\n",
                "SELECT t.tag_name, b.title, SUM(bt.count) AS total_count, bt.tag_id\r\n",
                "FROM BooksDB.dbo.books AS b \r\n",
                "JOIN BooksDB.dbo.book_tags AS bt ON b.best_book_id = bt.goodreads_book_id\r\n",
                "JOIN BooksDB.dbo.tags as t on bt.tag_id = t.tag_id\r\n",
                "GROUP BY bt.tag_id, b.title, bt.tag_id, t.tag_name\r\n",
                "HAVING bt.tag_id = 20502 or bt.tag_id =20503 or bt.tag_id =20508 or bt.tag_id =20507 --or bt.tag_id =11643 (this is what I explored above)\r\n",
                "ORDER BY total_count DESC;\r\n",
                "\r\n",
                "-- the query above is displaying the tag, the title, the number of times the tag has been applied to the title, and the tag id number\r\n",
                "-- I am grabbing information from 3 tables, books, tags and book_tags"
            ],
            "metadata": {
                "azdata_cell_guid": "f50d32ce-4cb2-4af2-acb1-607777a76cf8",
                "language": "sql"
            },
            "outputs": [
                {
                    "output_type": "display_data",
                    "data": {
                        "text/html": "(26 rows affected)"
                    },
                    "metadata": {}
                },
                {
                    "output_type": "display_data",
                    "data": {
                        "text/html": "(65 rows affected)"
                    },
                    "metadata": {}
                },
                {
                    "output_type": "display_data",
                    "data": {
                        "text/html": "Total execution time: 00:00:00.486"
                    },
                    "metadata": {}
                },
                {
                    "output_type": "execute_result",
                    "metadata": {},
                    "execution_count": 42,
                    "data": {
                        "application/vnd.dataresource+json": {
                            "schema": {
                                "fields": [
                                    {
                                        "name": "tag_id"
                                    },
                                    {
                                        "name": "tag_name"
                                    }
                                ]
                            },
                            "data": [
                                {
                                    "tag_id": "2679",
                                    "tag_name": "annual-mother-s-day-call"
                                },
                                {
                                    "tag_id": "3828",
                                    "tag_name": "balance-career-amp-motherhood"
                                },
                                {
                                    "tag_id": "9111",
                                    "tag_name": "dead-mother-s-notebook-to-daughter"
                                },
                                {
                                    "tag_id": "9158",
                                    "tag_name": "death-of-mother"
                                },
                                {
                                    "tag_id": "12615",
                                    "tag_name": "from-my-mothers-shelf"
                                },
                                {
                                    "tag_id": "12971",
                                    "tag_name": "generational-mothers-daughters-rela"
                                },
                                {
                                    "tag_id": "13520",
                                    "tag_name": "grandmothers"
                                },
                                {
                                    "tag_id": "20498",
                                    "tag_name": "mother"
                                },
                                {
                                    "tag_id": "20499",
                                    "tag_name": "mother-and-daughter"
                                },
                                {
                                    "tag_id": "20500",
                                    "tag_name": "mother-daughter"
                                },
                                {
                                    "tag_id": "20501",
                                    "tag_name": "mother-daughter-book-club"
                                },
                                {
                                    "tag_id": "20502",
                                    "tag_name": "mother-daughter-relationship"
                                },
                                {
                                    "tag_id": "20503",
                                    "tag_name": "mother-daughter-relationships"
                                },
                                {
                                    "tag_id": "20504",
                                    "tag_name": "mother-goose"
                                },
                                {
                                    "tag_id": "20505",
                                    "tag_name": "mother-nature"
                                },
                                {
                                    "tag_id": "20506",
                                    "tag_name": "mother-russia"
                                },
                                {
                                    "tag_id": "20507",
                                    "tag_name": "mother-son-relationship"
                                },
                                {
                                    "tag_id": "20508",
                                    "tag_name": "motherhood"
                                },
                                {
                                    "tag_id": "20509",
                                    "tag_name": "motherhood-parenting"
                                },
                                {
                                    "tag_id": "20510",
                                    "tag_name": "mothering"
                                },
                                {
                                    "tag_id": "20511",
                                    "tag_name": "mothers"
                                },
                                {
                                    "tag_id": "20512",
                                    "tag_name": "mothers-and-daughters"
                                },
                                {
                                    "tag_id": "20513",
                                    "tag_name": "mothers-and-sons"
                                },
                                {
                                    "tag_id": "20514",
                                    "tag_name": "mothers-daughters"
                                },
                                {
                                    "tag_id": "20515",
                                    "tag_name": "mothers-sons"
                                },
                                {
                                    "tag_id": "24203",
                                    "tag_name": "pregnancy-motherhood"
                                }
                            ]
                        },
                        "text/html": [
                            "<table>",
                            "<tr><th>tag_id</th><th>tag_name</th></tr>",
                            "<tr><td>2679</td><td>annual-mother-s-day-call</td></tr>",
                            "<tr><td>3828</td><td>balance-career-amp-motherhood</td></tr>",
                            "<tr><td>9111</td><td>dead-mother-s-notebook-to-daughter</td></tr>",
                            "<tr><td>9158</td><td>death-of-mother</td></tr>",
                            "<tr><td>12615</td><td>from-my-mothers-shelf</td></tr>",
                            "<tr><td>12971</td><td>generational-mothers-daughters-rela</td></tr>",
                            "<tr><td>13520</td><td>grandmothers</td></tr>",
                            "<tr><td>20498</td><td>mother</td></tr>",
                            "<tr><td>20499</td><td>mother-and-daughter</td></tr>",
                            "<tr><td>20500</td><td>mother-daughter</td></tr>",
                            "<tr><td>20501</td><td>mother-daughter-book-club</td></tr>",
                            "<tr><td>20502</td><td>mother-daughter-relationship</td></tr>",
                            "<tr><td>20503</td><td>mother-daughter-relationships</td></tr>",
                            "<tr><td>20504</td><td>mother-goose</td></tr>",
                            "<tr><td>20505</td><td>mother-nature</td></tr>",
                            "<tr><td>20506</td><td>mother-russia</td></tr>",
                            "<tr><td>20507</td><td>mother-son-relationship</td></tr>",
                            "<tr><td>20508</td><td>motherhood</td></tr>",
                            "<tr><td>20509</td><td>motherhood-parenting</td></tr>",
                            "<tr><td>20510</td><td>mothering</td></tr>",
                            "<tr><td>20511</td><td>mothers</td></tr>",
                            "<tr><td>20512</td><td>mothers-and-daughters</td></tr>",
                            "<tr><td>20513</td><td>mothers-and-sons</td></tr>",
                            "<tr><td>20514</td><td>mothers-daughters</td></tr>",
                            "<tr><td>20515</td><td>mothers-sons</td></tr>",
                            "<tr><td>24203</td><td>pregnancy-motherhood</td></tr>",
                            "</table>"
                        ]
                    }
                },
                {
                    "output_type": "execute_result",
                    "metadata": {},
                    "execution_count": 42,
                    "data": {
                        "application/vnd.dataresource+json": {
                            "schema": {
                                "fields": [
                                    {
                                        "name": "tag_name"
                                    },
                                    {
                                        "name": "title"
                                    },
                                    {
                                        "name": "total_count"
                                    },
                                    {
                                        "name": "tag_id"
                                    }
                                ]
                            },
                            "data": [
                                {
                                    "tag_name": "motherhood",
                                    "title": "The Light Between Oceans",
                                    "total_count": "71",
                                    "tag_id": "20508"
                                },
                                {
                                    "tag_name": "motherhood",
                                    "title": "Bringing Up Bébé: One American Mother Discovers the Wisdom of French Parenting",
                                    "total_count": "40",
                                    "tag_id": "20508"
                                },
                                {
                                    "tag_name": "motherhood",
                                    "title": "What to Expect When You're Expecting",
                                    "total_count": "38",
                                    "tag_id": "20508"
                                },
                                {
                                    "tag_name": "motherhood",
                                    "title": "Ina May's Guide to Childbirth",
                                    "total_count": "31",
                                    "tag_id": "20508"
                                },
                                {
                                    "tag_name": "motherhood",
                                    "title": "Operating Instructions: A Journal of My Son's First Year",
                                    "total_count": "30",
                                    "tag_id": "20508"
                                },
                                {
                                    "tag_name": "motherhood",
                                    "title": "Little Earthquakes",
                                    "total_count": "26",
                                    "tag_id": "20508"
                                },
                                {
                                    "tag_name": "motherhood",
                                    "title": "I Don't Know How She Does It",
                                    "total_count": "21",
                                    "tag_id": "20508"
                                },
                                {
                                    "tag_name": "motherhood",
                                    "title": "Secret Daughter",
                                    "total_count": "19",
                                    "tag_id": "20508"
                                },
                                {
                                    "tag_name": "motherhood",
                                    "title": "The Happiest Baby on the Block: The New Way to Calm Crying and Help Your Newborn Baby Sleep Longer",
                                    "total_count": "19",
                                    "tag_id": "20508"
                                },
                                {
                                    "tag_name": "motherhood",
                                    "title": "The Language of Flowers",
                                    "total_count": "19",
                                    "tag_id": "20508"
                                },
                                {
                                    "tag_name": "motherhood",
                                    "title": "Belly Laughs: The Naked Truth About Pregnancy and Childbirth",
                                    "total_count": "18",
                                    "tag_id": "20508"
                                },
                                {
                                    "tag_name": "mother-daughter-relationship",
                                    "title": "One Crazy Summer (Gaither Sisters, #1)",
                                    "total_count": "17",
                                    "tag_id": "20502"
                                },
                                {
                                    "tag_name": "motherhood",
                                    "title": "How to Talk So Kids Will Listen & Listen So Kids Will Talk",
                                    "total_count": "15",
                                    "tag_id": "20508"
                                },
                                {
                                    "tag_name": "motherhood",
                                    "title": "Battle Hymn of the Tiger Mother",
                                    "total_count": "15",
                                    "tag_id": "20508"
                                },
                                {
                                    "tag_name": "mother-son-relationship",
                                    "title": "The End of Your Life Book Club",
                                    "total_count": "15",
                                    "tag_id": "20507"
                                },
                                {
                                    "tag_name": "motherhood",
                                    "title": "Please Look After Mom",
                                    "total_count": "15",
                                    "tag_id": "20508"
                                },
                                {
                                    "tag_name": "motherhood",
                                    "title": "What to Expect the First Year (What to Expect)",
                                    "total_count": "14",
                                    "tag_id": "20508"
                                },
                                {
                                    "tag_name": "motherhood",
                                    "title": "Not My Daughter",
                                    "total_count": "14",
                                    "tag_id": "20508"
                                },
                                {
                                    "tag_name": "motherhood",
                                    "title": "Baby Proof",
                                    "total_count": "14",
                                    "tag_id": "20508"
                                },
                                {
                                    "tag_name": "mother-daughter-relationships",
                                    "title": "Mennonite in a Little Black Dress: A Memoir of Going Home",
                                    "total_count": "13",
                                    "tag_id": "20503"
                                },
                                {
                                    "tag_name": "motherhood",
                                    "title": "Harvesting the Heart",
                                    "total_count": "13",
                                    "tag_id": "20508"
                                },
                                {
                                    "tag_name": "mother-daughter-relationship",
                                    "title": "Left Neglected",
                                    "total_count": "13",
                                    "tag_id": "20502"
                                },
                                {
                                    "tag_name": "motherhood",
                                    "title": "The Five Love Languages of Children",
                                    "total_count": "13",
                                    "tag_id": "20508"
                                },
                                {
                                    "tag_name": "motherhood",
                                    "title": "The Argonauts",
                                    "total_count": "13",
                                    "tag_id": "20508"
                                },
                                {
                                    "tag_name": "motherhood",
                                    "title": "The Twelve Tribes of Hattie",
                                    "total_count": "12",
                                    "tag_id": "20508"
                                },
                                {
                                    "tag_name": "motherhood",
                                    "title": "All Fall Down",
                                    "total_count": "12",
                                    "tag_id": "20508"
                                },
                                {
                                    "tag_name": "motherhood",
                                    "title": "The Hand That First Held Mine",
                                    "total_count": "11",
                                    "tag_id": "20508"
                                },
                                {
                                    "tag_name": "motherhood",
                                    "title": "Shopaholic & Baby (Shopaholic, #5)",
                                    "total_count": "11",
                                    "tag_id": "20508"
                                },
                                {
                                    "tag_name": "motherhood",
                                    "title": "Cinderella Ate My Daughter: Dispatches from the Frontlines of the New Girlie-Girl Culture",
                                    "total_count": "10",
                                    "tag_id": "20508"
                                },
                                {
                                    "tag_name": "motherhood",
                                    "title": "Dept. of Speculation",
                                    "total_count": "10",
                                    "tag_id": "20508"
                                },
                                {
                                    "tag_name": "motherhood",
                                    "title": "Glitter and Glue",
                                    "total_count": "10",
                                    "tag_id": "20508"
                                },
                                {
                                    "tag_name": "motherhood",
                                    "title": "On Becoming Baby Wise: Giving Your Infant the Gift of Nighttime Sleep",
                                    "total_count": "10",
                                    "tag_id": "20508"
                                },
                                {
                                    "tag_name": "motherhood",
                                    "title": "NurtureShock: New Thinking About Children",
                                    "total_count": "9",
                                    "tag_id": "20508"
                                },
                                {
                                    "tag_name": "mother-daughter-relationships",
                                    "title": "Battle Hymn of the Tiger Mother",
                                    "total_count": "9",
                                    "tag_id": "20503"
                                },
                                {
                                    "tag_name": "mother-daughter-relationship",
                                    "title": "Those Who Save Us",
                                    "total_count": "9",
                                    "tag_id": "20502"
                                },
                                {
                                    "tag_name": "motherhood",
                                    "title": "The Patron Saint of Liars",
                                    "total_count": "8",
                                    "tag_id": "20508"
                                },
                                {
                                    "tag_name": "motherhood",
                                    "title": "Some Assembly Required: A Journal of My Son's First Son",
                                    "total_count": "8",
                                    "tag_id": "20508"
                                },
                                {
                                    "tag_name": "mother-daughter-relationship",
                                    "title": "After",
                                    "total_count": "8",
                                    "tag_id": "20502"
                                },
                                {
                                    "tag_name": "motherhood",
                                    "title": "Babyville",
                                    "total_count": "7",
                                    "tag_id": "20508"
                                },
                                {
                                    "tag_name": "motherhood",
                                    "title": "A Window Opens",
                                    "total_count": "7",
                                    "tag_id": "20508"
                                },
                                {
                                    "tag_name": "motherhood",
                                    "title": "Belong to Me",
                                    "total_count": "7",
                                    "tag_id": "20508"
                                },
                                {
                                    "tag_name": "motherhood",
                                    "title": "Lots of Candles, Plenty of Cake",
                                    "total_count": "7",
                                    "tag_id": "20508"
                                },
                                {
                                    "tag_name": "motherhood",
                                    "title": "Love Anthony",
                                    "total_count": "7",
                                    "tag_id": "20508"
                                },
                                {
                                    "tag_name": "mother-daughter-relationships",
                                    "title": "Certain Girls (Cannie Shapiro #2)",
                                    "total_count": "7",
                                    "tag_id": "20503"
                                },
                                {
                                    "tag_name": "mother-daughter-relationship",
                                    "title": "Summer Island",
                                    "total_count": "7",
                                    "tag_id": "20502"
                                },
                                {
                                    "tag_name": "mother-daughter-relationship",
                                    "title": "Please Look After Mom",
                                    "total_count": "7",
                                    "tag_id": "20502"
                                },
                                {
                                    "tag_name": "motherhood",
                                    "title": "Then Came You",
                                    "total_count": "7",
                                    "tag_id": "20508"
                                },
                                {
                                    "tag_name": "motherhood",
                                    "title": "The Bookseller",
                                    "total_count": "6",
                                    "tag_id": "20508"
                                },
                                {
                                    "tag_name": "motherhood",
                                    "title": "Carry On, Warrior: Thoughts on Life Unarmed",
                                    "total_count": "6",
                                    "tag_id": "20508"
                                },
                                {
                                    "tag_name": "motherhood",
                                    "title": "Goodnight Nobody",
                                    "total_count": "6",
                                    "tag_id": "20508"
                                },
                                {
                                    "tag_name": "mother-daughter-relationships",
                                    "title": "A Mercy",
                                    "total_count": "6",
                                    "tag_id": "20503"
                                },
                                {
                                    "tag_name": "motherhood",
                                    "title": "Another Piece of My Heart",
                                    "total_count": "6",
                                    "tag_id": "20508"
                                },
                                {
                                    "tag_name": "mother-daughter-relationships",
                                    "title": "Her Daughter's Dream (Marta's Legacy, #2)",
                                    "total_count": "5",
                                    "tag_id": "20503"
                                },
                                {
                                    "tag_name": "motherhood",
                                    "title": "The Middle Place",
                                    "total_count": "5",
                                    "tag_id": "20508"
                                },
                                {
                                    "tag_name": "motherhood",
                                    "title": "The Prize Winner of Defiance, Ohio: How My Mother Raised 10 Kids on 25 Words or Less",
                                    "total_count": "5",
                                    "tag_id": "20508"
                                },
                                {
                                    "tag_name": "mother-daughter-relationship",
                                    "title": "The Secret Between Us",
                                    "total_count": "4",
                                    "tag_id": "20502"
                                },
                                {
                                    "tag_name": "motherhood",
                                    "title": "We Never Asked for Wings",
                                    "total_count": "4",
                                    "tag_id": "20508"
                                },
                                {
                                    "tag_name": "motherhood",
                                    "title": "Primates of Park Avenue",
                                    "total_count": "4",
                                    "tag_id": "20508"
                                },
                                {
                                    "tag_name": "mother-daughter-relationships",
                                    "title": "Home Again",
                                    "total_count": "4",
                                    "tag_id": "20503"
                                },
                                {
                                    "tag_name": "mother-daughter-relationships",
                                    "title": "Her Mother's Hope (Marta's Legacy, #1)",
                                    "total_count": "3",
                                    "tag_id": "20503"
                                },
                                {
                                    "tag_name": "mother-daughter-relationship",
                                    "title": "The Soldier's Wife",
                                    "total_count": "3",
                                    "tag_id": "20502"
                                },
                                {
                                    "tag_name": "mother-daughter-relationship",
                                    "title": "What We Keep ",
                                    "total_count": "3",
                                    "tag_id": "20502"
                                },
                                {
                                    "tag_name": "mother-son-relationship",
                                    "title": "Some Assembly Required: A Journal of My Son's First Son",
                                    "total_count": "2",
                                    "tag_id": "20507"
                                },
                                {
                                    "tag_name": "motherhood",
                                    "title": "Lies Women Believe: And the Truth that Sets Them Free",
                                    "total_count": "2",
                                    "tag_id": "20508"
                                },
                                {
                                    "tag_name": "motherhood",
                                    "title": "Happier at Home: Kiss More, Jump More, Abandon a Project, Read Samuel Johnson, and My Other Experiments in the Practice of Everyday Life",
                                    "total_count": "2",
                                    "tag_id": "20508"
                                }
                            ]
                        },
                        "text/html": [
                            "<table>",
                            "<tr><th>tag_name</th><th>title</th><th>total_count</th><th>tag_id</th></tr>",
                            "<tr><td>motherhood</td><td>The Light Between Oceans</td><td>71</td><td>20508</td></tr>",
                            "<tr><td>motherhood</td><td>Bringing Up Bébé: One American Mother Discovers the Wisdom of French Parenting</td><td>40</td><td>20508</td></tr>",
                            "<tr><td>motherhood</td><td>What to Expect When You&#39;re Expecting</td><td>38</td><td>20508</td></tr>",
                            "<tr><td>motherhood</td><td>Ina May&#39;s Guide to Childbirth</td><td>31</td><td>20508</td></tr>",
                            "<tr><td>motherhood</td><td>Operating Instructions: A Journal of My Son&#39;s First Year</td><td>30</td><td>20508</td></tr>",
                            "<tr><td>motherhood</td><td>Little Earthquakes</td><td>26</td><td>20508</td></tr>",
                            "<tr><td>motherhood</td><td>I Don&#39;t Know How She Does It</td><td>21</td><td>20508</td></tr>",
                            "<tr><td>motherhood</td><td>Secret Daughter</td><td>19</td><td>20508</td></tr>",
                            "<tr><td>motherhood</td><td>The Happiest Baby on the Block: The New Way to Calm Crying and Help Your Newborn Baby Sleep Longer</td><td>19</td><td>20508</td></tr>",
                            "<tr><td>motherhood</td><td>The Language of Flowers</td><td>19</td><td>20508</td></tr>",
                            "<tr><td>motherhood</td><td>Belly Laughs: The Naked Truth About Pregnancy and Childbirth</td><td>18</td><td>20508</td></tr>",
                            "<tr><td>mother-daughter-relationship</td><td>One Crazy Summer (Gaither Sisters, #1)</td><td>17</td><td>20502</td></tr>",
                            "<tr><td>motherhood</td><td>How to Talk So Kids Will Listen &amp; Listen So Kids Will Talk</td><td>15</td><td>20508</td></tr>",
                            "<tr><td>motherhood</td><td>Battle Hymn of the Tiger Mother</td><td>15</td><td>20508</td></tr>",
                            "<tr><td>mother-son-relationship</td><td>The End of Your Life Book Club</td><td>15</td><td>20507</td></tr>",
                            "<tr><td>motherhood</td><td>Please Look After Mom</td><td>15</td><td>20508</td></tr>",
                            "<tr><td>motherhood</td><td>What to Expect the First Year (What to Expect)</td><td>14</td><td>20508</td></tr>",
                            "<tr><td>motherhood</td><td>Not My Daughter</td><td>14</td><td>20508</td></tr>",
                            "<tr><td>motherhood</td><td>Baby Proof</td><td>14</td><td>20508</td></tr>",
                            "<tr><td>mother-daughter-relationships</td><td>Mennonite in a Little Black Dress: A Memoir of Going Home</td><td>13</td><td>20503</td></tr>",
                            "<tr><td>motherhood</td><td>Harvesting the Heart</td><td>13</td><td>20508</td></tr>",
                            "<tr><td>mother-daughter-relationship</td><td>Left Neglected</td><td>13</td><td>20502</td></tr>",
                            "<tr><td>motherhood</td><td>The Five Love Languages of Children</td><td>13</td><td>20508</td></tr>",
                            "<tr><td>motherhood</td><td>The Argonauts</td><td>13</td><td>20508</td></tr>",
                            "<tr><td>motherhood</td><td>The Twelve Tribes of Hattie</td><td>12</td><td>20508</td></tr>",
                            "<tr><td>motherhood</td><td>All Fall Down</td><td>12</td><td>20508</td></tr>",
                            "<tr><td>motherhood</td><td>The Hand That First Held Mine</td><td>11</td><td>20508</td></tr>",
                            "<tr><td>motherhood</td><td>Shopaholic &amp; Baby (Shopaholic, #5)</td><td>11</td><td>20508</td></tr>",
                            "<tr><td>motherhood</td><td>Cinderella Ate My Daughter: Dispatches from the Frontlines of the New Girlie-Girl Culture</td><td>10</td><td>20508</td></tr>",
                            "<tr><td>motherhood</td><td>Dept. of Speculation</td><td>10</td><td>20508</td></tr>",
                            "<tr><td>motherhood</td><td>Glitter and Glue</td><td>10</td><td>20508</td></tr>",
                            "<tr><td>motherhood</td><td>On Becoming Baby Wise: Giving Your Infant the Gift of Nighttime Sleep</td><td>10</td><td>20508</td></tr>",
                            "<tr><td>motherhood</td><td>NurtureShock: New Thinking About Children</td><td>9</td><td>20508</td></tr>",
                            "<tr><td>mother-daughter-relationships</td><td>Battle Hymn of the Tiger Mother</td><td>9</td><td>20503</td></tr>",
                            "<tr><td>mother-daughter-relationship</td><td>Those Who Save Us</td><td>9</td><td>20502</td></tr>",
                            "<tr><td>motherhood</td><td>The Patron Saint of Liars</td><td>8</td><td>20508</td></tr>",
                            "<tr><td>motherhood</td><td>Some Assembly Required: A Journal of My Son&#39;s First Son</td><td>8</td><td>20508</td></tr>",
                            "<tr><td>mother-daughter-relationship</td><td>After</td><td>8</td><td>20502</td></tr>",
                            "<tr><td>motherhood</td><td>Babyville</td><td>7</td><td>20508</td></tr>",
                            "<tr><td>motherhood</td><td>A Window Opens</td><td>7</td><td>20508</td></tr>",
                            "<tr><td>motherhood</td><td>Belong to Me</td><td>7</td><td>20508</td></tr>",
                            "<tr><td>motherhood</td><td>Lots of Candles, Plenty of Cake</td><td>7</td><td>20508</td></tr>",
                            "<tr><td>motherhood</td><td>Love Anthony</td><td>7</td><td>20508</td></tr>",
                            "<tr><td>mother-daughter-relationships</td><td>Certain Girls (Cannie Shapiro #2)</td><td>7</td><td>20503</td></tr>",
                            "<tr><td>mother-daughter-relationship</td><td>Summer Island</td><td>7</td><td>20502</td></tr>",
                            "<tr><td>mother-daughter-relationship</td><td>Please Look After Mom</td><td>7</td><td>20502</td></tr>",
                            "<tr><td>motherhood</td><td>Then Came You</td><td>7</td><td>20508</td></tr>",
                            "<tr><td>motherhood</td><td>The Bookseller</td><td>6</td><td>20508</td></tr>",
                            "<tr><td>motherhood</td><td>Carry On, Warrior: Thoughts on Life Unarmed</td><td>6</td><td>20508</td></tr>",
                            "<tr><td>motherhood</td><td>Goodnight Nobody</td><td>6</td><td>20508</td></tr>",
                            "<tr><td>mother-daughter-relationships</td><td>A Mercy</td><td>6</td><td>20503</td></tr>",
                            "<tr><td>motherhood</td><td>Another Piece of My Heart</td><td>6</td><td>20508</td></tr>",
                            "<tr><td>mother-daughter-relationships</td><td>Her Daughter&#39;s Dream (Marta&#39;s Legacy, #2)</td><td>5</td><td>20503</td></tr>",
                            "<tr><td>motherhood</td><td>The Middle Place</td><td>5</td><td>20508</td></tr>",
                            "<tr><td>motherhood</td><td>The Prize Winner of Defiance, Ohio: How My Mother Raised 10 Kids on 25 Words or Less</td><td>5</td><td>20508</td></tr>",
                            "<tr><td>mother-daughter-relationship</td><td>The Secret Between Us</td><td>4</td><td>20502</td></tr>",
                            "<tr><td>motherhood</td><td>We Never Asked for Wings</td><td>4</td><td>20508</td></tr>",
                            "<tr><td>motherhood</td><td>Primates of Park Avenue</td><td>4</td><td>20508</td></tr>",
                            "<tr><td>mother-daughter-relationships</td><td>Home Again</td><td>4</td><td>20503</td></tr>",
                            "<tr><td>mother-daughter-relationships</td><td>Her Mother&#39;s Hope (Marta&#39;s Legacy, #1)</td><td>3</td><td>20503</td></tr>",
                            "<tr><td>mother-daughter-relationship</td><td>The Soldier&#39;s Wife</td><td>3</td><td>20502</td></tr>",
                            "<tr><td>mother-daughter-relationship</td><td>What We Keep </td><td>3</td><td>20502</td></tr>",
                            "<tr><td>mother-son-relationship</td><td>Some Assembly Required: A Journal of My Son&#39;s First Son</td><td>2</td><td>20507</td></tr>",
                            "<tr><td>motherhood</td><td>Lies Women Believe: And the Truth that Sets Them Free</td><td>2</td><td>20508</td></tr>",
                            "<tr><td>motherhood</td><td>Happier at Home: Kiss More, Jump More, Abandon a Project, Read Samuel Johnson, and My Other Experiments in the Practice of Everyday Life</td><td>2</td><td>20508</td></tr>",
                            "</table>"
                        ]
                    }
                }
            ],
            "execution_count": 42
        },
        {
            "cell_type": "code",
            "source": [
                ""
            ],
            "metadata": {
                "azdata_cell_guid": "5606f7f2-c46b-42d3-ac64-7ae21c3394f8",
                "language": "sql"
            },
            "outputs": [],
            "execution_count": null
        },
        {
            "cell_type": "markdown",
            "source": [
                "### **Summary of event 1:**\n",
                "\n",
                "Double Click to edit."
            ],
            "metadata": {
                "azdata_cell_guid": "3bc72d4c-077b-42d3-9528-9aff8e7b6cf3"
            },
            "attachments": {}
        },
        {
            "cell_type": "code",
            "source": [
                "-- Event 2 Query\r\n",
                "\r\n",
                "\r\n",
                "SELECT *\r\n",
                "FROM booksdb.dbo.tags\r\n",
                "WHERE tag_name LIKE '%military%';\r\n",
                "\r\n",
                "SELECT *\r\n",
                "FROM booksdb.dbo.tags\r\n",
                "WHERE tag_name LIKE '%army%';\r\n",
                "\r\n",
                "SELECT top 10 t.tag_name, b.title, SUM(bt.count) AS total_count, bt.tag_id\r\n",
                "FROM BooksDB.dbo.books AS b \r\n",
                "JOIN BooksDB.dbo.book_tags AS bt ON b.best_book_id = bt.goodreads_book_id\r\n",
                "JOIN BooksDB.dbo.tags as t on bt.tag_id = t.tag_id\r\n",
                "GROUP BY bt.tag_id, b.title, bt.tag_id, t.tag_name\r\n",
                "HAVING bt.tag_id = 2921 or bt.tag_id =20074 or bt.tag_id =20075\r\n",
                "ORDER BY total_count DESC;"
            ],
            "metadata": {
                "azdata_cell_guid": "dca0a98f-065f-4b0e-9d93-fcb01cad668c",
                "language": "sql"
            },
            "outputs": [
                {
                    "output_type": "display_data",
                    "data": {
                        "text/html": "(45 rows affected)"
                    },
                    "metadata": {}
                },
                {
                    "output_type": "display_data",
                    "data": {
                        "text/html": "(5 rows affected)"
                    },
                    "metadata": {}
                },
                {
                    "output_type": "display_data",
                    "data": {
                        "text/html": "(10 rows affected)"
                    },
                    "metadata": {}
                },
                {
                    "output_type": "display_data",
                    "data": {
                        "text/html": "Total execution time: 00:00:00.373"
                    },
                    "metadata": {}
                },
                {
                    "output_type": "execute_result",
                    "metadata": {},
                    "execution_count": 55,
                    "data": {
                        "application/vnd.dataresource+json": {
                            "schema": {
                                "fields": [
                                    {
                                        "name": "tag_id"
                                    },
                                    {
                                        "name": "tag_name"
                                    }
                                ]
                            },
                            "data": [
                                {
                                    "tag_id": "6049",
                                    "tag_name": "c-adventure-military"
                                },
                                {
                                    "tag_id": "11800",
                                    "tag_name": "fiction-military"
                                },
                                {
                                    "tag_id": "14597",
                                    "tag_name": "history-military"
                                },
                                {
                                    "tag_id": "20047",
                                    "tag_name": "military"
                                },
                                {
                                    "tag_id": "20048",
                                    "tag_name": "military-academy"
                                },
                                {
                                    "tag_id": "20049",
                                    "tag_name": "military-biography"
                                },
                                {
                                    "tag_id": "20050",
                                    "tag_name": "military-books"
                                },
                                {
                                    "tag_id": "20051",
                                    "tag_name": "military-espionage"
                                },
                                {
                                    "tag_id": "20052",
                                    "tag_name": "military-fantasy"
                                },
                                {
                                    "tag_id": "20053",
                                    "tag_name": "military-fiction"
                                },
                                {
                                    "tag_id": "20054",
                                    "tag_name": "military-history"
                                },
                                {
                                    "tag_id": "20055",
                                    "tag_name": "military-history-fiction"
                                },
                                {
                                    "tag_id": "20056",
                                    "tag_name": "military-history-vietnam"
                                },
                                {
                                    "tag_id": "20057",
                                    "tag_name": "military-men"
                                },
                                {
                                    "tag_id": "20058",
                                    "tag_name": "military-non-fiction"
                                },
                                {
                                    "tag_id": "20059",
                                    "tag_name": "military-nonfiction"
                                },
                                {
                                    "tag_id": "20060",
                                    "tag_name": "military-operations"
                                },
                                {
                                    "tag_id": "20061",
                                    "tag_name": "military-or-war"
                                },
                                {
                                    "tag_id": "20062",
                                    "tag_name": "military-political-thriller"
                                },
                                {
                                    "tag_id": "20063",
                                    "tag_name": "military-romance"
                                },
                                {
                                    "tag_id": "20064",
                                    "tag_name": "military-sci-fi"
                                },
                                {
                                    "tag_id": "20065",
                                    "tag_name": "military-science-fiction"
                                },
                                {
                                    "tag_id": "20066",
                                    "tag_name": "military-scifi"
                                },
                                {
                                    "tag_id": "20067",
                                    "tag_name": "military-sf"
                                },
                                {
                                    "tag_id": "20068",
                                    "tag_name": "military-special-ops"
                                },
                                {
                                    "tag_id": "20069",
                                    "tag_name": "military-spy"
                                },
                                {
                                    "tag_id": "20070",
                                    "tag_name": "military-spy-fiction"
                                },
                                {
                                    "tag_id": "20071",
                                    "tag_name": "military-strategy"
                                },
                                {
                                    "tag_id": "20072",
                                    "tag_name": "military-thriller"
                                },
                                {
                                    "tag_id": "20073",
                                    "tag_name": "military-thrillers"
                                },
                                {
                                    "tag_id": "20074",
                                    "tag_name": "military-vietnam"
                                },
                                {
                                    "tag_id": "20075",
                                    "tag_name": "military-war"
                                },
                                {
                                    "tag_id": "20076",
                                    "tag_name": "militaryfiction"
                                },
                                {
                                    "tag_id": "20303",
                                    "tag_name": "modern-military"
                                },
                                {
                                    "tag_id": "21720",
                                    "tag_name": "non-fiction-military"
                                },
                                {
                                    "tag_id": "21794",
                                    "tag_name": "nonfiction-military"
                                },
                                {
                                    "tag_id": "26796",
                                    "tag_name": "sci-fi-military"
                                },
                                {
                                    "tag_id": "26845",
                                    "tag_name": "science-fiction-military"
                                },
                                {
                                    "tag_id": "26900",
                                    "tag_name": "scifi-military"
                                },
                                {
                                    "tag_id": "27406",
                                    "tag_name": "sf-military"
                                },
                                {
                                    "tag_id": "28475",
                                    "tag_name": "spy-military"
                                },
                                {
                                    "tag_id": "29080",
                                    "tag_name": "suspense-military"
                                },
                                {
                                    "tag_id": "30372",
                                    "tag_name": "thriller-military"
                                },
                                {
                                    "tag_id": "32132",
                                    "tag_name": "war-and-military"
                                },
                                {
                                    "tag_id": "32144",
                                    "tag_name": "war-military"
                                }
                            ]
                        },
                        "text/html": [
                            "<table>",
                            "<tr><th>tag_id</th><th>tag_name</th></tr>",
                            "<tr><td>6049</td><td>c-adventure-military</td></tr>",
                            "<tr><td>11800</td><td>fiction-military</td></tr>",
                            "<tr><td>14597</td><td>history-military</td></tr>",
                            "<tr><td>20047</td><td>military</td></tr>",
                            "<tr><td>20048</td><td>military-academy</td></tr>",
                            "<tr><td>20049</td><td>military-biography</td></tr>",
                            "<tr><td>20050</td><td>military-books</td></tr>",
                            "<tr><td>20051</td><td>military-espionage</td></tr>",
                            "<tr><td>20052</td><td>military-fantasy</td></tr>",
                            "<tr><td>20053</td><td>military-fiction</td></tr>",
                            "<tr><td>20054</td><td>military-history</td></tr>",
                            "<tr><td>20055</td><td>military-history-fiction</td></tr>",
                            "<tr><td>20056</td><td>military-history-vietnam</td></tr>",
                            "<tr><td>20057</td><td>military-men</td></tr>",
                            "<tr><td>20058</td><td>military-non-fiction</td></tr>",
                            "<tr><td>20059</td><td>military-nonfiction</td></tr>",
                            "<tr><td>20060</td><td>military-operations</td></tr>",
                            "<tr><td>20061</td><td>military-or-war</td></tr>",
                            "<tr><td>20062</td><td>military-political-thriller</td></tr>",
                            "<tr><td>20063</td><td>military-romance</td></tr>",
                            "<tr><td>20064</td><td>military-sci-fi</td></tr>",
                            "<tr><td>20065</td><td>military-science-fiction</td></tr>",
                            "<tr><td>20066</td><td>military-scifi</td></tr>",
                            "<tr><td>20067</td><td>military-sf</td></tr>",
                            "<tr><td>20068</td><td>military-special-ops</td></tr>",
                            "<tr><td>20069</td><td>military-spy</td></tr>",
                            "<tr><td>20070</td><td>military-spy-fiction</td></tr>",
                            "<tr><td>20071</td><td>military-strategy</td></tr>",
                            "<tr><td>20072</td><td>military-thriller</td></tr>",
                            "<tr><td>20073</td><td>military-thrillers</td></tr>",
                            "<tr><td>20074</td><td>military-vietnam</td></tr>",
                            "<tr><td>20075</td><td>military-war</td></tr>",
                            "<tr><td>20076</td><td>militaryfiction</td></tr>",
                            "<tr><td>20303</td><td>modern-military</td></tr>",
                            "<tr><td>21720</td><td>non-fiction-military</td></tr>",
                            "<tr><td>21794</td><td>nonfiction-military</td></tr>",
                            "<tr><td>26796</td><td>sci-fi-military</td></tr>",
                            "<tr><td>26845</td><td>science-fiction-military</td></tr>",
                            "<tr><td>26900</td><td>scifi-military</td></tr>",
                            "<tr><td>27406</td><td>sf-military</td></tr>",
                            "<tr><td>28475</td><td>spy-military</td></tr>",
                            "<tr><td>29080</td><td>suspense-military</td></tr>",
                            "<tr><td>30372</td><td>thriller-military</td></tr>",
                            "<tr><td>32132</td><td>war-and-military</td></tr>",
                            "<tr><td>32144</td><td>war-military</td></tr>",
                            "</table>"
                        ]
                    }
                },
                {
                    "output_type": "execute_result",
                    "metadata": {},
                    "execution_count": 55,
                    "data": {
                        "application/vnd.dataresource+json": {
                            "schema": {
                                "fields": [
                                    {
                                        "name": "tag_id"
                                    },
                                    {
                                        "name": "tag_name"
                                    }
                                ]
                            },
                            "data": [
                                {
                                    "tag_id": "1783",
                                    "tag_name": "after-army"
                                },
                                {
                                    "tag_id": "2921",
                                    "tag_name": "army"
                                },
                                {
                                    "tag_id": "2922",
                                    "tag_name": "army-investigators"
                                },
                                {
                                    "tag_id": "2923",
                                    "tag_name": "army-reading-list"
                                },
                                {
                                    "tag_id": "31644",
                                    "tag_name": "us-army-reading-list-2014"
                                }
                            ]
                        },
                        "text/html": [
                            "<table>",
                            "<tr><th>tag_id</th><th>tag_name</th></tr>",
                            "<tr><td>1783</td><td>after-army</td></tr>",
                            "<tr><td>2921</td><td>army</td></tr>",
                            "<tr><td>2922</td><td>army-investigators</td></tr>",
                            "<tr><td>2923</td><td>army-reading-list</td></tr>",
                            "<tr><td>31644</td><td>us-army-reading-list-2014</td></tr>",
                            "</table>"
                        ]
                    }
                },
                {
                    "output_type": "execute_result",
                    "metadata": {},
                    "execution_count": 55,
                    "data": {
                        "application/vnd.dataresource+json": {
                            "schema": {
                                "fields": [
                                    {
                                        "name": "tag_name"
                                    },
                                    {
                                        "name": "title"
                                    },
                                    {
                                        "name": "total_count"
                                    },
                                    {
                                        "name": "tag_id"
                                    }
                                ]
                            },
                            "data": [
                                {
                                    "tag_name": "army",
                                    "title": "Dear John",
                                    "total_count": "39",
                                    "tag_id": "2921"
                                },
                                {
                                    "tag_name": "military-war",
                                    "title": "Black Hawk Down",
                                    "total_count": "20",
                                    "tag_id": "20075"
                                },
                                {
                                    "tag_name": "army",
                                    "title": "Black Hawk Down",
                                    "total_count": "16",
                                    "tag_id": "2921"
                                },
                                {
                                    "tag_name": "military-war",
                                    "title": "Lone Survivor: The Eyewitness Account of Operation Redwing and the Lost Heroes of SEAL Team 10",
                                    "total_count": "16",
                                    "tag_id": "20075"
                                },
                                {
                                    "tag_name": "military-war",
                                    "title": "No Easy Day: The Firsthand Account of the Mission That Killed Osama Bin Laden",
                                    "total_count": "16",
                                    "tag_id": "20075"
                                },
                                {
                                    "tag_name": "army",
                                    "title": "The Enemy (Jack Reacher, #8)",
                                    "total_count": "14",
                                    "tag_id": "2921"
                                },
                                {
                                    "tag_name": "military-war",
                                    "title": "Matterhorn",
                                    "total_count": "14",
                                    "tag_id": "20075"
                                },
                                {
                                    "tag_name": "military-war",
                                    "title": "American Sniper: The Autobiography of the Most Lethal Sniper in U.S. Military History",
                                    "total_count": "12",
                                    "tag_id": "20075"
                                },
                                {
                                    "tag_name": "military-war",
                                    "title": "Band of Brothers: E Company, 506th Regiment, 101st Airborne from Normandy to Hitler's Eagle's Nest",
                                    "total_count": "12",
                                    "tag_id": "20075"
                                },
                                {
                                    "tag_name": "army",
                                    "title": "Something like Normal",
                                    "total_count": "12",
                                    "tag_id": "2921"
                                }
                            ]
                        },
                        "text/html": [
                            "<table>",
                            "<tr><th>tag_name</th><th>title</th><th>total_count</th><th>tag_id</th></tr>",
                            "<tr><td>army</td><td>Dear John</td><td>39</td><td>2921</td></tr>",
                            "<tr><td>military-war</td><td>Black Hawk Down</td><td>20</td><td>20075</td></tr>",
                            "<tr><td>army</td><td>Black Hawk Down</td><td>16</td><td>2921</td></tr>",
                            "<tr><td>military-war</td><td>Lone Survivor: The Eyewitness Account of Operation Redwing and the Lost Heroes of SEAL Team 10</td><td>16</td><td>20075</td></tr>",
                            "<tr><td>military-war</td><td>No Easy Day: The Firsthand Account of the Mission That Killed Osama Bin Laden</td><td>16</td><td>20075</td></tr>",
                            "<tr><td>army</td><td>The Enemy (Jack Reacher, #8)</td><td>14</td><td>2921</td></tr>",
                            "<tr><td>military-war</td><td>Matterhorn</td><td>14</td><td>20075</td></tr>",
                            "<tr><td>military-war</td><td>American Sniper: The Autobiography of the Most Lethal Sniper in U.S. Military History</td><td>12</td><td>20075</td></tr>",
                            "<tr><td>military-war</td><td>Band of Brothers: E Company, 506th Regiment, 101st Airborne from Normandy to Hitler&#39;s Eagle&#39;s Nest</td><td>12</td><td>20075</td></tr>",
                            "<tr><td>army</td><td>Something like Normal</td><td>12</td><td>2921</td></tr>",
                            "</table>"
                        ]
                    }
                }
            ],
            "execution_count": 55
        },
        {
            "cell_type": "code",
            "source": [
                ""
            ],
            "metadata": {
                "azdata_cell_guid": "3aaae3a8-eff7-4b37-8970-2d913a67239b",
                "language": "sql"
            },
            "outputs": [],
            "execution_count": null
        },
        {
            "cell_type": "markdown",
            "source": [
                "### **Summary of event 2:**\n",
                "\n",
                "Double Click to edit."
            ],
            "metadata": {
                "azdata_cell_guid": "99d518dc-cd8b-42d6-9a9d-708771c9aa99"
            },
            "attachments": {}
        }
    ]
}